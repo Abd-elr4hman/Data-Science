{
 "cells": [
  {
   "cell_type": "code",
   "execution_count": 1,
   "metadata": {
    "_cell_guid": "b1076dfc-b9ad-4769-8c92-a6c4dae69d19",
    "_uuid": "8f2839f25d086af736a60e9eeb907d3b93b6e0e5",
    "execution": {
     "iopub.execute_input": "2021-11-28T10:25:16.857459Z",
     "iopub.status.busy": "2021-11-28T10:25:16.857129Z",
     "iopub.status.idle": "2021-11-28T10:25:16.906718Z",
     "shell.execute_reply": "2021-11-28T10:25:16.906057Z",
     "shell.execute_reply.started": "2021-11-28T10:25:16.857371Z"
    }
   },
   "outputs": [],
   "source": [
    "# This Python 3 environment comes with many helpful analytics libraries installed\n",
    "# It is defined by the kaggle/python Docker image: https://github.com/kaggle/docker-python\n",
    "# For example, here's several helpful packages to load\n",
    "\n",
    "import numpy as np # linear algebra\n",
    "import pandas as pd # data processing, CSV file I/O (e.g. pd.read_csv)\n",
    "\n",
    "# Input data files are available in the read-only \"../input/\" directory\n",
    "# For example, running this (by clicking run or pressing Shift+Enter) will list all files under the input directory\n",
    "\n",
    "import os\n",
    "for dirname, _, filenames in os.walk('/kaggle/input'):\n",
    "    for filename in filenames:\n",
    "        print(os.path.join(dirname, filename))\n",
    "\n",
    "# You can write up to 20GB to the current directory (/kaggle/working/) that gets preserved as output when you create a version using \"Save & Run All\" \n",
    "# You can also write temporary files to /kaggle/temp/, but they won't be saved outside of the current session"
   ]
  },
  {
   "cell_type": "code",
   "execution_count": 2,
   "metadata": {
    "execution": {
     "iopub.execute_input": "2021-11-28T10:25:17.967774Z",
     "iopub.status.busy": "2021-11-28T10:25:17.967237Z",
     "iopub.status.idle": "2021-11-28T10:25:17.971920Z",
     "shell.execute_reply": "2021-11-28T10:25:17.970835Z",
     "shell.execute_reply.started": "2021-11-28T10:25:17.967738Z"
    }
   },
   "outputs": [],
   "source": [
    "import re"
   ]
  },
  {
   "cell_type": "markdown",
   "metadata": {},
   "source": [
    "# Eda on the toxic classification data"
   ]
  },
  {
   "cell_type": "code",
   "execution_count": 3,
   "metadata": {
    "execution": {
     "iopub.execute_input": "2021-11-28T10:25:18.296957Z",
     "iopub.status.busy": "2021-11-28T10:25:18.296736Z",
     "iopub.status.idle": "2021-11-28T10:25:20.131002Z",
     "shell.execute_reply": "2021-11-28T10:25:20.130345Z",
     "shell.execute_reply.started": "2021-11-28T10:25:18.296932Z"
    }
   },
   "outputs": [],
   "source": [
    "df= pd.read_csv('../input/jigsaw-toxic-comment-classification-challenge/train.csv')\n",
    "df.head()"
   ]
  },
  {
   "cell_type": "code",
   "execution_count": 4,
   "metadata": {
    "execution": {
     "iopub.execute_input": "2021-11-28T10:25:20.132901Z",
     "iopub.status.busy": "2021-11-28T10:25:20.132656Z",
     "iopub.status.idle": "2021-11-28T10:25:20.154885Z",
     "shell.execute_reply": "2021-11-28T10:25:20.154261Z",
     "shell.execute_reply.started": "2021-11-28T10:25:20.132868Z"
    }
   },
   "outputs": [],
   "source": [
    "df[df['identity_hate']==1]"
   ]
  },
  {
   "cell_type": "code",
   "execution_count": 5,
   "metadata": {
    "execution": {
     "iopub.execute_input": "2021-11-28T10:25:20.156676Z",
     "iopub.status.busy": "2021-11-28T10:25:20.156284Z",
     "iopub.status.idle": "2021-11-28T10:25:20.413720Z",
     "shell.execute_reply": "2021-11-28T10:25:20.413035Z",
     "shell.execute_reply.started": "2021-11-28T10:25:20.156642Z"
    }
   },
   "outputs": [],
   "source": [
    "df.loc[:, 'toxic':'identity_hate'].sum(axis=0).plot(kind='bar')"
   ]
  },
  {
   "cell_type": "code",
   "execution_count": 6,
   "metadata": {
    "execution": {
     "iopub.execute_input": "2021-11-28T10:25:20.416213Z",
     "iopub.status.busy": "2021-11-28T10:25:20.415541Z",
     "iopub.status.idle": "2021-11-28T10:25:20.652290Z",
     "shell.execute_reply": "2021-11-28T10:25:20.651056Z",
     "shell.execute_reply.started": "2021-11-28T10:25:20.416173Z"
    }
   },
   "outputs": [],
   "source": [
    "# distribution of data\n",
    "df.loc[:, 'toxic':'identity_hate'].sum(axis=1).hist()"
   ]
  },
  {
   "cell_type": "code",
   "execution_count": 7,
   "metadata": {
    "execution": {
     "iopub.execute_input": "2021-11-28T10:25:20.653794Z",
     "iopub.status.busy": "2021-11-28T10:25:20.653482Z",
     "iopub.status.idle": "2021-11-28T10:25:20.662857Z",
     "shell.execute_reply": "2021-11-28T10:25:20.662014Z",
     "shell.execute_reply.started": "2021-11-28T10:25:20.653758Z"
    }
   },
   "outputs": [],
   "source": [
    "# wietghting the categories\n",
    "df['severe_toxic'] = df.severe_toxic *3\n",
    "df['threat'] = df.threat *2\n",
    "'''\n",
    "df['severe_toxic'] = df.severe_toxic +9\n",
    "df['obscene'] = df.obscene +9\n",
    "df['threat'] = df.threat +9\n",
    "df['insult'] = df.insult +9\n",
    "df['identity_hate'] = df.identity_hate +9 \n",
    "'''"
   ]
  },
  {
   "cell_type": "code",
   "execution_count": 8,
   "metadata": {
    "execution": {
     "iopub.execute_input": "2021-11-28T10:25:20.665230Z",
     "iopub.status.busy": "2021-11-28T10:25:20.665031Z",
     "iopub.status.idle": "2021-11-28T10:25:20.686844Z",
     "shell.execute_reply": "2021-11-28T10:25:20.686158Z",
     "shell.execute_reply.started": "2021-11-28T10:25:20.665207Z"
    }
   },
   "outputs": [],
   "source": [
    "# adding score column\n",
    "df['score']= df.loc[:, 'toxic':'identity_hate'].sum(axis=1)\n",
    "df['score']= df['score']+1\n",
    "data= df[['comment_text', 'score']]"
   ]
  },
  {
   "cell_type": "code",
   "execution_count": 9,
   "metadata": {
    "execution": {
     "iopub.execute_input": "2021-11-28T10:25:20.688253Z",
     "iopub.status.busy": "2021-11-28T10:25:20.687930Z",
     "iopub.status.idle": "2021-11-28T10:25:20.697022Z",
     "shell.execute_reply": "2021-11-28T10:25:20.696255Z",
     "shell.execute_reply.started": "2021-11-28T10:25:20.688216Z"
    }
   },
   "outputs": [],
   "source": [
    "data.head()"
   ]
  },
  {
   "cell_type": "code",
   "execution_count": 10,
   "metadata": {
    "execution": {
     "iopub.execute_input": "2021-11-28T10:25:20.699181Z",
     "iopub.status.busy": "2021-11-28T10:25:20.698660Z",
     "iopub.status.idle": "2021-11-28T10:25:21.045933Z",
     "shell.execute_reply": "2021-11-28T10:25:21.045265Z",
     "shell.execute_reply.started": "2021-11-28T10:25:20.699144Z"
    }
   },
   "outputs": [],
   "source": [
    "# distribution of data\n",
    "df['score'].hist()"
   ]
  },
  {
   "cell_type": "code",
   "execution_count": 11,
   "metadata": {
    "execution": {
     "iopub.execute_input": "2021-11-28T10:25:21.050349Z",
     "iopub.status.busy": "2021-11-28T10:25:21.049573Z",
     "iopub.status.idle": "2021-11-28T10:25:21.062323Z",
     "shell.execute_reply": "2021-11-28T10:25:21.061706Z",
     "shell.execute_reply.started": "2021-11-28T10:25:21.050296Z"
    }
   },
   "outputs": [],
   "source": [
    "# number of values for each score\n",
    "data['score'].value_counts()"
   ]
  },
  {
   "cell_type": "code",
   "execution_count": 12,
   "metadata": {
    "execution": {
     "iopub.execute_input": "2021-11-28T10:25:21.068981Z",
     "iopub.status.busy": "2021-11-28T10:25:21.068453Z",
     "iopub.status.idle": "2021-11-28T10:25:21.114863Z",
     "shell.execute_reply": "2021-11-28T10:25:21.114225Z",
     "shell.execute_reply.started": "2021-11-28T10:25:21.068944Z"
    }
   },
   "outputs": [],
   "source": [
    "\n",
    "# samling from the neutral exaples\n",
    "data = pd.concat([data[data.score>1] , \n",
    "                data[data.score==1].sample(int(len(data[data.score>1])*1.5)) ], axis=0).sample(frac=1)\n",
    "\n",
    "print(data.shape)\n"
   ]
  },
  {
   "cell_type": "code",
   "execution_count": 13,
   "metadata": {
    "execution": {
     "iopub.execute_input": "2021-11-28T10:25:21.119019Z",
     "iopub.status.busy": "2021-11-28T10:25:21.118272Z",
     "iopub.status.idle": "2021-11-28T10:25:21.127108Z",
     "shell.execute_reply": "2021-11-28T10:25:21.126293Z",
     "shell.execute_reply.started": "2021-11-28T10:25:21.118982Z"
    }
   },
   "outputs": [],
   "source": [
    "# number of values for each score\n",
    "data['score'].value_counts()"
   ]
  },
  {
   "cell_type": "code",
   "execution_count": 14,
   "metadata": {
    "execution": {
     "iopub.execute_input": "2021-11-28T10:25:21.129308Z",
     "iopub.status.busy": "2021-11-28T10:25:21.128575Z",
     "iopub.status.idle": "2021-11-28T10:25:21.431955Z",
     "shell.execute_reply": "2021-11-28T10:25:21.431329Z",
     "shell.execute_reply.started": "2021-11-28T10:25:21.129241Z"
    }
   },
   "outputs": [],
   "source": [
    "# distribution of data\n",
    "data['score'].hist()"
   ]
  },
  {
   "cell_type": "markdown",
   "metadata": {},
   "source": [
    "## Feature scaling scores"
   ]
  },
  {
   "cell_type": "code",
   "execution_count": 15,
   "metadata": {
    "execution": {
     "iopub.execute_input": "2021-11-28T10:25:21.433593Z",
     "iopub.status.busy": "2021-11-28T10:25:21.433221Z",
     "iopub.status.idle": "2021-11-28T10:25:21.438689Z",
     "shell.execute_reply": "2021-11-28T10:25:21.438072Z",
     "shell.execute_reply.started": "2021-11-28T10:25:21.433559Z"
    }
   },
   "outputs": [],
   "source": [
    "'''\n",
    "from sklearn import preprocessing\n",
    "\n",
    "x = data['score'].values.reshape(-1, 1)#returns a numpy array\n",
    "min_max_scaler = preprocessing.MinMaxScaler()\n",
    "x_scaled = min_max_scaler.fit_transform(x)\n",
    "data['score_scaled']= x_scaled\n",
    "'''"
   ]
  },
  {
   "cell_type": "code",
   "execution_count": 16,
   "metadata": {
    "execution": {
     "iopub.execute_input": "2021-11-28T10:25:21.440321Z",
     "iopub.status.busy": "2021-11-28T10:25:21.439885Z",
     "iopub.status.idle": "2021-11-28T10:25:21.448378Z",
     "shell.execute_reply": "2021-11-28T10:25:21.447438Z",
     "shell.execute_reply.started": "2021-11-28T10:25:21.440222Z"
    }
   },
   "outputs": [],
   "source": [
    "#data.head()"
   ]
  },
  {
   "cell_type": "code",
   "execution_count": 17,
   "metadata": {
    "execution": {
     "iopub.execute_input": "2021-11-28T10:25:21.450366Z",
     "iopub.status.busy": "2021-11-28T10:25:21.449916Z",
     "iopub.status.idle": "2021-11-28T10:25:21.458949Z",
     "shell.execute_reply": "2021-11-28T10:25:21.458281Z",
     "shell.execute_reply.started": "2021-11-28T10:25:21.450314Z"
    }
   },
   "outputs": [],
   "source": [
    "'''\n",
    "print(data[data['score_scaled']==1].head())\n",
    "print(data[data['score_scaled']==0].head())\n",
    "'''"
   ]
  },
  {
   "cell_type": "code",
   "execution_count": 18,
   "metadata": {
    "execution": {
     "iopub.execute_input": "2021-11-28T10:25:21.461637Z",
     "iopub.status.busy": "2021-11-28T10:25:21.461194Z",
     "iopub.status.idle": "2021-11-28T10:25:21.478174Z",
     "shell.execute_reply": "2021-11-28T10:25:21.477396Z",
     "shell.execute_reply.started": "2021-11-28T10:25:21.461603Z"
    }
   },
   "outputs": [],
   "source": [
    "'''\n",
    "print(data[data['score_scaled']>0.2].head())\n",
    "'''"
   ]
  },
  {
   "cell_type": "code",
   "execution_count": 19,
   "metadata": {
    "execution": {
     "iopub.execute_input": "2021-11-28T10:25:21.480036Z",
     "iopub.status.busy": "2021-11-28T10:25:21.479591Z",
     "iopub.status.idle": "2021-11-28T10:25:21.493144Z",
     "shell.execute_reply": "2021-11-28T10:25:21.492383Z",
     "shell.execute_reply.started": "2021-11-28T10:25:21.480003Z"
    }
   },
   "outputs": [],
   "source": [
    "'''\n",
    "# distribution of data\n",
    "data['score_scaled'].hist()\n",
    "'''"
   ]
  },
  {
   "cell_type": "code",
   "execution_count": 20,
   "metadata": {
    "execution": {
     "iopub.execute_input": "2021-11-28T10:25:24.461700Z",
     "iopub.status.busy": "2021-11-28T10:25:24.461164Z",
     "iopub.status.idle": "2021-11-28T10:25:24.466812Z",
     "shell.execute_reply": "2021-11-28T10:25:24.466057Z",
     "shell.execute_reply.started": "2021-11-28T10:25:24.461661Z"
    }
   },
   "outputs": [],
   "source": [
    "'''\n",
    "# number of values for each score\n",
    "data['score_scaled'].value_counts()\n",
    "'''"
   ]
  },
  {
   "cell_type": "markdown",
   "metadata": {},
   "source": [
    "# Eda on ruddit data"
   ]
  },
  {
   "cell_type": "code",
   "execution_count": 21,
   "metadata": {
    "execution": {
     "iopub.execute_input": "2021-11-28T10:25:25.553639Z",
     "iopub.status.busy": "2021-11-28T10:25:25.553106Z",
     "iopub.status.idle": "2021-11-28T10:25:25.630142Z",
     "shell.execute_reply": "2021-11-28T10:25:25.629405Z",
     "shell.execute_reply.started": "2021-11-28T10:25:25.553601Z"
    }
   },
   "outputs": [],
   "source": [
    "df_ = pd.read_csv(\"../input/ruddit-jigsaw-dataset/Dataset/ruddit_with_text.csv\")\n",
    "print(df_.shape)"
   ]
  },
  {
   "cell_type": "code",
   "execution_count": 22,
   "metadata": {
    "execution": {
     "iopub.execute_input": "2021-11-28T10:25:25.743691Z",
     "iopub.status.busy": "2021-11-28T10:25:25.743486Z",
     "iopub.status.idle": "2021-11-28T10:25:25.755169Z",
     "shell.execute_reply": "2021-11-28T10:25:25.754210Z",
     "shell.execute_reply.started": "2021-11-28T10:25:25.743667Z"
    }
   },
   "outputs": [],
   "source": [
    "df_.head()"
   ]
  },
  {
   "cell_type": "code",
   "execution_count": 23,
   "metadata": {
    "execution": {
     "iopub.execute_input": "2021-11-28T10:25:25.928485Z",
     "iopub.status.busy": "2021-11-28T10:25:25.928056Z",
     "iopub.status.idle": "2021-11-28T10:25:25.935196Z",
     "shell.execute_reply": "2021-11-28T10:25:25.934526Z",
     "shell.execute_reply.started": "2021-11-28T10:25:25.928446Z"
    }
   },
   "outputs": [],
   "source": [
    "ruddit_data= df_[['txt', 'offensiveness_score']]"
   ]
  },
  {
   "cell_type": "code",
   "execution_count": 24,
   "metadata": {
    "execution": {
     "iopub.execute_input": "2021-11-28T10:25:26.118541Z",
     "iopub.status.busy": "2021-11-28T10:25:26.118190Z",
     "iopub.status.idle": "2021-11-28T10:25:26.128031Z",
     "shell.execute_reply": "2021-11-28T10:25:26.127239Z",
     "shell.execute_reply.started": "2021-11-28T10:25:26.118500Z"
    }
   },
   "outputs": [],
   "source": [
    "ruddit_data.head()"
   ]
  },
  {
   "cell_type": "code",
   "execution_count": 25,
   "metadata": {
    "execution": {
     "iopub.execute_input": "2021-11-28T10:25:26.298814Z",
     "iopub.status.busy": "2021-11-28T10:25:26.298252Z",
     "iopub.status.idle": "2021-11-28T10:25:26.538872Z",
     "shell.execute_reply": "2021-11-28T10:25:26.538166Z",
     "shell.execute_reply.started": "2021-11-28T10:25:26.298784Z"
    }
   },
   "outputs": [],
   "source": [
    "# distribution of data\n",
    "ruddit_data['offensiveness_score'].hist()"
   ]
  },
  {
   "cell_type": "code",
   "execution_count": 26,
   "metadata": {
    "execution": {
     "iopub.execute_input": "2021-11-28T10:25:26.540747Z",
     "iopub.status.busy": "2021-11-28T10:25:26.540495Z",
     "iopub.status.idle": "2021-11-28T10:25:26.551945Z",
     "shell.execute_reply": "2021-11-28T10:25:26.551264Z",
     "shell.execute_reply.started": "2021-11-28T10:25:26.540713Z"
    }
   },
   "outputs": [],
   "source": [
    "ruddit_data[ruddit_data['offensiveness_score'] >0.9]"
   ]
  },
  {
   "cell_type": "code",
   "execution_count": 27,
   "metadata": {
    "execution": {
     "iopub.execute_input": "2021-11-28T10:25:26.725188Z",
     "iopub.status.busy": "2021-11-28T10:25:26.724613Z",
     "iopub.status.idle": "2021-11-28T10:25:26.730974Z",
     "shell.execute_reply": "2021-11-28T10:25:26.730205Z",
     "shell.execute_reply.started": "2021-11-28T10:25:26.725158Z"
    }
   },
   "outputs": [],
   "source": [
    "ruddit_data['txt'][245]"
   ]
  },
  {
   "cell_type": "markdown",
   "metadata": {},
   "source": [
    "# Preparing data for Ridge pipeline"
   ]
  },
  {
   "cell_type": "code",
   "execution_count": 28,
   "metadata": {
    "execution": {
     "iopub.execute_input": "2021-11-28T10:25:28.598458Z",
     "iopub.status.busy": "2021-11-28T10:25:28.597906Z",
     "iopub.status.idle": "2021-11-28T10:25:29.845248Z",
     "shell.execute_reply": "2021-11-28T10:25:29.844219Z",
     "shell.execute_reply.started": "2021-11-28T10:25:28.598410Z"
    }
   },
   "outputs": [],
   "source": [
    "# stopwards\n",
    "from nltk.corpus import stopwords\n",
    "stop = stopwords.words('english')\n",
    "stop[0:5]"
   ]
  },
  {
   "cell_type": "code",
   "execution_count": 29,
   "metadata": {
    "execution": {
     "iopub.execute_input": "2021-11-28T10:25:29.847706Z",
     "iopub.status.busy": "2021-11-28T10:25:29.847426Z",
     "iopub.status.idle": "2021-11-28T10:25:29.852730Z",
     "shell.execute_reply": "2021-11-28T10:25:29.851814Z",
     "shell.execute_reply.started": "2021-11-28T10:25:29.847667Z"
    }
   },
   "outputs": [],
   "source": [
    "def clean_text(c):\n",
    "    c = re.sub(\"[^a-zA-Z0-9\\\\s]\", \"\", c)\n",
    "    c = re.sub('\\n', \" \", c)\n",
    "    c = re.sub(\"\\d\", \"\", c)\n",
    "    return c"
   ]
  },
  {
   "cell_type": "code",
   "execution_count": 30,
   "metadata": {
    "execution": {
     "iopub.execute_input": "2021-11-28T10:25:29.854568Z",
     "iopub.status.busy": "2021-11-28T10:25:29.854286Z",
     "iopub.status.idle": "2021-11-28T10:25:29.864102Z",
     "shell.execute_reply": "2021-11-28T10:25:29.863286Z",
     "shell.execute_reply.started": "2021-11-28T10:25:29.854526Z"
    }
   },
   "outputs": [],
   "source": [
    "def clean(df, column):\n",
    "    df[column]= df[column].apply(lambda c: clean_text(c))\n",
    "    df[column]= df[column].str.lower()\n",
    "    \n",
    "    # Removing stop words\n",
    "    pat = r'\\b(?:{})\\b'.format('|'.join(stop))\n",
    "    df[column] = df[column].str.replace(pat, '')\n",
    "    df[column] = df[column].str.replace(r'\\s+', ' ')\n",
    "    \n",
    "    return df "
   ]
  },
  {
   "cell_type": "code",
   "execution_count": 31,
   "metadata": {
    "execution": {
     "iopub.execute_input": "2021-11-28T10:25:30.864088Z",
     "iopub.status.busy": "2021-11-28T10:25:30.863450Z",
     "iopub.status.idle": "2021-11-28T10:25:35.745007Z",
     "shell.execute_reply": "2021-11-28T10:25:35.744279Z",
     "shell.execute_reply.started": "2021-11-28T10:25:30.864049Z"
    }
   },
   "outputs": [],
   "source": [
    "data= clean(data, 'comment_text')"
   ]
  },
  {
   "cell_type": "code",
   "execution_count": 32,
   "metadata": {
    "execution": {
     "iopub.execute_input": "2021-11-28T10:25:35.746884Z",
     "iopub.status.busy": "2021-11-28T10:25:35.746663Z",
     "iopub.status.idle": "2021-11-28T10:25:35.756403Z",
     "shell.execute_reply": "2021-11-28T10:25:35.755680Z",
     "shell.execute_reply.started": "2021-11-28T10:25:35.746854Z"
    }
   },
   "outputs": [],
   "source": [
    "data.head()"
   ]
  },
  {
   "cell_type": "markdown",
   "metadata": {},
   "source": [
    "# Preparing ruddit data"
   ]
  },
  {
   "cell_type": "code",
   "execution_count": 33,
   "metadata": {
    "execution": {
     "iopub.execute_input": "2021-11-28T10:25:35.758270Z",
     "iopub.status.busy": "2021-11-28T10:25:35.757783Z",
     "iopub.status.idle": "2021-11-28T10:25:36.162751Z",
     "shell.execute_reply": "2021-11-28T10:25:36.161895Z",
     "shell.execute_reply.started": "2021-11-28T10:25:35.758233Z"
    }
   },
   "outputs": [],
   "source": [
    "ruddit_data= clean(ruddit_data, 'txt')"
   ]
  },
  {
   "cell_type": "code",
   "execution_count": 34,
   "metadata": {
    "execution": {
     "iopub.execute_input": "2021-11-28T10:25:36.167241Z",
     "iopub.status.busy": "2021-11-28T10:25:36.165285Z",
     "iopub.status.idle": "2021-11-28T10:25:36.177810Z",
     "shell.execute_reply": "2021-11-28T10:25:36.177064Z",
     "shell.execute_reply.started": "2021-11-28T10:25:36.167212Z"
    }
   },
   "outputs": [],
   "source": [
    "ruddit_data.head()"
   ]
  },
  {
   "cell_type": "markdown",
   "metadata": {},
   "source": [
    "# Modeling"
   ]
  },
  {
   "cell_type": "code",
   "execution_count": 35,
   "metadata": {
    "execution": {
     "iopub.execute_input": "2021-11-28T10:25:36.181206Z",
     "iopub.status.busy": "2021-11-28T10:25:36.180239Z",
     "iopub.status.idle": "2021-11-28T10:25:36.187865Z",
     "shell.execute_reply": "2021-11-28T10:25:36.187091Z",
     "shell.execute_reply.started": "2021-11-28T10:25:36.181081Z"
    }
   },
   "outputs": [],
   "source": [
    "from sklearn.feature_extraction.text import TfidfVectorizer\n",
    "from sklearn.linear_model import Ridge, LinearRegression\n",
    "from sklearn.pipeline import Pipeline"
   ]
  },
  {
   "cell_type": "code",
   "execution_count": 36,
   "metadata": {
    "execution": {
     "iopub.execute_input": "2021-11-28T10:25:36.191127Z",
     "iopub.status.busy": "2021-11-28T10:25:36.190925Z",
     "iopub.status.idle": "2021-11-28T10:25:36.198600Z",
     "shell.execute_reply": "2021-11-28T10:25:36.197658Z",
     "shell.execute_reply.started": "2021-11-28T10:25:36.191104Z"
    }
   },
   "outputs": [],
   "source": [
    "pipeline = Pipeline([('vec', TfidfVectorizer(min_df= 3, max_df=0.5, analyzer = 'char_wb',stop_words={'english'}, ngram_range = (3,5))),\n",
    "                   (\"clf\", Ridge(alpha= 0.8))])"
   ]
  },
  {
   "cell_type": "code",
   "execution_count": 37,
   "metadata": {
    "execution": {
     "iopub.execute_input": "2021-11-28T10:25:36.200632Z",
     "iopub.status.busy": "2021-11-28T10:25:36.200313Z",
     "iopub.status.idle": "2021-11-28T10:26:01.492081Z",
     "shell.execute_reply": "2021-11-28T10:26:01.491384Z",
     "shell.execute_reply.started": "2021-11-28T10:25:36.200593Z"
    }
   },
   "outputs": [],
   "source": [
    "pipeline.fit(data['comment_text'], data['score'])"
   ]
  },
  {
   "cell_type": "markdown",
   "metadata": {},
   "source": [
    "# Modeling 2"
   ]
  },
  {
   "cell_type": "code",
   "execution_count": 74,
   "metadata": {
    "execution": {
     "iopub.execute_input": "2021-11-28T10:40:02.497033Z",
     "iopub.status.busy": "2021-11-28T10:40:02.496775Z",
     "iopub.status.idle": "2021-11-28T10:40:02.501644Z",
     "shell.execute_reply": "2021-11-28T10:40:02.500696Z",
     "shell.execute_reply.started": "2021-11-28T10:40:02.497000Z"
    }
   },
   "outputs": [],
   "source": [
    "import tensorflow as tf\n",
    "from tensorflow.keras.preprocessing.text import Tokenizer\n",
    "from tensorflow.keras.preprocessing.sequence import pad_sequences\n",
    "from sklearn.model_selection import train_test_split\n"
   ]
  },
  {
   "cell_type": "code",
   "execution_count": 110,
   "metadata": {
    "execution": {
     "iopub.execute_input": "2021-11-28T10:56:19.435378Z",
     "iopub.status.busy": "2021-11-28T10:56:19.435113Z",
     "iopub.status.idle": "2021-11-28T10:56:19.439879Z",
     "shell.execute_reply": "2021-11-28T10:56:19.438711Z",
     "shell.execute_reply.started": "2021-11-28T10:56:19.435328Z"
    }
   },
   "outputs": [],
   "source": [
    "vocab_size = 20000\n",
    "embedding_dim = 8\n",
    "max_length = 300\n",
    "trunc_type='post'\n",
    "oov_tok = \"<OOV>\"\n"
   ]
  },
  {
   "cell_type": "code",
   "execution_count": 111,
   "metadata": {
    "execution": {
     "iopub.execute_input": "2021-11-28T10:56:19.648249Z",
     "iopub.status.busy": "2021-11-28T10:56:19.648002Z",
     "iopub.status.idle": "2021-11-28T10:56:21.336669Z",
     "shell.execute_reply": "2021-11-28T10:56:21.335776Z",
     "shell.execute_reply.started": "2021-11-28T10:56:19.648223Z"
    }
   },
   "outputs": [],
   "source": [
    "# training data\n",
    "text= data['comment_text']\n",
    "score= data['score']\n",
    "\n",
    "toxic_data_tokenizer = Tokenizer(num_words = vocab_size, oov_token=oov_tok)\n",
    "toxic_data_tokenizer.fit_on_texts(text)"
   ]
  },
  {
   "cell_type": "code",
   "execution_count": 112,
   "metadata": {
    "execution": {
     "iopub.execute_input": "2021-11-28T10:56:21.338589Z",
     "iopub.status.busy": "2021-11-28T10:56:21.338314Z",
     "iopub.status.idle": "2021-11-28T10:56:21.346412Z",
     "shell.execute_reply": "2021-11-28T10:56:21.345639Z",
     "shell.execute_reply.started": "2021-11-28T10:56:21.338553Z"
    }
   },
   "outputs": [],
   "source": [
    "word_index = toxic_data_tokenizer.word_index\n",
    "#word_index"
   ]
  },
  {
   "cell_type": "code",
   "execution_count": 113,
   "metadata": {
    "execution": {
     "iopub.execute_input": "2021-11-28T10:56:22.891614Z",
     "iopub.status.busy": "2021-11-28T10:56:22.890939Z",
     "iopub.status.idle": "2021-11-28T10:56:24.297035Z",
     "shell.execute_reply": "2021-11-28T10:56:24.296263Z",
     "shell.execute_reply.started": "2021-11-28T10:56:22.891577Z"
    }
   },
   "outputs": [],
   "source": [
    "toxic_data_sequences = toxic_data_tokenizer.texts_to_sequences(text)\n",
    "toxic_data_padded = pad_sequences(toxic_data_sequences,maxlen=max_length, truncating=trunc_type)\n",
    "toxic_data_padded"
   ]
  },
  {
   "cell_type": "code",
   "execution_count": 114,
   "metadata": {
    "execution": {
     "iopub.execute_input": "2021-11-28T10:56:24.414268Z",
     "iopub.status.busy": "2021-11-28T10:56:24.413954Z",
     "iopub.status.idle": "2021-11-28T10:56:25.245975Z",
     "shell.execute_reply": "2021-11-28T10:56:25.245282Z",
     "shell.execute_reply.started": "2021-11-28T10:56:24.414237Z"
    }
   },
   "outputs": [],
   "source": [
    "model = tf.keras.Sequential([\n",
    "    tf.keras.layers.Embedding(vocab_size, embedding_dim, input_length=max_length),\n",
    "    tf.keras.layers.Bidirectional(tf.keras.layers.LSTM(64, return_sequences=True)),\n",
    "    tf.keras.layers.Bidirectional(tf.keras.layers.LSTM(32)),\n",
    "    tf.keras.layers.Dense(64, activation='relu'),\n",
    "    tf.keras.layers.Dense(1)\n",
    "])\n",
    "model.compile(loss='mse',optimizer='adam',metrics=['mse'])\n",
    "model.summary()"
   ]
  },
  {
   "cell_type": "code",
   "execution_count": 116,
   "metadata": {
    "execution": {
     "iopub.execute_input": "2021-11-28T10:56:35.474633Z",
     "iopub.status.busy": "2021-11-28T10:56:35.474188Z",
     "iopub.status.idle": "2021-11-28T10:59:01.595796Z",
     "shell.execute_reply": "2021-11-28T10:59:01.595087Z",
     "shell.execute_reply.started": "2021-11-28T10:56:35.474595Z"
    }
   },
   "outputs": [],
   "source": [
    "num_epochs = 2\n",
    "\n",
    "model.fit(toxic_data_padded, score,  epochs=num_epochs)"
   ]
  },
  {
   "cell_type": "markdown",
   "metadata": {},
   "source": [
    "# Ruddit data pipline"
   ]
  },
  {
   "cell_type": "code",
   "execution_count": 46,
   "metadata": {
    "execution": {
     "iopub.execute_input": "2021-11-28T10:28:13.559017Z",
     "iopub.status.busy": "2021-11-28T10:28:13.558459Z",
     "iopub.status.idle": "2021-11-28T10:28:13.563670Z",
     "shell.execute_reply": "2021-11-28T10:28:13.562819Z",
     "shell.execute_reply.started": "2021-11-28T10:28:13.558981Z"
    }
   },
   "outputs": [],
   "source": [
    "ruddit_pl = Pipeline([('vec', TfidfVectorizer(min_df= 3, max_df=0.5, analyzer = 'char_wb',stop_words={'english'}, ngram_range = (3,5))),\n",
    "                   (\"clf\", Ridge(alpha= 0.8))])"
   ]
  },
  {
   "cell_type": "code",
   "execution_count": 47,
   "metadata": {
    "execution": {
     "iopub.execute_input": "2021-11-28T10:28:13.766644Z",
     "iopub.status.busy": "2021-11-28T10:28:13.766121Z",
     "iopub.status.idle": "2021-11-28T10:28:15.460054Z",
     "shell.execute_reply": "2021-11-28T10:28:15.459308Z",
     "shell.execute_reply.started": "2021-11-28T10:28:13.766603Z"
    }
   },
   "outputs": [],
   "source": [
    "ruddit_pl.fit(ruddit_data['txt'], ruddit_data['offensiveness_score'])"
   ]
  },
  {
   "cell_type": "markdown",
   "metadata": {},
   "source": [
    "# Modeling 2 for ruddit data"
   ]
  },
  {
   "cell_type": "code",
   "execution_count": 117,
   "metadata": {
    "execution": {
     "iopub.execute_input": "2021-11-28T10:59:04.139980Z",
     "iopub.status.busy": "2021-11-28T10:59:04.139730Z",
     "iopub.status.idle": "2021-11-28T10:59:04.149851Z",
     "shell.execute_reply": "2021-11-28T10:59:04.149016Z",
     "shell.execute_reply.started": "2021-11-28T10:59:04.139951Z"
    }
   },
   "outputs": [],
   "source": [
    "df_train, df_test = train_test_split(ruddit_data, test_size=0.1)\n",
    "print(\"TRAIN size:\", df_train.shape)\n",
    "print(\"TEST size:\", df_test.shape)\n"
   ]
  },
  {
   "cell_type": "code",
   "execution_count": 118,
   "metadata": {
    "execution": {
     "iopub.execute_input": "2021-11-28T10:59:05.722793Z",
     "iopub.status.busy": "2021-11-28T10:59:05.722220Z",
     "iopub.status.idle": "2021-11-28T10:59:05.727368Z",
     "shell.execute_reply": "2021-11-28T10:59:05.726697Z",
     "shell.execute_reply.started": "2021-11-28T10:59:05.722756Z"
    }
   },
   "outputs": [],
   "source": [
    "# training data\n",
    "ruddit_text= df_train['txt']\n",
    "ruddit_score= df_train['offensiveness_score']\n",
    "\n",
    "# test_data\n",
    "ruddit_test_text= df_test['txt']\n",
    "ruddit_test_score= df_test['offensiveness_score']\n"
   ]
  },
  {
   "cell_type": "code",
   "execution_count": 119,
   "metadata": {
    "execution": {
     "iopub.execute_input": "2021-11-28T10:59:08.543741Z",
     "iopub.status.busy": "2021-11-28T10:59:08.543012Z",
     "iopub.status.idle": "2021-11-28T10:59:08.670035Z",
     "shell.execute_reply": "2021-11-28T10:59:08.669283Z",
     "shell.execute_reply.started": "2021-11-28T10:59:08.543704Z"
    }
   },
   "outputs": [],
   "source": [
    "ruddit_text_tokenizer = Tokenizer(num_words = vocab_size, oov_token=oov_tok)\n",
    "ruddit_text_tokenizer.fit_on_texts(ruddit_text)"
   ]
  },
  {
   "cell_type": "code",
   "execution_count": 120,
   "metadata": {
    "execution": {
     "iopub.execute_input": "2021-11-28T10:59:30.876692Z",
     "iopub.status.busy": "2021-11-28T10:59:30.876204Z",
     "iopub.status.idle": "2021-11-28T10:59:30.881036Z",
     "shell.execute_reply": "2021-11-28T10:59:30.880026Z",
     "shell.execute_reply.started": "2021-11-28T10:59:30.876655Z"
    }
   },
   "outputs": [],
   "source": [
    "ruddit_text_word_index = ruddit_text_tokenizer.word_index\n",
    "#word_index"
   ]
  },
  {
   "cell_type": "code",
   "execution_count": 123,
   "metadata": {
    "execution": {
     "iopub.execute_input": "2021-11-28T11:00:19.618895Z",
     "iopub.status.busy": "2021-11-28T11:00:19.618295Z",
     "iopub.status.idle": "2021-11-28T11:00:19.761141Z",
     "shell.execute_reply": "2021-11-28T11:00:19.760266Z",
     "shell.execute_reply.started": "2021-11-28T11:00:19.618856Z"
    }
   },
   "outputs": [],
   "source": [
    "ruddit_text_sequences = ruddit_text_tokenizer.texts_to_sequences(ruddit_text)\n",
    "ruddit_text_padded = pad_sequences(ruddit_text_sequences,maxlen=max_length, truncating=trunc_type)\n",
    "ruddit_text_padded"
   ]
  },
  {
   "cell_type": "code",
   "execution_count": 124,
   "metadata": {
    "execution": {
     "iopub.execute_input": "2021-11-28T11:00:59.435072Z",
     "iopub.status.busy": "2021-11-28T11:00:59.434817Z",
     "iopub.status.idle": "2021-11-28T11:00:59.459644Z",
     "shell.execute_reply": "2021-11-28T11:00:59.459003Z",
     "shell.execute_reply.started": "2021-11-28T11:00:59.435044Z"
    }
   },
   "outputs": [],
   "source": [
    "ruddit_text_testing_sequences = ruddit_text_tokenizer.texts_to_sequences(ruddit_test_text)\n",
    "ruddit_text_testing_padded = pad_sequences( ruddit_text_testing_sequences,maxlen=max_length)\n",
    "ruddit_text_testing_padded\n"
   ]
  },
  {
   "cell_type": "code",
   "execution_count": 130,
   "metadata": {
    "execution": {
     "iopub.execute_input": "2021-11-28T11:02:45.177814Z",
     "iopub.status.busy": "2021-11-28T11:02:45.177536Z",
     "iopub.status.idle": "2021-11-28T11:02:46.008497Z",
     "shell.execute_reply": "2021-11-28T11:02:46.007791Z",
     "shell.execute_reply.started": "2021-11-28T11:02:45.177783Z"
    }
   },
   "outputs": [],
   "source": [
    "ruddit_model = tf.keras.Sequential([\n",
    "    tf.keras.layers.Embedding(vocab_size, embedding_dim, input_length=max_length),\n",
    "    tf.keras.layers.Bidirectional(tf.keras.layers.LSTM(64, return_sequences=True)),\n",
    "    tf.keras.layers.Bidirectional(tf.keras.layers.LSTM(32)),\n",
    "    tf.keras.layers.Dense(64, activation='relu'),\n",
    "    tf.keras.layers.Dense(1)\n",
    "])\n",
    "ruddit_model.compile(loss='mse',optimizer='adam',metrics=['mse'])\n",
    "ruddit_model.summary()"
   ]
  },
  {
   "cell_type": "code",
   "execution_count": 131,
   "metadata": {
    "execution": {
     "iopub.execute_input": "2021-11-28T11:02:56.730418Z",
     "iopub.status.busy": "2021-11-28T11:02:56.729900Z",
     "iopub.status.idle": "2021-11-28T11:03:16.605922Z",
     "shell.execute_reply": "2021-11-28T11:03:16.605183Z",
     "shell.execute_reply.started": "2021-11-28T11:02:56.730382Z"
    }
   },
   "outputs": [],
   "source": [
    "num_epochs = 2\n",
    "\n",
    "ruddit_model.fit(ruddit_text_padded, ruddit_score,validation_data= (ruddit_text_testing_padded, ruddit_test_score), epochs=num_epochs)"
   ]
  },
  {
   "cell_type": "markdown",
   "metadata": {},
   "source": [
    "# Validation"
   ]
  },
  {
   "cell_type": "code",
   "execution_count": 69,
   "metadata": {
    "execution": {
     "iopub.execute_input": "2021-11-28T10:38:53.117509Z",
     "iopub.status.busy": "2021-11-28T10:38:53.116793Z",
     "iopub.status.idle": "2021-11-28T10:38:53.663266Z",
     "shell.execute_reply": "2021-11-28T10:38:53.662569Z",
     "shell.execute_reply.started": "2021-11-28T10:38:53.117474Z"
    }
   },
   "outputs": [],
   "source": [
    "df_val = pd.read_csv(\"../input/jigsaw-toxic-severity-rating/validation_data.csv\")\n",
    "print(df_val.shape)\n",
    "df_val.head()"
   ]
  },
  {
   "cell_type": "code",
   "execution_count": 70,
   "metadata": {
    "execution": {
     "iopub.execute_input": "2021-11-28T10:38:53.665515Z",
     "iopub.status.busy": "2021-11-28T10:38:53.665245Z",
     "iopub.status.idle": "2021-11-28T10:39:01.677827Z",
     "shell.execute_reply": "2021-11-28T10:39:01.676984Z",
     "shell.execute_reply.started": "2021-11-28T10:38:53.665479Z"
    }
   },
   "outputs": [],
   "source": [
    "df_val= clean(df_val, 'less_toxic')\n",
    "df_val= clean(df_val, 'more_toxic')"
   ]
  },
  {
   "cell_type": "code",
   "execution_count": 71,
   "metadata": {
    "execution": {
     "iopub.execute_input": "2021-11-28T10:39:01.679499Z",
     "iopub.status.busy": "2021-11-28T10:39:01.679210Z",
     "iopub.status.idle": "2021-11-28T10:39:01.688973Z",
     "shell.execute_reply": "2021-11-28T10:39:01.688356Z",
     "shell.execute_reply.started": "2021-11-28T10:39:01.679455Z"
    }
   },
   "outputs": [],
   "source": [
    "df_val.head()"
   ]
  },
  {
   "cell_type": "markdown",
   "metadata": {},
   "source": [
    "## Tokenizing val text"
   ]
  },
  {
   "cell_type": "code",
   "execution_count": 82,
   "metadata": {
    "execution": {
     "iopub.execute_input": "2021-11-28T10:45:08.409173Z",
     "iopub.status.busy": "2021-11-28T10:45:08.408455Z",
     "iopub.status.idle": "2021-11-28T10:45:10.420004Z",
     "shell.execute_reply": "2021-11-28T10:45:10.419260Z",
     "shell.execute_reply.started": "2021-11-28T10:45:08.409096Z"
    }
   },
   "outputs": [],
   "source": [
    "val_less_sequences = tokenizer.texts_to_sequences(df_val['less_toxic'])\n",
    "val_less_padded = pad_sequences(val_less_sequences,maxlen=max_length)\n",
    "val_less_padded\n"
   ]
  },
  {
   "cell_type": "code",
   "execution_count": 83,
   "metadata": {
    "execution": {
     "iopub.execute_input": "2021-11-28T10:45:16.267408Z",
     "iopub.status.busy": "2021-11-28T10:45:16.266799Z",
     "iopub.status.idle": "2021-11-28T10:45:17.386032Z",
     "shell.execute_reply": "2021-11-28T10:45:17.385234Z",
     "shell.execute_reply.started": "2021-11-28T10:45:16.267367Z"
    }
   },
   "outputs": [],
   "source": [
    "val_more_sequences = tokenizer.texts_to_sequences(df_val['more_toxic'])\n",
    "val_more_padded = pad_sequences(val_more_sequences,maxlen=max_length)\n",
    "val_more_padded\n"
   ]
  },
  {
   "cell_type": "code",
   "execution_count": 133,
   "metadata": {
    "execution": {
     "iopub.execute_input": "2021-11-28T11:05:09.492745Z",
     "iopub.status.busy": "2021-11-28T11:05:09.492203Z",
     "iopub.status.idle": "2021-11-28T11:05:10.594051Z",
     "shell.execute_reply": "2021-11-28T11:05:10.593288Z",
     "shell.execute_reply.started": "2021-11-28T11:05:09.492705Z"
    }
   },
   "outputs": [],
   "source": [
    "# Ruddit toxenizer for validation\n",
    "ruddit_text_val_sequences_less = ruddit_text_tokenizer.texts_to_sequences(df_val['less_toxic'])\n",
    "ruddit_text_val_padded_less = pad_sequences(ruddit_text_val_sequences_less,maxlen=max_length, truncating=trunc_type)\n",
    "ruddit_text_val_padded_less"
   ]
  },
  {
   "cell_type": "code",
   "execution_count": 134,
   "metadata": {
    "execution": {
     "iopub.execute_input": "2021-11-28T11:05:28.693117Z",
     "iopub.status.busy": "2021-11-28T11:05:28.692852Z",
     "iopub.status.idle": "2021-11-28T11:05:29.823841Z",
     "shell.execute_reply": "2021-11-28T11:05:29.823118Z",
     "shell.execute_reply.started": "2021-11-28T11:05:28.693089Z"
    }
   },
   "outputs": [],
   "source": [
    "# Ruddit toxenizer for validation\n",
    "ruddit_text_val_sequences_more = ruddit_text_tokenizer.texts_to_sequences(df_val['more_toxic'])\n",
    "ruddit_text_val_padded_more = pad_sequences(ruddit_text_val_sequences_more,maxlen=max_length, truncating=trunc_type)\n",
    "ruddit_text_val_padded_more"
   ]
  },
  {
   "cell_type": "markdown",
   "metadata": {},
   "source": [
    "## Predictions on validation"
   ]
  },
  {
   "cell_type": "code",
   "execution_count": 72,
   "metadata": {
    "execution": {
     "iopub.execute_input": "2021-11-28T10:39:01.691620Z",
     "iopub.status.busy": "2021-11-28T10:39:01.690651Z",
     "iopub.status.idle": "2021-11-28T10:39:32.474282Z",
     "shell.execute_reply": "2021-11-28T10:39:32.473509Z",
     "shell.execute_reply.started": "2021-11-28T10:39:01.691582Z"
    }
   },
   "outputs": [],
   "source": [
    "p1 = pipeline.predict(df_val['less_toxic'])\n",
    "p2 = pipeline.predict(df_val['more_toxic'])"
   ]
  },
  {
   "cell_type": "code",
   "execution_count": 73,
   "metadata": {
    "execution": {
     "iopub.execute_input": "2021-11-28T10:39:32.475978Z",
     "iopub.status.busy": "2021-11-28T10:39:32.475728Z",
     "iopub.status.idle": "2021-11-28T10:40:02.494734Z",
     "shell.execute_reply": "2021-11-28T10:40:02.494006Z",
     "shell.execute_reply.started": "2021-11-28T10:39:32.475944Z"
    }
   },
   "outputs": [],
   "source": [
    "p3 = ruddit_pl.predict(df_val['less_toxic'])\n",
    "p4 = ruddit_pl.predict(df_val['more_toxic'])"
   ]
  },
  {
   "cell_type": "code",
   "execution_count": 84,
   "metadata": {
    "execution": {
     "iopub.execute_input": "2021-11-28T10:45:37.004412Z",
     "iopub.status.busy": "2021-11-28T10:45:37.004094Z",
     "iopub.status.idle": "2021-11-28T10:46:19.000464Z",
     "shell.execute_reply": "2021-11-28T10:46:18.999564Z",
     "shell.execute_reply.started": "2021-11-28T10:45:37.004364Z"
    }
   },
   "outputs": [],
   "source": [
    "p5 = model.predict(val_less_padded)\n",
    "p6 = model.predict(val_more_padded)"
   ]
  },
  {
   "cell_type": "code",
   "execution_count": 135,
   "metadata": {
    "execution": {
     "iopub.execute_input": "2021-11-28T11:05:47.845921Z",
     "iopub.status.busy": "2021-11-28T11:05:47.845449Z",
     "iopub.status.idle": "2021-11-28T11:06:21.410816Z",
     "shell.execute_reply": "2021-11-28T11:06:21.410077Z",
     "shell.execute_reply.started": "2021-11-28T11:05:47.845885Z"
    }
   },
   "outputs": [],
   "source": [
    "p7 = ruddit_model.predict(ruddit_text_val_padded_less)\n",
    "p8 = ruddit_model.predict(ruddit_text_val_padded_more)"
   ]
  },
  {
   "cell_type": "code",
   "execution_count": 86,
   "metadata": {
    "execution": {
     "iopub.execute_input": "2021-11-28T10:47:24.048424Z",
     "iopub.status.busy": "2021-11-28T10:47:24.048148Z",
     "iopub.status.idle": "2021-11-28T10:47:24.056127Z",
     "shell.execute_reply": "2021-11-28T10:47:24.055270Z",
     "shell.execute_reply.started": "2021-11-28T10:47:24.048395Z"
    }
   },
   "outputs": [],
   "source": [
    "print(p1.shape)\n",
    "print(p2.shape)\n",
    "print(p3.shape)\n",
    "print(p4.shape)\n",
    "print(p5.shape)\n",
    "print(p6.shape)\n",
    "print(p7.shape)\n",
    "print(p8.shape)"
   ]
  },
  {
   "cell_type": "code",
   "execution_count": 87,
   "metadata": {
    "execution": {
     "iopub.execute_input": "2021-11-28T10:48:09.617136Z",
     "iopub.status.busy": "2021-11-28T10:48:09.616862Z",
     "iopub.status.idle": "2021-11-28T10:48:09.621649Z",
     "shell.execute_reply": "2021-11-28T10:48:09.620901Z",
     "shell.execute_reply.started": "2021-11-28T10:48:09.617108Z"
    }
   },
   "outputs": [],
   "source": [
    "p5= p5.reshape((len(p3),))\n",
    "p6= p6.reshape((len(p3),))\n",
    "p7= p7.reshape((len(p3),))\n",
    "p8= p8.reshape((len(p3),))"
   ]
  },
  {
   "cell_type": "code",
   "execution_count": 88,
   "metadata": {
    "execution": {
     "iopub.execute_input": "2021-11-28T10:48:15.322319Z",
     "iopub.status.busy": "2021-11-28T10:48:15.321750Z",
     "iopub.status.idle": "2021-11-28T10:48:15.329774Z",
     "shell.execute_reply": "2021-11-28T10:48:15.328955Z",
     "shell.execute_reply.started": "2021-11-28T10:48:15.322283Z"
    }
   },
   "outputs": [],
   "source": [
    "print(p1.shape)\n",
    "print(p2.shape)\n",
    "print(p3.shape)\n",
    "print(p4.shape)\n",
    "print(p5.shape)\n",
    "print(p6.shape)\n",
    "print(p7.shape)\n",
    "print(p8.shape)"
   ]
  },
  {
   "cell_type": "code",
   "execution_count": 49,
   "metadata": {
    "execution": {
     "iopub.execute_input": "2021-11-28T05:08:36.812846Z",
     "iopub.status.busy": "2021-11-28T05:08:36.812424Z",
     "iopub.status.idle": "2021-11-28T05:08:36.825092Z",
     "shell.execute_reply": "2021-11-28T05:08:36.824133Z",
     "shell.execute_reply.started": "2021-11-28T05:08:36.812802Z"
    }
   },
   "outputs": [],
   "source": [
    "f'Validation Accuracy from Model 1 is { np.round((p1 < p2).mean() * 100,2)}'\n"
   ]
  },
  {
   "cell_type": "code",
   "execution_count": 50,
   "metadata": {
    "execution": {
     "iopub.execute_input": "2021-11-28T05:08:36.827637Z",
     "iopub.status.busy": "2021-11-28T05:08:36.827076Z",
     "iopub.status.idle": "2021-11-28T05:08:36.835437Z",
     "shell.execute_reply": "2021-11-28T05:08:36.834842Z",
     "shell.execute_reply.started": "2021-11-28T05:08:36.827591Z"
    }
   },
   "outputs": [],
   "source": [
    "f'Validation Accuracy from Model 2 is { np.round((p3 < p4).mean() * 100,2)}'"
   ]
  },
  {
   "cell_type": "code",
   "execution_count": 91,
   "metadata": {
    "execution": {
     "iopub.execute_input": "2021-11-28T10:50:41.329545Z",
     "iopub.status.busy": "2021-11-28T10:50:41.329065Z",
     "iopub.status.idle": "2021-11-28T10:50:41.335034Z",
     "shell.execute_reply": "2021-11-28T10:50:41.334370Z",
     "shell.execute_reply.started": "2021-11-28T10:50:41.329506Z"
    }
   },
   "outputs": [],
   "source": [
    "f'Validation Accuracy from Model 3 is { np.round((p5 < p6).mean() * 100,2)}'\n"
   ]
  },
  {
   "cell_type": "code",
   "execution_count": 136,
   "metadata": {
    "execution": {
     "iopub.execute_input": "2021-11-28T11:06:21.413994Z",
     "iopub.status.busy": "2021-11-28T11:06:21.413462Z",
     "iopub.status.idle": "2021-11-28T11:06:21.420565Z",
     "shell.execute_reply": "2021-11-28T11:06:21.419689Z",
     "shell.execute_reply.started": "2021-11-28T11:06:21.413953Z"
    }
   },
   "outputs": [],
   "source": [
    "f'Validation Accuracy from Model 4 is { np.round((p7 < p8).mean() * 100,2)}'\n"
   ]
  },
  {
   "cell_type": "markdown",
   "metadata": {},
   "source": [
    "# ensemble"
   ]
  },
  {
   "cell_type": "code",
   "execution_count": 52,
   "metadata": {
    "execution": {
     "iopub.execute_input": "2021-11-28T05:09:11.200265Z",
     "iopub.status.busy": "2021-11-28T05:09:11.199958Z",
     "iopub.status.idle": "2021-11-28T05:09:11.204267Z",
     "shell.execute_reply": "2021-11-28T05:09:11.203397Z",
     "shell.execute_reply.started": "2021-11-28T05:09:11.200233Z"
    }
   },
   "outputs": [],
   "source": [
    "import scipy.optimize as optimize\n",
    "import time"
   ]
  },
  {
   "cell_type": "code",
   "execution_count": 53,
   "metadata": {
    "execution": {
     "iopub.execute_input": "2021-11-28T05:09:11.394261Z",
     "iopub.status.busy": "2021-11-28T05:09:11.393807Z",
     "iopub.status.idle": "2021-11-28T05:09:11.399185Z",
     "shell.execute_reply": "2021-11-28T05:09:11.398594Z",
     "shell.execute_reply.started": "2021-11-28T05:09:11.394212Z"
    }
   },
   "outputs": [],
   "source": [
    "def timer(func):\n",
    "    def wrapper(*args, **kws):\n",
    "        st = time.time()\n",
    "        res = func(*args, **kws)\n",
    "        et = time.time()\n",
    "        tt = (et-st)/60\n",
    "        print(f'Time taken is {tt:.2f} mins')\n",
    "        return res\n",
    "    return wrapper"
   ]
  },
  {
   "cell_type": "code",
   "execution_count": 54,
   "metadata": {
    "execution": {
     "iopub.execute_input": "2021-11-28T05:09:11.630544Z",
     "iopub.status.busy": "2021-11-28T05:09:11.630142Z",
     "iopub.status.idle": "2021-11-28T05:09:11.759212Z",
     "shell.execute_reply": "2021-11-28T05:09:11.758206Z",
     "shell.execute_reply.started": "2021-11-28T05:09:11.630514Z"
    }
   },
   "outputs": [],
   "source": [
    "def optimize_wts():\n",
    "    func = lambda x: -1*(((x[0]*p1 + x[1]*p3 ) < (x[0]*p2 + x[1]*p4)).mean())\n",
    "    \n",
    "\n",
    "    rranges = (slice(0.30, 0.6, 0.015), \n",
    "               slice(0.05, 0.5, 0.015)\n",
    "              )\n",
    "    \n",
    "\n",
    "    resbrute = optimize.brute(func, \n",
    "                              rranges, \n",
    "                              #args=params, \n",
    "                              full_output=True,\n",
    "                              finish=None)\n",
    "    return resbrute\n",
    "resbrute = optimize_wts()\n",
    "\n",
    "print(resbrute[0])  # global minimum\n",
    "print(resbrute[1]*-1)  # function value at global minimum"
   ]
  },
  {
   "cell_type": "code",
   "execution_count": 55,
   "metadata": {
    "execution": {
     "iopub.execute_input": "2021-11-28T05:09:11.878777Z",
     "iopub.status.busy": "2021-11-28T05:09:11.877956Z",
     "iopub.status.idle": "2021-11-28T05:09:11.882337Z",
     "shell.execute_reply": "2021-11-28T05:09:11.881484Z",
     "shell.execute_reply.started": "2021-11-28T05:09:11.878731Z"
    }
   },
   "outputs": [],
   "source": [
    "w1,w2= resbrute[0]\n",
    "#print(best_wts)"
   ]
  },
  {
   "cell_type": "code",
   "execution_count": 64,
   "metadata": {
    "execution": {
     "iopub.execute_input": "2021-11-28T05:10:58.028193Z",
     "iopub.status.busy": "2021-11-28T05:10:58.026937Z",
     "iopub.status.idle": "2021-11-28T05:10:58.035623Z",
     "shell.execute_reply": "2021-11-28T05:10:58.035012Z",
     "shell.execute_reply.started": "2021-11-28T05:10:58.028128Z"
    }
   },
   "outputs": [],
   "source": [
    "p1_wt = w1*p1 + w2*p3 \n",
    "p2_wt = w1*p2 + w2*p4 "
   ]
  },
  {
   "cell_type": "code",
   "execution_count": 65,
   "metadata": {
    "execution": {
     "iopub.execute_input": "2021-11-28T05:10:58.818378Z",
     "iopub.status.busy": "2021-11-28T05:10:58.818054Z",
     "iopub.status.idle": "2021-11-28T05:10:58.823253Z",
     "shell.execute_reply": "2021-11-28T05:10:58.822377Z",
     "shell.execute_reply.started": "2021-11-28T05:10:58.818346Z"
    }
   },
   "outputs": [],
   "source": [
    "p1_wt_= (p1+p3)/2\n",
    "p2_wt_= (p2+p4)/2\n"
   ]
  },
  {
   "cell_type": "code",
   "execution_count": 66,
   "metadata": {
    "execution": {
     "iopub.execute_input": "2021-11-28T05:10:59.362405Z",
     "iopub.status.busy": "2021-11-28T05:10:59.361951Z",
     "iopub.status.idle": "2021-11-28T05:10:59.369235Z",
     "shell.execute_reply": "2021-11-28T05:10:59.368526Z",
     "shell.execute_reply.started": "2021-11-28T05:10:59.362372Z"
    }
   },
   "outputs": [],
   "source": [
    "f'Validation Accuracy from Model ensembel is { np.round((p1_wt < p2_wt).mean() * 100,2)}'"
   ]
  },
  {
   "cell_type": "code",
   "execution_count": 67,
   "metadata": {
    "execution": {
     "iopub.execute_input": "2021-11-28T05:10:59.595554Z",
     "iopub.status.busy": "2021-11-28T05:10:59.595231Z",
     "iopub.status.idle": "2021-11-28T05:10:59.602076Z",
     "shell.execute_reply": "2021-11-28T05:10:59.601239Z",
     "shell.execute_reply.started": "2021-11-28T05:10:59.595514Z"
    }
   },
   "outputs": [],
   "source": [
    "f'Validation Accuracy from Model ensembel is { np.round((p1_wt_ < p2_wt_).mean() * 100,2)}'"
   ]
  },
  {
   "cell_type": "markdown",
   "metadata": {},
   "source": [
    "# Test"
   ]
  },
  {
   "cell_type": "code",
   "execution_count": 68,
   "metadata": {
    "execution": {
     "iopub.execute_input": "2021-11-28T05:11:09.275841Z",
     "iopub.status.busy": "2021-11-28T05:11:09.275238Z",
     "iopub.status.idle": "2021-11-28T05:11:09.415873Z",
     "shell.execute_reply": "2021-11-28T05:11:09.414992Z",
     "shell.execute_reply.started": "2021-11-28T05:11:09.275802Z"
    }
   },
   "outputs": [],
   "source": [
    "df_sub = pd.read_csv(\"../input/jigsaw-toxic-severity-rating/comments_to_score.csv\")"
   ]
  },
  {
   "cell_type": "code",
   "execution_count": 69,
   "metadata": {
    "execution": {
     "iopub.execute_input": "2021-11-28T05:11:10.325395Z",
     "iopub.status.busy": "2021-11-28T05:11:10.324385Z",
     "iopub.status.idle": "2021-11-28T05:11:10.335359Z",
     "shell.execute_reply": "2021-11-28T05:11:10.334099Z",
     "shell.execute_reply.started": "2021-11-28T05:11:10.325347Z"
    }
   },
   "outputs": [],
   "source": [
    "df_sub.head()"
   ]
  },
  {
   "cell_type": "code",
   "execution_count": 70,
   "metadata": {
    "execution": {
     "iopub.execute_input": "2021-11-28T05:11:10.722253Z",
     "iopub.status.busy": "2021-11-28T05:11:10.721841Z",
     "iopub.status.idle": "2021-11-28T05:11:11.907787Z",
     "shell.execute_reply": "2021-11-28T05:11:11.906845Z",
     "shell.execute_reply.started": "2021-11-28T05:11:10.722222Z"
    }
   },
   "outputs": [],
   "source": [
    "df_sub= clean(df_sub, 'text')"
   ]
  },
  {
   "cell_type": "code",
   "execution_count": 71,
   "metadata": {
    "execution": {
     "iopub.execute_input": "2021-11-28T05:11:11.909517Z",
     "iopub.status.busy": "2021-11-28T05:11:11.909279Z",
     "iopub.status.idle": "2021-11-28T05:11:21.632826Z",
     "shell.execute_reply": "2021-11-28T05:11:21.631914Z",
     "shell.execute_reply.started": "2021-11-28T05:11:11.909488Z"
    }
   },
   "outputs": [],
   "source": [
    "jigsaw_pred = pipeline.predict(df_sub['text'])\n",
    "ruddit_pred = ruddit_pl.predict(df_sub['text'])"
   ]
  },
  {
   "cell_type": "code",
   "execution_count": 72,
   "metadata": {
    "execution": {
     "iopub.execute_input": "2021-11-28T05:11:21.634766Z",
     "iopub.status.busy": "2021-11-28T05:11:21.634492Z",
     "iopub.status.idle": "2021-11-28T05:11:21.640367Z",
     "shell.execute_reply": "2021-11-28T05:11:21.639593Z",
     "shell.execute_reply.started": "2021-11-28T05:11:21.634733Z"
    }
   },
   "outputs": [],
   "source": [
    "df_sub['score'] = w1 * jigsaw_pred + w2 * ruddit_pred"
   ]
  },
  {
   "cell_type": "code",
   "execution_count": 73,
   "metadata": {
    "execution": {
     "iopub.execute_input": "2021-11-28T05:11:21.641773Z",
     "iopub.status.busy": "2021-11-28T05:11:21.641536Z",
     "iopub.status.idle": "2021-11-28T05:11:21.658636Z",
     "shell.execute_reply": "2021-11-28T05:11:21.657783Z",
     "shell.execute_reply.started": "2021-11-28T05:11:21.641745Z"
    }
   },
   "outputs": [],
   "source": [
    "df_sub.head()"
   ]
  },
  {
   "cell_type": "code",
   "execution_count": 74,
   "metadata": {
    "execution": {
     "iopub.execute_input": "2021-11-28T05:11:21.660869Z",
     "iopub.status.busy": "2021-11-28T05:11:21.660608Z",
     "iopub.status.idle": "2021-11-28T05:11:21.668833Z",
     "shell.execute_reply": "2021-11-28T05:11:21.667877Z",
     "shell.execute_reply.started": "2021-11-28T05:11:21.660841Z"
    }
   },
   "outputs": [],
   "source": [
    "# Cases with duplicates scores\n",
    "\n",
    "df_sub['score'].count() - df_sub['score'].nunique()"
   ]
  },
  {
   "cell_type": "code",
   "execution_count": 75,
   "metadata": {
    "execution": {
     "iopub.execute_input": "2021-11-28T05:11:21.670904Z",
     "iopub.status.busy": "2021-11-28T05:11:21.670078Z",
     "iopub.status.idle": "2021-11-28T05:11:21.680433Z",
     "shell.execute_reply": "2021-11-28T05:11:21.679514Z",
     "shell.execute_reply.started": "2021-11-28T05:11:21.670872Z"
    }
   },
   "outputs": [],
   "source": [
    "import scipy"
   ]
  },
  {
   "cell_type": "code",
   "execution_count": 76,
   "metadata": {
    "execution": {
     "iopub.execute_input": "2021-11-28T05:11:21.682510Z",
     "iopub.status.busy": "2021-11-28T05:11:21.682188Z",
     "iopub.status.idle": "2021-11-28T05:11:21.701851Z",
     "shell.execute_reply": "2021-11-28T05:11:21.701086Z",
     "shell.execute_reply.started": "2021-11-28T05:11:21.682465Z"
    }
   },
   "outputs": [],
   "source": [
    "# Rank the predictions \n",
    "\n",
    "df_sub['score']  = scipy.stats.rankdata(df_sub['score'], method='ordinal')\n",
    "\n",
    "print(df_sub['score'].rank().nunique())"
   ]
  },
  {
   "cell_type": "code",
   "execution_count": 77,
   "metadata": {
    "execution": {
     "iopub.execute_input": "2021-11-28T05:11:21.704969Z",
     "iopub.status.busy": "2021-11-28T05:11:21.703642Z",
     "iopub.status.idle": "2021-11-28T05:11:21.732391Z",
     "shell.execute_reply": "2021-11-28T05:11:21.731251Z",
     "shell.execute_reply.started": "2021-11-28T05:11:21.704920Z"
    }
   },
   "outputs": [],
   "source": [
    "df_sub[['comment_id', 'score']].to_csv(\"submission.csv\", index=False)"
   ]
  },
  {
   "cell_type": "code",
   "execution_count": 78,
   "metadata": {
    "execution": {
     "iopub.execute_input": "2021-11-28T05:11:21.736388Z",
     "iopub.status.busy": "2021-11-28T05:11:21.735665Z",
     "iopub.status.idle": "2021-11-28T05:11:21.795647Z",
     "shell.execute_reply": "2021-11-28T05:11:21.794979Z",
     "shell.execute_reply.started": "2021-11-28T05:11:21.736349Z"
    }
   },
   "outputs": [],
   "source": [
    "test = pd.read_csv('../input/jigsaw-toxic-severity-rating/comments_to_score.csv')\n",
    "test['score'] = df_sub.score.tolist()"
   ]
  },
  {
   "cell_type": "code",
   "execution_count": 79,
   "metadata": {
    "execution": {
     "iopub.execute_input": "2021-11-28T05:11:21.797448Z",
     "iopub.status.busy": "2021-11-28T05:11:21.796898Z",
     "iopub.status.idle": "2021-11-28T05:11:21.812204Z",
     "shell.execute_reply": "2021-11-28T05:11:21.811265Z",
     "shell.execute_reply.started": "2021-11-28T05:11:21.797412Z"
    }
   },
   "outputs": [],
   "source": [
    "test.sort_values('score',ascending=False).head(20)"
   ]
  },
  {
   "cell_type": "code",
   "execution_count": 80,
   "metadata": {
    "execution": {
     "iopub.execute_input": "2021-11-28T05:11:21.814737Z",
     "iopub.status.busy": "2021-11-28T05:11:21.814133Z",
     "iopub.status.idle": "2021-11-28T05:11:21.820171Z",
     "shell.execute_reply": "2021-11-28T05:11:21.819274Z",
     "shell.execute_reply.started": "2021-11-28T05:11:21.814705Z"
    }
   },
   "outputs": [],
   "source": [
    "test['text'][2733]"
   ]
  },
  {
   "cell_type": "code",
   "execution_count": 81,
   "metadata": {
    "execution": {
     "iopub.execute_input": "2021-11-28T05:11:21.822098Z",
     "iopub.status.busy": "2021-11-28T05:11:21.821274Z",
     "iopub.status.idle": "2021-11-28T05:11:21.842358Z",
     "shell.execute_reply": "2021-11-28T05:11:21.841601Z",
     "shell.execute_reply.started": "2021-11-28T05:11:21.821995Z"
    }
   },
   "outputs": [],
   "source": [
    "test.sort_values('score',ascending=True).head(20)"
   ]
  }
 ],
 "metadata": {
  "kernelspec": {
   "display_name": "Python 3 (ipykernel)",
   "language": "python",
   "name": "python3"
  },
  "language_info": {
   "codemirror_mode": {
    "name": "ipython",
    "version": 3
   },
   "file_extension": ".py",
   "mimetype": "text/x-python",
   "name": "python",
   "nbconvert_exporter": "python",
   "pygments_lexer": "ipython3",
   "version": "3.8.12"
  }
 },
 "nbformat": 4,
 "nbformat_minor": 4
}
