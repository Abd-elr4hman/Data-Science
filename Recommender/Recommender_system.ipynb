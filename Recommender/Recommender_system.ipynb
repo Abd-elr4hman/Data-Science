{
 "cells": [
  {
   "cell_type": "code",
   "execution_count": 1,
   "id": "ec914215",
   "metadata": {},
   "outputs": [],
   "source": [
    "from pyspark.sql import SparkSession\n",
    "\n",
    "from pyspark.sql.types import *\n",
    "from pyspark.sql.functions import *\n",
    "\n",
    "from pyspark.ml import Pipeline\n",
    "\n",
    "from pyspark.ml.tuning import CrossValidatorModel\n",
    "from pyspark.ml.tuning import ParamGridBuilder, CrossValidator\n",
    "\n",
    "from pyspark.ml.evaluation import RegressionEvaluator\n",
    "\n",
    "from pyspark.ml.recommendation import ALS\n",
    "\n",
    "import numpy as np\n"
   ]
  },
  {
   "cell_type": "code",
   "execution_count": 2,
   "id": "887610f6",
   "metadata": {},
   "outputs": [],
   "source": [
    "spark = SparkSession \\\n",
    "    .builder \\\n",
    "    .appName(\"Recommender\") \\\n",
    "    .getOrCreate()"
   ]
  },
  {
   "cell_type": "markdown",
   "id": "65ceb018",
   "metadata": {},
   "source": [
    "# Importing and Exploring dataset"
   ]
  },
  {
   "cell_type": "code",
   "execution_count": 3,
   "id": "db9b6df6",
   "metadata": {},
   "outputs": [],
   "source": [
    "ratings= spark.read.csv('/Users/Abdelrahman/scrape/Recommender/ml-latest-small/ratings.csv', header= True)"
   ]
  },
  {
   "cell_type": "code",
   "execution_count": 4,
   "id": "a76d0c44",
   "metadata": {},
   "outputs": [
    {
     "name": "stdout",
     "output_type": "stream",
     "text": [
      "+------+-------+------+---------+\n",
      "|userId|movieId|rating|timestamp|\n",
      "+------+-------+------+---------+\n",
      "|     1|      1|   4.0|964982703|\n",
      "|     1|      3|   4.0|964981247|\n",
      "|     1|      6|   4.0|964982224|\n",
      "|     1|     47|   5.0|964983815|\n",
      "|     1|     50|   5.0|964982931|\n",
      "|     1|     70|   3.0|964982400|\n",
      "|     1|    101|   5.0|964980868|\n",
      "|     1|    110|   4.0|964982176|\n",
      "|     1|    151|   5.0|964984041|\n",
      "|     1|    157|   5.0|964984100|\n",
      "|     1|    163|   5.0|964983650|\n",
      "|     1|    216|   5.0|964981208|\n",
      "|     1|    223|   3.0|964980985|\n",
      "|     1|    231|   5.0|964981179|\n",
      "|     1|    235|   4.0|964980908|\n",
      "|     1|    260|   5.0|964981680|\n",
      "|     1|    296|   3.0|964982967|\n",
      "|     1|    316|   3.0|964982310|\n",
      "|     1|    333|   5.0|964981179|\n",
      "|     1|    349|   4.0|964982563|\n",
      "+------+-------+------+---------+\n",
      "only showing top 20 rows\n",
      "\n"
     ]
    }
   ],
   "source": [
    "ratings.show()"
   ]
  },
  {
   "cell_type": "code",
   "execution_count": 5,
   "id": "a965dbca",
   "metadata": {},
   "outputs": [
    {
     "data": {
      "text/plain": [
       "1.6999683055613624"
      ]
     },
     "execution_count": 5,
     "metadata": {},
     "output_type": "execute_result"
    }
   ],
   "source": [
    "# calculating sparsity \n",
    "numerator= ratings.select('rating').count()\n",
    "\n",
    "num_users= ratings.select('userId').distinct().count()\n",
    "num_movies= ratings.select('movieId').distinct().count()\n",
    "\n",
    "denominator= num_users * num_movies\n",
    "\n",
    "sparsity=  ((numerator * 1.0)/denominator) * 100\n",
    "\n",
    "sparsity"
   ]
  },
  {
   "cell_type": "code",
   "execution_count": 6,
   "id": "51d164f8",
   "metadata": {},
   "outputs": [
    {
     "name": "stdout",
     "output_type": "stream",
     "text": [
      "Movie with the fewest ratings: \n",
      "+----------+\n",
      "|min(count)|\n",
      "+----------+\n",
      "|         1|\n",
      "+----------+\n",
      "\n",
      "Avg num ratings per movie: \n",
      "+------------------+\n",
      "|        avg(count)|\n",
      "+------------------+\n",
      "|10.369806663924312|\n",
      "+------------------+\n",
      "\n",
      "User with the fewest ratings: \n",
      "+----------+\n",
      "|min(count)|\n",
      "+----------+\n",
      "|        20|\n",
      "+----------+\n",
      "\n",
      "Avg num ratings per user: \n",
      "+------------------+\n",
      "|        avg(count)|\n",
      "+------------------+\n",
      "|165.30491803278687|\n",
      "+------------------+\n",
      "\n"
     ]
    }
   ],
   "source": [
    "# Min num ratings for movies\n",
    "print(\"Movie with the fewest ratings: \")\n",
    "ratings.groupBy(\"movieId\").count().select(min(\"count\")).show()\n",
    "\n",
    "# Avg num ratings per movie\n",
    "print(\"Avg num ratings per movie: \")\n",
    "ratings.groupBy(\"movieId\").count().select(avg(\"count\")).show()\n",
    "\n",
    "# Min num ratings for user\n",
    "print(\"User with the fewest ratings: \")\n",
    "ratings.groupBy(\"userId\").count().select(min(\"count\")).show()\n",
    "\n",
    "# Avg num ratings per users\n",
    "print(\"Avg num ratings per user: \")\n",
    "ratings.groupBy(\"userId\").count().select(avg(\"count\")).show()"
   ]
  },
  {
   "cell_type": "markdown",
   "id": "e1414aa5",
   "metadata": {},
   "source": [
    "# Prepairing Dataset"
   ]
  },
  {
   "cell_type": "code",
   "execution_count": 7,
   "id": "eeefb732",
   "metadata": {},
   "outputs": [
    {
     "name": "stdout",
     "output_type": "stream",
     "text": [
      "root\n",
      " |-- userId: string (nullable = true)\n",
      " |-- movieId: string (nullable = true)\n",
      " |-- rating: string (nullable = true)\n",
      " |-- timestamp: string (nullable = true)\n",
      "\n"
     ]
    }
   ],
   "source": [
    "# examining column types\n",
    "ratings.printSchema()"
   ]
  },
  {
   "cell_type": "code",
   "execution_count": 8,
   "id": "79aca2cb",
   "metadata": {},
   "outputs": [
    {
     "name": "stdout",
     "output_type": "stream",
     "text": [
      "root\n",
      " |-- userId: integer (nullable = true)\n",
      " |-- movieId: integer (nullable = true)\n",
      " |-- rating: double (nullable = true)\n",
      "\n"
     ]
    }
   ],
   "source": [
    "# converting columns to proper types\n",
    "ratings = ratings.select(ratings.userId.cast(\"integer\"), ratings.movieId.cast(\"integer\"), ratings.rating.cast(\"double\"))\n",
    "\n",
    "# examining column types again\n",
    "ratings.printSchema()"
   ]
  },
  {
   "cell_type": "code",
   "execution_count": 9,
   "id": "4d0712a4",
   "metadata": {},
   "outputs": [
    {
     "name": "stdout",
     "output_type": "stream",
     "text": [
      "+------+-------+------+\n",
      "|userId|movieId|rating|\n",
      "+------+-------+------+\n",
      "|     1|      1|   4.0|\n",
      "|     1|      3|   4.0|\n",
      "|     1|      6|   4.0|\n",
      "|     1|     47|   5.0|\n",
      "|     1|     50|   5.0|\n",
      "|     1|     70|   3.0|\n",
      "|     1|    101|   5.0|\n",
      "|     1|    110|   4.0|\n",
      "|     1|    151|   5.0|\n",
      "|     1|    157|   5.0|\n",
      "|     1|    163|   5.0|\n",
      "|     1|    216|   5.0|\n",
      "|     1|    223|   3.0|\n",
      "|     1|    231|   5.0|\n",
      "|     1|    235|   4.0|\n",
      "|     1|    260|   5.0|\n",
      "|     1|    296|   3.0|\n",
      "|     1|    316|   3.0|\n",
      "|     1|    333|   5.0|\n",
      "|     1|    349|   4.0|\n",
      "+------+-------+------+\n",
      "only showing top 20 rows\n",
      "\n"
     ]
    }
   ],
   "source": [
    "ratings.show()"
   ]
  },
  {
   "cell_type": "code",
   "execution_count": 10,
   "id": "fe7062cd",
   "metadata": {},
   "outputs": [],
   "source": [
    "# splitting data\n",
    "(train, test) = ratings.randomSplit([0.8, 0.2], seed = 1234)"
   ]
  },
  {
   "cell_type": "code",
   "execution_count": 11,
   "id": "0645278d",
   "metadata": {},
   "outputs": [
    {
     "data": {
      "text/plain": [
       "80847"
      ]
     },
     "execution_count": 11,
     "metadata": {},
     "output_type": "execute_result"
    }
   ],
   "source": [
    "train.count()"
   ]
  },
  {
   "cell_type": "markdown",
   "id": "dd0c9de7",
   "metadata": {},
   "source": [
    "# Creating check point spark context"
   ]
  },
  {
   "cell_type": "code",
   "execution_count": 12,
   "id": "46e41b62",
   "metadata": {},
   "outputs": [],
   "source": [
    "sc = spark.sparkContext\n",
    "\n",
    "sc.setCheckpointDir('checkpoint')"
   ]
  },
  {
   "cell_type": "code",
   "execution_count": 13,
   "id": "451eda61",
   "metadata": {},
   "outputs": [
    {
     "data": {
      "text/plain": [
       "DataFrame[userId: int, movieId: int, rating: double]"
      ]
     },
     "execution_count": 13,
     "metadata": {},
     "output_type": "execute_result"
    }
   ],
   "source": [
    "train.checkpoint()"
   ]
  },
  {
   "cell_type": "code",
   "execution_count": 14,
   "id": "b33bb94f",
   "metadata": {},
   "outputs": [
    {
     "name": "stdout",
     "output_type": "stream",
     "text": [
      "== Parsed Logical Plan ==\n",
      "Sample 0.0, 0.8, false, 1234\n",
      "+- Sort [userId#156 ASC NULLS FIRST, movieId#157 ASC NULLS FIRST, rating#158 ASC NULLS FIRST], false\n",
      "   +- Project [cast(userId#16 as int) AS userId#156, cast(movieId#17 as int) AS movieId#157, cast(rating#18 as double) AS rating#158]\n",
      "      +- Relation[userId#16,movieId#17,rating#18,timestamp#19] csv\n",
      "\n",
      "== Analyzed Logical Plan ==\n",
      "userId: int, movieId: int, rating: double\n",
      "Sample 0.0, 0.8, false, 1234\n",
      "+- Sort [userId#156 ASC NULLS FIRST, movieId#157 ASC NULLS FIRST, rating#158 ASC NULLS FIRST], false\n",
      "   +- Project [cast(userId#16 as int) AS userId#156, cast(movieId#17 as int) AS movieId#157, cast(rating#18 as double) AS rating#158]\n",
      "      +- Relation[userId#16,movieId#17,rating#18,timestamp#19] csv\n",
      "\n",
      "== Optimized Logical Plan ==\n",
      "Sample 0.0, 0.8, false, 1234\n",
      "+- Sort [userId#156 ASC NULLS FIRST, movieId#157 ASC NULLS FIRST, rating#158 ASC NULLS FIRST], false\n",
      "   +- Project [cast(userId#16 as int) AS userId#156, cast(movieId#17 as int) AS movieId#157, cast(rating#18 as double) AS rating#158]\n",
      "      +- Relation[userId#16,movieId#17,rating#18,timestamp#19] csv\n",
      "\n",
      "== Physical Plan ==\n",
      "*(1) Sample 0.0, 0.8, false, 1234\n",
      "+- *(1) Sort [userId#156 ASC NULLS FIRST, movieId#157 ASC NULLS FIRST, rating#158 ASC NULLS FIRST], false, 0\n",
      "   +- *(1) Project [cast(userId#16 as int) AS userId#156, cast(movieId#17 as int) AS movieId#157, cast(rating#18 as double) AS rating#158]\n",
      "      +- FileScan csv [userId#16,movieId#17,rating#18] Batched: false, DataFilters: [], Format: CSV, Location: InMemoryFileIndex[file:/Users/Abdelrahman/scrape/Recommender/ml-latest-small/ratings.csv], PartitionFilters: [], PushedFilters: [], ReadSchema: struct<userId:string,movieId:string,rating:string>\n",
      "\n"
     ]
    }
   ],
   "source": [
    "train.explain(extended=True)"
   ]
  },
  {
   "cell_type": "markdown",
   "id": "41bb6916",
   "metadata": {},
   "source": [
    "# CrossValidation and Evaluation"
   ]
  },
  {
   "cell_type": "code",
   "execution_count": 15,
   "id": "1b9109b8",
   "metadata": {},
   "outputs": [],
   "source": [
    "# instantiate an als model\n",
    "als = ALS(userCol=\"userId\", itemCol=\"movieId\", ratingCol=\"rating\", coldStartStrategy=\"drop\", nonnegative = True, implicitPrefs = False)"
   ]
  },
  {
   "cell_type": "code",
   "execution_count": 16,
   "id": "0c3510b3",
   "metadata": {},
   "outputs": [],
   "source": [
    "# Prameter grid\n",
    "param_grid = ParamGridBuilder() \\\n",
    "            .addGrid(als.rank, [10, 50, 100]) \\\n",
    "            .addGrid(als.maxIter, [5, 50, 100]) \\\n",
    "            .addGrid(als.regParam, [.01, .05, .1, .15]) \\\n",
    "            .build()\n",
    "  "
   ]
  },
  {
   "cell_type": "code",
   "execution_count": 17,
   "id": "1dec146b",
   "metadata": {},
   "outputs": [],
   "source": [
    "# instantiate an evaluator\n",
    "evaluator = RegressionEvaluator(metricName=\"rmse\", labelCol=\"rating\", predictionCol=\"prediction\") \n"
   ]
  },
  {
   "cell_type": "code",
   "execution_count": 18,
   "id": "ac8ed27c",
   "metadata": {},
   "outputs": [],
   "source": [
    "# instantiate a CrosssValidator\n",
    "cv = CrossValidator(estimator=als, estimatorParamMaps=param_grid, evaluator=evaluator, numFolds=3)\n"
   ]
  },
  {
   "cell_type": "code",
   "execution_count": 19,
   "id": "aa86453b",
   "metadata": {},
   "outputs": [],
   "source": [
    "# Fit\n",
    "model = cv.fit(train)"
   ]
  },
  {
   "cell_type": "code",
   "execution_count": 20,
   "id": "61e506dc",
   "metadata": {},
   "outputs": [],
   "source": [
    "# Extract best model\n",
    "best_model = model.bestModel"
   ]
  },
  {
   "cell_type": "code",
   "execution_count": 21,
   "id": "0934c81f",
   "metadata": {},
   "outputs": [],
   "source": [
    "test_predictions = best_model.transform(test)"
   ]
  },
  {
   "cell_type": "code",
   "execution_count": 22,
   "id": "4e7a832a",
   "metadata": {
    "scrolled": false
   },
   "outputs": [
    {
     "name": "stdout",
     "output_type": "stream",
     "text": [
      "+------+-------+------+----------+\n",
      "|userId|movieId|rating|prediction|\n",
      "+------+-------+------+----------+\n",
      "|   597|    471|   2.0|  4.027004|\n",
      "|   436|    471|   3.0|  3.496109|\n",
      "|   218|    471|   4.0| 2.9909446|\n",
      "|   387|    471|   3.0| 3.0409868|\n",
      "|   217|    471|   2.0| 2.7600737|\n",
      "|   287|    471|   4.5| 2.7864587|\n",
      "|    32|    471|   3.0|  3.736732|\n",
      "|   260|    471|   4.5| 3.2589998|\n",
      "|   104|    471|   4.5| 3.4050958|\n",
      "|   111|   1088|   3.0| 3.2291057|\n",
      "|   177|   1088|   3.5| 3.5028057|\n",
      "|    41|   1088|   1.5| 2.5586512|\n",
      "|   387|   1088|   1.5| 2.6889942|\n",
      "|   594|   1088|   4.5| 4.3272386|\n",
      "|   307|   1088|   3.0| 2.7366014|\n",
      "|   509|   1088|   3.0|  3.089476|\n",
      "|   104|   1088|   3.0| 3.6422207|\n",
      "|   268|   1238|   5.0| 3.9473112|\n",
      "|   462|   1238|   3.5| 3.4617355|\n",
      "|   307|   1342|   2.0| 1.9624944|\n",
      "+------+-------+------+----------+\n",
      "only showing top 20 rows\n",
      "\n"
     ]
    }
   ],
   "source": [
    "test_predictions.show()"
   ]
  },
  {
   "cell_type": "code",
   "execution_count": 23,
   "id": "8969e487",
   "metadata": {},
   "outputs": [
    {
     "name": "stdout",
     "output_type": "stream",
     "text": [
      "0.871160036601722\n"
     ]
    }
   ],
   "source": [
    "# evaluation\n",
    "RMSE = evaluator.evaluate(test_predictions)\n",
    "print(RMSE)"
   ]
  },
  {
   "cell_type": "markdown",
   "id": "9271b492",
   "metadata": {},
   "source": [
    "An RMSE of 0.87 means that on average the model predicts 0.87 above or below values of the original ratings matrix."
   ]
  }
 ],
 "metadata": {
  "kernelspec": {
   "display_name": "Python 3 (ipykernel)",
   "language": "python",
   "name": "python3"
  },
  "language_info": {
   "codemirror_mode": {
    "name": "ipython",
    "version": 3
   },
   "file_extension": ".py",
   "mimetype": "text/x-python",
   "name": "python",
   "nbconvert_exporter": "python",
   "pygments_lexer": "ipython3",
   "version": "3.7.11"
  }
 },
 "nbformat": 4,
 "nbformat_minor": 5
}
