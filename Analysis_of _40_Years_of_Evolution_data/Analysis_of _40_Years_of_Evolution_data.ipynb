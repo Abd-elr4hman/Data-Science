{
 "cells": [
  {
   "cell_type": "markdown",
   "id": "b2293fbf",
   "metadata": {},
   "source": [
    "# Dataset"
   ]
  },
  {
   "cell_type": "markdown",
   "id": "80219de0",
   "metadata": {},
   "source": [
    "\"many of the important observations that led Charles Darwin to develop the theory of evolution were made in the Galápagos archipelago.\n",
    "\n",
    "Particularly in the study of the small birds, called finches, that inhabit them. \n",
    "\n",
    "The islands are ideal for studying evolution because they are isolated so they do not have complicated effects from interactions with other species including humans. \n",
    "\n",
    "\n",
    "Furthermore, some of them are small, so entire populations can be monitored on a given island. \n",
    "\n",
    "\n",
    "Every year since 1973, Peter and Rosemary Grant of Princeton University have been spending several months of the year on the tiny volcanic cinder cone island of Daphne Major in the Galápagos.\n",
    "\n",
    "\n",
    "This island has two dominant ground finch species, Geospiza fortis and Geospiza scandens. The Grants have monitored them every year, tagging them, making physiological measurements, taking samples for genetic sequencing, and more.\n",
    "\n",
    "\n",
    "In 2014,\n",
    "they published a book entitled \"40 Years of Evolution: Darwin's Finches on Daphne Major Island\". They generously placed all of their data on the Dryad data repository making it free for anyone to use. The data set is impressive and a great set for using data science and statistical inference to learn about evolution.\" \n",
    "Justin Bois-Lecturer at the California Institute of Technology"
   ]
  },
  {
   "cell_type": "markdown",
   "id": "0da8ffe9",
   "metadata": {},
   "source": [
    "## Citation\n",
    "Grant, Peter R.; Grant, B. Rosemary (2013), Data from: 40 years of evolution. Darwin's finches on Daphne Major Island, Dryad, Dataset, https://doi.org/10.5061/dryad.g6g3h"
   ]
  },
  {
   "cell_type": "markdown",
   "id": "fe94fd3e",
   "metadata": {},
   "source": [
    "This analysis was carried out as part of datacamp guided course: Statistical Thinking in Python"
   ]
  },
  {
   "cell_type": "markdown",
   "id": "eaacaaa8",
   "metadata": {},
   "source": [
    "# Data importing"
   ]
  },
  {
   "cell_type": "code",
   "execution_count": 1,
   "id": "7a7e5cd9",
   "metadata": {},
   "outputs": [],
   "source": [
    "import pandas as pd\n",
    "import numpy as np\n",
    "import matplotlib.pyplot as plt\n",
    "import seaborn as sns"
   ]
  },
  {
   "cell_type": "code",
   "execution_count": 2,
   "id": "3701f633",
   "metadata": {},
   "outputs": [],
   "source": [
    "dir= '/Users/Abdelrahman/scrape/New folder'\n",
    "\n",
    "columns= ['band', 'species', 'BL', 'BD']\n",
    "\n",
    "data_75= pd.read_csv('data_75.csv', index_col=None,names= columns, header=0, engine='python')\n",
    "data_12= pd.read_csv('data_12.csv', index_col=None,names= columns, header=0, engine='python')"
   ]
  },
  {
   "cell_type": "code",
   "execution_count": 3,
   "id": "e70c9738",
   "metadata": {},
   "outputs": [
    {
     "data": {
      "text/html": [
       "<div>\n",
       "<style scoped>\n",
       "    .dataframe tbody tr th:only-of-type {\n",
       "        vertical-align: middle;\n",
       "    }\n",
       "\n",
       "    .dataframe tbody tr th {\n",
       "        vertical-align: top;\n",
       "    }\n",
       "\n",
       "    .dataframe thead th {\n",
       "        text-align: right;\n",
       "    }\n",
       "</style>\n",
       "<table border=\"1\" class=\"dataframe\">\n",
       "  <thead>\n",
       "    <tr style=\"text-align: right;\">\n",
       "      <th></th>\n",
       "      <th>band</th>\n",
       "      <th>species</th>\n",
       "      <th>BL</th>\n",
       "      <th>BD</th>\n",
       "      <th>year</th>\n",
       "    </tr>\n",
       "  </thead>\n",
       "  <tbody>\n",
       "    <tr>\n",
       "      <th>0</th>\n",
       "      <td>2</td>\n",
       "      <td>fortis</td>\n",
       "      <td>9.4</td>\n",
       "      <td>8.0</td>\n",
       "      <td>1975</td>\n",
       "    </tr>\n",
       "    <tr>\n",
       "      <th>1</th>\n",
       "      <td>9</td>\n",
       "      <td>fortis</td>\n",
       "      <td>9.2</td>\n",
       "      <td>8.3</td>\n",
       "      <td>1975</td>\n",
       "    </tr>\n",
       "    <tr>\n",
       "      <th>2</th>\n",
       "      <td>12</td>\n",
       "      <td>fortis</td>\n",
       "      <td>9.5</td>\n",
       "      <td>7.5</td>\n",
       "      <td>1975</td>\n",
       "    </tr>\n",
       "    <tr>\n",
       "      <th>3</th>\n",
       "      <td>15</td>\n",
       "      <td>fortis</td>\n",
       "      <td>9.5</td>\n",
       "      <td>8.0</td>\n",
       "      <td>1975</td>\n",
       "    </tr>\n",
       "    <tr>\n",
       "      <th>4</th>\n",
       "      <td>305</td>\n",
       "      <td>fortis</td>\n",
       "      <td>11.5</td>\n",
       "      <td>9.9</td>\n",
       "      <td>1975</td>\n",
       "    </tr>\n",
       "  </tbody>\n",
       "</table>\n",
       "</div>"
      ],
      "text/plain": [
       "  band species    BL   BD  year\n",
       "0    2  fortis   9.4  8.0  1975\n",
       "1    9  fortis   9.2  8.3  1975\n",
       "2   12  fortis   9.5  7.5  1975\n",
       "3   15  fortis   9.5  8.0  1975\n",
       "4  305  fortis  11.5  9.9  1975"
      ]
     },
     "execution_count": 3,
     "metadata": {},
     "output_type": "execute_result"
    }
   ],
   "source": [
    "data_75['year']=1975\n",
    "data_75.head()\n"
   ]
  },
  {
   "cell_type": "code",
   "execution_count": 4,
   "id": "84cb0829",
   "metadata": {},
   "outputs": [
    {
     "data": {
      "text/html": [
       "<div>\n",
       "<style scoped>\n",
       "    .dataframe tbody tr th:only-of-type {\n",
       "        vertical-align: middle;\n",
       "    }\n",
       "\n",
       "    .dataframe tbody tr th {\n",
       "        vertical-align: top;\n",
       "    }\n",
       "\n",
       "    .dataframe thead th {\n",
       "        text-align: right;\n",
       "    }\n",
       "</style>\n",
       "<table border=\"1\" class=\"dataframe\">\n",
       "  <thead>\n",
       "    <tr style=\"text-align: right;\">\n",
       "      <th></th>\n",
       "      <th>band</th>\n",
       "      <th>species</th>\n",
       "      <th>BL</th>\n",
       "      <th>BD</th>\n",
       "      <th>year</th>\n",
       "    </tr>\n",
       "  </thead>\n",
       "  <tbody>\n",
       "    <tr>\n",
       "      <th>0</th>\n",
       "      <td>19022</td>\n",
       "      <td>fortis</td>\n",
       "      <td>10.0</td>\n",
       "      <td>8.5</td>\n",
       "      <td>2012</td>\n",
       "    </tr>\n",
       "    <tr>\n",
       "      <th>1</th>\n",
       "      <td>19028</td>\n",
       "      <td>fortis</td>\n",
       "      <td>12.5</td>\n",
       "      <td>8.9</td>\n",
       "      <td>2012</td>\n",
       "    </tr>\n",
       "    <tr>\n",
       "      <th>2</th>\n",
       "      <td>19032</td>\n",
       "      <td>fortis</td>\n",
       "      <td>9.3</td>\n",
       "      <td>7.5</td>\n",
       "      <td>2012</td>\n",
       "    </tr>\n",
       "    <tr>\n",
       "      <th>3</th>\n",
       "      <td>19041</td>\n",
       "      <td>fortis</td>\n",
       "      <td>10.3</td>\n",
       "      <td>9.6</td>\n",
       "      <td>2012</td>\n",
       "    </tr>\n",
       "    <tr>\n",
       "      <th>4</th>\n",
       "      <td>19044</td>\n",
       "      <td>fortis</td>\n",
       "      <td>11.0</td>\n",
       "      <td>9.2</td>\n",
       "      <td>2012</td>\n",
       "    </tr>\n",
       "  </tbody>\n",
       "</table>\n",
       "</div>"
      ],
      "text/plain": [
       "    band species    BL   BD  year\n",
       "0  19022  fortis  10.0  8.5  2012\n",
       "1  19028  fortis  12.5  8.9  2012\n",
       "2  19032  fortis   9.3  7.5  2012\n",
       "3  19041  fortis  10.3  9.6  2012\n",
       "4  19044  fortis  11.0  9.2  2012"
      ]
     },
     "execution_count": 4,
     "metadata": {},
     "output_type": "execute_result"
    }
   ],
   "source": [
    "data_12['year']= 2012\n",
    "data_12.head()"
   ]
  },
  {
   "cell_type": "markdown",
   "id": "43a64eb7",
   "metadata": {},
   "source": [
    "# Data preperation and cleaning"
   ]
  },
  {
   "cell_type": "code",
   "execution_count": 5,
   "id": "b02b6411",
   "metadata": {},
   "outputs": [],
   "source": [
    "# creating splits by species for the 1975 data\n",
    "scandens_df_75= data_75[data_75['species'] == 'scandens']\n",
    "fortis_df_75= data_75[data_75['species'] == 'fortis']"
   ]
  },
  {
   "cell_type": "code",
   "execution_count": 6,
   "id": "834cb66c",
   "metadata": {},
   "outputs": [],
   "source": [
    "# creating splits by species for the 2012 data\n",
    "scandens_df_12= data_12[data_12['species'] == 'scandens']\n",
    "fortis_df_12= data_12[data_12['species'] == 'fortis']"
   ]
  },
  {
   "cell_type": "code",
   "execution_count": 7,
   "id": "a0859833",
   "metadata": {},
   "outputs": [],
   "source": [
    "# creating a df for G.scandens with both 1975 and 2012 data\n",
    "data=pd.concat([scandens_df_75, scandens_df_12])\n",
    "data.reset_index(inplace= True)"
   ]
  },
  {
   "cell_type": "code",
   "execution_count": 8,
   "id": "bd4bb05a",
   "metadata": {},
   "outputs": [
    {
     "data": {
      "text/plain": [
       "index        int64\n",
       "band        object\n",
       "species     object\n",
       "BL         float64\n",
       "BD          object\n",
       "year         int64\n",
       "dtype: object"
      ]
     },
     "execution_count": 8,
     "metadata": {},
     "output_type": "execute_result"
    }
   ],
   "source": [
    "# examining columns types\n",
    "data.dtypes"
   ]
  },
  {
   "cell_type": "code",
   "execution_count": 9,
   "id": "26891b8a",
   "metadata": {},
   "outputs": [],
   "source": [
    "# droping null values\n",
    "data.dropna(inplace= True)\n",
    "data['BD']= data['BD'].astype('float64')"
   ]
  },
  {
   "cell_type": "code",
   "execution_count": 10,
   "id": "7b76cc3b",
   "metadata": {},
   "outputs": [
    {
     "data": {
      "text/html": [
       "<div>\n",
       "<style scoped>\n",
       "    .dataframe tbody tr th:only-of-type {\n",
       "        vertical-align: middle;\n",
       "    }\n",
       "\n",
       "    .dataframe tbody tr th {\n",
       "        vertical-align: top;\n",
       "    }\n",
       "\n",
       "    .dataframe thead th {\n",
       "        text-align: right;\n",
       "    }\n",
       "</style>\n",
       "<table border=\"1\" class=\"dataframe\">\n",
       "  <thead>\n",
       "    <tr style=\"text-align: right;\">\n",
       "      <th></th>\n",
       "      <th>index</th>\n",
       "      <th>band</th>\n",
       "      <th>species</th>\n",
       "      <th>BL</th>\n",
       "      <th>BD</th>\n",
       "      <th>year</th>\n",
       "    </tr>\n",
       "  </thead>\n",
       "  <tbody>\n",
       "    <tr>\n",
       "      <th>0</th>\n",
       "      <td>316</td>\n",
       "      <td>302</td>\n",
       "      <td>scandens</td>\n",
       "      <td>13.9</td>\n",
       "      <td>8.4</td>\n",
       "      <td>1975</td>\n",
       "    </tr>\n",
       "    <tr>\n",
       "      <th>1</th>\n",
       "      <td>317</td>\n",
       "      <td>304</td>\n",
       "      <td>scandens</td>\n",
       "      <td>14.0</td>\n",
       "      <td>8.8</td>\n",
       "      <td>1975</td>\n",
       "    </tr>\n",
       "    <tr>\n",
       "      <th>2</th>\n",
       "      <td>318</td>\n",
       "      <td>306</td>\n",
       "      <td>scandens</td>\n",
       "      <td>12.9</td>\n",
       "      <td>8.4</td>\n",
       "      <td>1975</td>\n",
       "    </tr>\n",
       "    <tr>\n",
       "      <th>3</th>\n",
       "      <td>319</td>\n",
       "      <td>310</td>\n",
       "      <td>scandens</td>\n",
       "      <td>13.5</td>\n",
       "      <td>8.0</td>\n",
       "      <td>1975</td>\n",
       "    </tr>\n",
       "    <tr>\n",
       "      <th>4</th>\n",
       "      <td>320</td>\n",
       "      <td>317</td>\n",
       "      <td>scandens</td>\n",
       "      <td>12.9</td>\n",
       "      <td>7.9</td>\n",
       "      <td>1975</td>\n",
       "    </tr>\n",
       "  </tbody>\n",
       "</table>\n",
       "</div>"
      ],
      "text/plain": [
       "   index band   species    BL   BD  year\n",
       "0    316  302  scandens  13.9  8.4  1975\n",
       "1    317  304  scandens  14.0  8.8  1975\n",
       "2    318  306  scandens  12.9  8.4  1975\n",
       "3    319  310  scandens  13.5  8.0  1975\n",
       "4    320  317  scandens  12.9  7.9  1975"
      ]
     },
     "execution_count": 10,
     "metadata": {},
     "output_type": "execute_result"
    }
   ],
   "source": [
    "data.head()"
   ]
  },
  {
   "cell_type": "code",
   "execution_count": 11,
   "id": "d0309bb3",
   "metadata": {},
   "outputs": [
    {
     "name": "stdout",
     "output_type": "stream",
     "text": [
      "   index band   species    BL   BD  year\n",
      "0    316  302  scandens  13.9  8.4  1975\n",
      "1    317  304  scandens  14.0  8.8  1975\n",
      "2    318  306  scandens  12.9  8.4  1975\n",
      "3    319  310  scandens  13.5  8.0  1975\n",
      "4    320  317  scandens  12.9  7.9  1975\n",
      "    index   band   species    BL    BD  year\n",
      "87    121  19026  scandens  14.3   9.4  2012\n",
      "88    122  19028  scandens  12.5   8.9  2012\n",
      "89    123  19029  scandens  13.7   9.5  2012\n",
      "90    124  19094  scandens  13.8  11.0  2012\n",
      "91    125  19122  scandens  12.0   8.7  2012\n"
     ]
    }
   ],
   "source": [
    "# Creating splits for scandens data by year\n",
    "data_75= data[data['year']== 1975]\n",
    "print(data_75.head())\n",
    "data_12= data[data['year']== 2012]\n",
    "print(data_12.head())\n",
    "data_12= data_12.reset_index()"
   ]
  },
  {
   "cell_type": "markdown",
   "id": "f16d0a9e",
   "metadata": {},
   "source": [
    "# EDA on G.scandans Beak depth data "
   ]
  },
  {
   "cell_type": "code",
   "execution_count": 12,
   "id": "28001650",
   "metadata": {},
   "outputs": [
    {
     "data": {
      "image/png": "[encoded data removed]",
      "text/plain": [
       "<Figure size 432x288 with 1 Axes>"
      ]
     },
     "metadata": {},
     "output_type": "display_data"
    }
   ],
   "source": [
    "sns.set_theme(style=\"whitegrid\")\n",
    "\n",
    "#ax= sns.swarmplot(x=\"year\", y=\"BD\", data=data)\n",
    "ax= sns.boxplot(x=\"year\", y=\"BD\", data=data)\n",
    "\n",
    "ax = plt.xlabel('year')\n",
    "ax = plt.ylabel('beak depth (mm)')\n",
    "\n",
    "plt.show()"
   ]
  },
  {
   "cell_type": "code",
   "execution_count": 13,
   "id": "91c667b4",
   "metadata": {},
   "outputs": [],
   "source": [
    "def ecdf(data):\n",
    "    \"\"\"Compute Empirical CDF for a one-dimensional array of measurements.\"\"\"\n",
    "    # Number of data points\n",
    "    n = len(data)\n",
    "\n",
    "    # x-data for the ECDF\n",
    "    x = np.sort(data)\n",
    "\n",
    "    # y-data for the ECDF\n",
    "    y = np.arange(1, n+1) / n\n",
    "\n",
    "    return x, y\n"
   ]
  },
  {
   "cell_type": "code",
   "execution_count": 14,
   "id": "bcccae2a",
   "metadata": {},
   "outputs": [],
   "source": [
    "# Computing ECDFs for beak depth of each year \n",
    "x_1975, y_1975 = ecdf(data_75['BD'])\n",
    "x_2012, y_2012 = ecdf(data_12['BD'])"
   ]
  },
  {
   "cell_type": "code",
   "execution_count": 15,
   "id": "9de53e75",
   "metadata": {},
   "outputs": [
    {
     "data": {
      "image/png": "[encoded data removed]",
      "text/plain": [
       "<Figure size 432x288 with 1 Axes>"
      ]
     },
     "metadata": {},
     "output_type": "display_data"
    }
   ],
   "source": [
    "# Ploting the ECDFs\n",
    "plt.plot(x_1975, y_1975, marker='.', linestyle='none')\n",
    "plt.plot(x_2012, y_2012, marker='.', linestyle='none')\n",
    "\n",
    "plt.xlabel('beak depth (mm)')\n",
    "plt.ylabel('ECDF')\n",
    "plt.legend(('1975', '2012'), loc='lower right')\n",
    "plt.title('G. scandens Beak depth')\n",
    "\n",
    "plt.show()"
   ]
  },
  {
   "cell_type": "markdown",
   "id": "4ac263ad",
   "metadata": {},
   "source": [
    "By just looking at the box plot and the ecdf, it is clear that the G. scandens beaks are getting deeper over time..."
   ]
  },
  {
   "cell_type": "markdown",
   "id": "2e4144a9",
   "metadata": {},
   "source": [
    "# Parameter Estimation"
   ]
  },
  {
   "cell_type": "code",
   "execution_count": 16,
   "id": "51aa0efe",
   "metadata": {},
   "outputs": [
    {
     "name": "stdout",
     "output_type": "stream",
     "text": [
      "0.2262204724409429\n"
     ]
    }
   ],
   "source": [
    "# computing diff of sample means\n",
    "mean_diff = np.mean(data_12['BD']) - np.mean(data_75['BD'])\n",
    "print(mean_diff)"
   ]
  },
  {
   "cell_type": "markdown",
   "id": "28565783",
   "metadata": {},
   "source": [
    "## Question: If the data was acquired again would we get the same value for parameters?\n",
    "In inferece problem the focus isn't the result of a single measurments or a single data acquisition.\n",
    "\n",
    "The focus is estimating the true parameters, in this case if the beak depths of all the G. scandens on the island was measered what would be the parameters of the distribution? \n",
    "\n",
    "The True paramertes can't be calculated but, what can be done is simulating getting the parameters many times by resampling(with replacment) the data already present.\n",
    "\n",
    "This process is called Bootstraping: use of resampled data to perform statistical inference.\n",
    "\n",
    "The Bootstrap samples is then used to calulate Bootstrap replicas: a statistic computed from sampled data.\n"
   ]
  },
  {
   "cell_type": "code",
   "execution_count": 17,
   "id": "2589af92",
   "metadata": {},
   "outputs": [],
   "source": [
    "def bootstrap_replicate_1d(data, func):\n",
    "    \"\"\"Generate bootstrap replicate of 1D data.\"\"\"\n",
    "    bs_sample = np.random.choice(data, len(data))\n",
    "    return func(bs_sample)"
   ]
  },
  {
   "cell_type": "code",
   "execution_count": 18,
   "id": "c37e2b25",
   "metadata": {},
   "outputs": [],
   "source": [
    "def draw_bs_reps(data, func, size=1):\n",
    "    \"\"\"Draw bootstrap replicates.\"\"\"\n",
    "\n",
    "    # Initializeing array of replicates\n",
    "    bs_replicates = np.empty(size)\n",
    "\n",
    "    # Generating replicates\n",
    "    for i in range(size):\n",
    "        bs_replicates[i] = bootstrap_replicate_1d(data, func)\n",
    "\n",
    "    return bs_replicates\n"
   ]
  },
  {
   "cell_type": "code",
   "execution_count": 19,
   "id": "31393b89",
   "metadata": {},
   "outputs": [],
   "source": [
    "# Generating boot strap samples and geeting BS replicates of sample mean\n",
    "bs_replicates_1975 = draw_bs_reps(data_75['BD'], np.mean, size= 10000)\n",
    "bs_replicates_2012 = draw_bs_reps(data_12['BD'], np.mean, size= 10000)\n"
   ]
  },
  {
   "cell_type": "code",
   "execution_count": 20,
   "id": "1657e124",
   "metadata": {},
   "outputs": [
    {
     "data": {
      "image/png": "[encoded data removed]",
      "text/plain": [
       "<Figure size 432x288 with 1 Axes>"
      ]
     },
     "metadata": {},
     "output_type": "display_data"
    }
   ],
   "source": [
    "# Visualising the ditribution of the Bootstrap replicas for the 1975 data\n",
    "plt.hist(bs_replicates_1975, bins= 30)\n",
    "plt.xlabel('Bootstrap mean of Beak Depth in 1975')\n",
    "plt.ylabel('pdf')\n",
    "plt.show()"
   ]
  },
  {
   "cell_type": "code",
   "execution_count": 21,
   "id": "61016e93",
   "metadata": {},
   "outputs": [
    {
     "data": {
      "image/png": "[encoded data removed]",
      "text/plain": [
       "<Figure size 432x288 with 1 Axes>"
      ]
     },
     "metadata": {},
     "output_type": "display_data"
    }
   ],
   "source": [
    "# Visualising the ditribution of the Bootstrap replicas for the 2012 data\n",
    "plt.hist(bs_replicates_2012, bins= 30)\n",
    "plt.xlabel('Bootstrap mean of Beak Depth in 2012')\n",
    "plt.ylabel('pdf')\n",
    "plt.show()"
   ]
  },
  {
   "cell_type": "markdown",
   "id": "8bcb022a",
   "metadata": {},
   "source": [
    "### Confidence interval\n",
    "It is usefull to summerizethe distrubution of Bootstrap replicas using confidence interval.\n",
    "That is : P% of the Bootstrape Resampled replicas would lie within P% Confidence interval"
   ]
  },
  {
   "cell_type": "code",
   "execution_count": 22,
   "id": "d272a548",
   "metadata": {},
   "outputs": [
    {
     "name": "stdout",
     "output_type": "stream",
     "text": [
      "difference of means = 0.2262204724409429 mm\n",
      "95% confidence interval = [0.06128831 0.39131274] mm\n"
     ]
    }
   ],
   "source": [
    "# Computing diff of BS replicates of means\n",
    "bs_diff_replicates = bs_replicates_2012 - bs_replicates_1975\n",
    "\n",
    "# Computing 95% confidence interval\n",
    "conf_int = np.percentile(bs_diff_replicates, [2.5, 97.5])\n",
    "\n",
    "print('difference of means =', mean_diff, 'mm')\n",
    "print('95% confidence interval =', conf_int, 'mm')"
   ]
  },
  {
   "cell_type": "markdown",
   "id": "45184004",
   "metadata": {},
   "source": [
    "# Hypothesis testing \n",
    "It pretty clear that the beaks of G. scandens have gotten deeper. But is it possible that this effect is just due to random chance?"
   ]
  },
  {
   "cell_type": "markdown",
   "id": "2572e635",
   "metadata": {},
   "source": [
    "### Question: what is the probability that we would get the observed difference in mean beak depth if the means were the same?"
   ]
  },
  {
   "cell_type": "markdown",
   "id": "c8789b4d",
   "metadata": {},
   "source": [
    "### Hypotheis test pipeline:\n",
    "- Clearly state null hypothesis: if the true means of the 1975 and 2012 data were equal what is the probability that we get the observed difference? \n",
    "\n",
    "- Generating many sets of Simulated data (Bootstraping) assuming that the null hypothesis is true: by shifting both datasets into there combined mean.\n",
    "\n",
    "- Compute mean for each simulated data (Bootstrap replica).\n",
    "\n",
    "- calculating the P-value: that is the fraction of simulated replicas for which the mean is at least as extreme as the mean of the real data "
   ]
  },
  {
   "cell_type": "code",
   "execution_count": 23,
   "id": "d59530d1",
   "metadata": {},
   "outputs": [
    {
     "name": "stdout",
     "output_type": "stream",
     "text": [
      "p = 0.0042\n"
     ]
    }
   ],
   "source": [
    "# Computing mean of combined data set\n",
    "combined_mean = np.mean(np.concatenate((data_75['BD'], data_12['BD'])))\n",
    "\n",
    "# Shifting the samples\n",
    "bd_1975_shifted = data_75['BD'] - np.mean(data_75['BD']) + combined_mean\n",
    "bd_2012_shifted = data_12['BD'] - np.mean(data_12['BD']) + combined_mean\n",
    "\n",
    "# Getting bootstrap replicates of shifted data sets\n",
    "bs_replicates_1975 = draw_bs_reps(bd_1975_shifted, np.mean, 10000)\n",
    "bs_replicates_2012 = draw_bs_reps(bd_2012_shifted, np.mean, 10000)\n",
    "\n",
    "# Computing replicates of difference of means\n",
    "bs_diff_replicates = bs_replicates_2012 - bs_replicates_1975\n",
    "\n",
    "# Computing the p-value\n",
    "p = np.sum(bs_diff_replicates >= mean_diff) / len(bs_diff_replicates)\n",
    "\n",
    "print('p =', p)\n"
   ]
  },
  {
   "cell_type": "markdown",
   "id": "7a368f05",
   "metadata": {},
   "source": [
    "The P-value calculated suggests without a doubt that there is a statisticaly significant differnece"
   ]
  },
  {
   "cell_type": "markdown",
   "id": "0a760060",
   "metadata": {},
   "source": [
    "# Eda on G.scandans Beak depth and length"
   ]
  },
  {
   "cell_type": "code",
   "execution_count": 24,
   "id": "e7ed22c5",
   "metadata": {},
   "outputs": [
    {
     "data": {
      "image/png": "[encoded data removed]",
      "text/plain": [
       "<Figure size 432x288 with 1 Axes>"
      ]
     },
     "metadata": {},
     "output_type": "display_data"
    }
   ],
   "source": [
    "# scatter plot of 1975 data\n",
    "plt.plot(data_75['BL'], data_75['BD'], marker='.',\n",
    "             linestyle='None', alpha=0.5, color='blue')\n",
    "\n",
    "# scatter plot of 2012 data\n",
    "plt.plot(data_12['BL'], data_12['BD'], marker='.',\n",
    "             linestyle='None', alpha=0.5, color='red')\n",
    "\n",
    "plt.xlabel('beak length (mm)')\n",
    "plt.ylabel('beak depth (mm)')\n",
    "plt.legend(('1975', '2012'), loc='upper left')\n",
    "\n",
    "plt.show()"
   ]
  },
  {
   "cell_type": "markdown",
   "id": "d11c3238",
   "metadata": {},
   "source": [
    "By looking at the plot we notice that the red dots are higher than the blue ones --> Beaks got deeper.\n",
    "Its is noticable as well that the red dots appear to be further to the left of the plot --> Beaks are getting shorter as well ?"
   ]
  },
  {
   "cell_type": "markdown",
   "id": "b2dd91bf",
   "metadata": {},
   "source": [
    "### Question: how do beak depth and length vary togther ?\n",
    "This question can be answered by plotting a linear regression model and estimating its parameters"
   ]
  },
  {
   "cell_type": "code",
   "execution_count": 25,
   "id": "2e879676",
   "metadata": {},
   "outputs": [],
   "source": [
    "def draw_bs_pairs_linreg(x, y, size=1):\n",
    "    \"\"\"Perform pairs bootstrap for linear regression.\"\"\"\n",
    "\n",
    "    # Setting up array of indices to sample from\n",
    "    inds = np.arange(len(x))\n",
    "\n",
    "    # Initializing replicates\n",
    "    bs_slope_reps = np.empty(size)\n",
    "    bs_intercept_reps = np.empty(size)\n",
    "\n",
    "    # Generating replicates\n",
    "    for i in range(size):\n",
    "        bs_inds = np.random.choice(inds, size=len(inds))\n",
    "        bs_x, bs_y = x[bs_inds], y[bs_inds]\n",
    "        bs_slope_reps[i], bs_intercept_reps[i] = np.polyfit(bs_x, bs_y, 1)\n",
    "\n",
    "    return bs_slope_reps, bs_intercept_reps\n"
   ]
  },
  {
   "cell_type": "code",
   "execution_count": 26,
   "id": "799ef85f",
   "metadata": {},
   "outputs": [
    {
     "name": "stdout",
     "output_type": "stream",
     "text": [
      "1975: slope = 0.4652051691605937 conf int = [0.32321184 0.59362199]\n",
      "1975: intercept = 2.3908752365842267 conf int = [0.5877554  4.38848941]\n",
      "2012: slope = 0.4626303588353129 conf int = [0.33975327 0.59623338]\n",
      "2012: intercept = 2.9772474982360175 conf int = [1.19993906 4.61191516]\n"
     ]
    }
   ],
   "source": [
    "# Computing the linear regressions\n",
    "slope_1975, intercept_1975 = np.polyfit(data_75['BL'], data_75['BD'], 1)\n",
    "slope_2012, intercept_2012 = np.polyfit(data_12['BL'], data_12['BD'], 1)\n",
    "\n",
    "# Performing pairs bootstrap for the linear regressions\n",
    "bs_slope_reps_1975, bs_intercept_reps_1975 = draw_bs_pairs_linreg(data_75['BL'], data_75['BD'], 1000)\n",
    "bs_slope_reps_2012, bs_intercept_reps_2012 = draw_bs_pairs_linreg(data_12['BL'], data_12['BD'], 1000)\n",
    "\n",
    "# Computing confidence intervals of slopes\n",
    "slope_conf_int_1975 = np.percentile(bs_slope_reps_1975, [2.5, 97.5])\n",
    "slope_conf_int_2012 = np.percentile(bs_slope_reps_2012, [2.5, 97.5])\n",
    "intercept_conf_int_1975 = np.percentile(\n",
    "                            bs_intercept_reps_1975, [2.5, 97.5])\n",
    "intercept_conf_int_2012 = np.percentile(\n",
    "                            bs_intercept_reps_2012, [2.5, 97.5])\n",
    "\n",
    "print('1975: slope =', slope_1975,\n",
    "      'conf int =', slope_conf_int_1975)\n",
    "print('1975: intercept =', intercept_1975,\n",
    "      'conf int =', intercept_conf_int_1975)\n",
    "print('2012: slope =', slope_2012,\n",
    "      'conf int =', slope_conf_int_2012)\n",
    "print('2012: intercept =', intercept_2012,\n",
    "      'conf int =', intercept_conf_int_2012)"
   ]
  },
  {
   "cell_type": "markdown",
   "id": "f3b4d689",
   "metadata": {},
   "source": [
    "### Visualing the LinearReg"
   ]
  },
  {
   "cell_type": "code",
   "execution_count": 27,
   "id": "c6f1986a",
   "metadata": {},
   "outputs": [
    {
     "data": {
      "image/png": "[encoded data removed]",
      "text/plain": [
       "<Figure size 432x288 with 1 Axes>"
      ]
     },
     "metadata": {},
     "output_type": "display_data"
    }
   ],
   "source": [
    "# scatter plot of 1975 data\n",
    "plt.plot(data_75['BL'], data_75['BD'], marker='.',\n",
    "             linestyle='none', color='blue', alpha=0.5)\n",
    "\n",
    "# scatter plot of 2012 data\n",
    "plt.plot(data_12['BL'], data_12['BD'], marker='.',\n",
    "             linestyle='none', color='red', alpha=0.5)\n",
    "\n",
    "\n",
    "plt.xlabel('beak length (mm)')\n",
    "plt.ylabel('beak depth (mm)')\n",
    "plt.legend(('1975', '2012'), loc='upper left')\n",
    "\n",
    "# Generating x-values for bootstrap lines\n",
    "x = np.array([10, 17])\n",
    "\n",
    "# Plot of the bootstrap lines\n",
    "for i in range(100):\n",
    "    plt.plot(x, bs_slope_reps_1975[i] * x + bs_intercept_reps_1975[i],\n",
    "             linewidth=0.5, alpha=0.2, color='blue')\n",
    "    plt.plot(x, bs_slope_reps_2012[i] * x + bs_intercept_reps_2012[i],\n",
    "             linewidth=0.5, alpha=0.2, color='red')\n",
    "\n",
    "plt.show()\n"
   ]
  },
  {
   "cell_type": "markdown",
   "id": "5a903677",
   "metadata": {},
   "source": [
    "- The values of the slope are almost the same (~0.5) suggesting that for every higher milemetere in beak length, the beak depth is half a milemetere deeper.\n",
    "- The higher intercept value for the 2012 year suggests that for a given beak length the beak depth is higher, combined with the fact that the 2012 data seems shifted to the left may suggest an over all shorter deeper beaks ? to answer this question we examine the ratio of length to depth (shape) "
   ]
  },
  {
   "cell_type": "code",
   "execution_count": 28,
   "id": "6763a8ac",
   "metadata": {},
   "outputs": [
    {
     "name": "stdout",
     "output_type": "stream",
     "text": [
      "1975: mean ratio = 1.5788823771858533 conf int = [1.55667034 1.60170971]\n",
      "2012: mean ratio = 1.4658342276847778 conf int = [1.44372175 1.4875747 ]\n"
     ]
    }
   ],
   "source": [
    "# Computing length-to-depth ratios\n",
    "ratio_1975 = data_75['BL']/ data_75['BD']\n",
    "ratio_2012 = data_12['BL']/ data_12['BD']\n",
    "\n",
    "# Computing means\n",
    "mean_ratio_1975 = np.mean(ratio_1975)\n",
    "mean_ratio_2012 = np.mean(ratio_2012)\n",
    "\n",
    "# Generating bootstrap replicates of the means\n",
    "bs_replicates_1975 = draw_bs_reps(ratio_1975, np.mean, size=10000)\n",
    "bs_replicates_2012 = draw_bs_reps(ratio_2012, np.mean, size=10000)\n",
    "\n",
    "# Computing the 99% confidence intervals\n",
    "conf_int_1975 = np.percentile(bs_replicates_1975, [0.5, 99.5])\n",
    "conf_int_2012 = np.percentile(bs_replicates_2012, [0.5, 99.5])\n",
    "\n",
    "print('1975: mean ratio =', mean_ratio_1975,\n",
    "      'conf int =', conf_int_1975)\n",
    "print('2012: mean ratio =', mean_ratio_2012,\n",
    "      'conf int =', conf_int_2012)\n"
   ]
  },
  {
   "cell_type": "markdown",
   "id": "bfc4a02c",
   "metadata": {},
   "source": [
    "The mean ratio values confirms the over all shape change hypothesized earlier! "
   ]
  }
 ],
 "metadata": {
  "kernelspec": {
   "display_name": "Python 3 (ipykernel)",
   "language": "python",
   "name": "python3"
  },
  "language_info": {
   "codemirror_mode": {
    "name": "ipython",
    "version": 3
   },
   "file_extension": ".py",
   "mimetype": "text/x-python",
   "name": "python",
   "nbconvert_exporter": "python",
   "pygments_lexer": "ipython3",
   "version": "3.8.11"
  }
 },
 "nbformat": 4,
 "nbformat_minor": 5
}
