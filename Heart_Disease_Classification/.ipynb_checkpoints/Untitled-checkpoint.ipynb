{
 "cells": [
  {
   "cell_type": "code",
   "execution_count": 63,
   "id": "4b572ecd",
   "metadata": {},
   "outputs": [],
   "source": [
    "import numpy as np\n",
    "import pandas as pd\n",
    "import matplotlib.pyplot as plt \n",
    "from sklearn.tree import DecisionTreeClassifier\n",
    "from sklearn.tree import plot_tree\n",
    "from sklearn.model_selection import train_test_split\n",
    "from sklearn.model_selection import cross_val_score\n",
    "from sklearn.metrics import confusion_matrix\n",
    "from sklearn.metrics import plot_confusion_matrix\n",
    "from sklearn.metrics import roc_auc_score\n",
    "from sklearn.metrics import accuracy_score\n"
   ]
  },
  {
   "cell_type": "markdown",
   "id": "7b9a4b2b",
   "metadata": {},
   "source": [
    "#  Importing data"
   ]
  },
  {
   "cell_type": "code",
   "execution_count": 2,
   "id": "fefc7fb0",
   "metadata": {},
   "outputs": [],
   "source": [
    "df= pd.read_csv('processed.cleveland.data', header= None)"
   ]
  },
  {
   "cell_type": "code",
   "execution_count": 3,
   "id": "bad05078",
   "metadata": {},
   "outputs": [
    {
     "data": {
      "text/html": [
       "<div>\n",
       "<style scoped>\n",
       "    .dataframe tbody tr th:only-of-type {\n",
       "        vertical-align: middle;\n",
       "    }\n",
       "\n",
       "    .dataframe tbody tr th {\n",
       "        vertical-align: top;\n",
       "    }\n",
       "\n",
       "    .dataframe thead th {\n",
       "        text-align: right;\n",
       "    }\n",
       "</style>\n",
       "<table border=\"1\" class=\"dataframe\">\n",
       "  <thead>\n",
       "    <tr style=\"text-align: right;\">\n",
       "      <th></th>\n",
       "      <th>0</th>\n",
       "      <th>1</th>\n",
       "      <th>2</th>\n",
       "      <th>3</th>\n",
       "      <th>4</th>\n",
       "      <th>5</th>\n",
       "      <th>6</th>\n",
       "      <th>7</th>\n",
       "      <th>8</th>\n",
       "      <th>9</th>\n",
       "      <th>10</th>\n",
       "      <th>11</th>\n",
       "      <th>12</th>\n",
       "      <th>13</th>\n",
       "    </tr>\n",
       "  </thead>\n",
       "  <tbody>\n",
       "    <tr>\n",
       "      <th>0</th>\n",
       "      <td>63.0</td>\n",
       "      <td>1.0</td>\n",
       "      <td>1.0</td>\n",
       "      <td>145.0</td>\n",
       "      <td>233.0</td>\n",
       "      <td>1.0</td>\n",
       "      <td>2.0</td>\n",
       "      <td>150.0</td>\n",
       "      <td>0.0</td>\n",
       "      <td>2.3</td>\n",
       "      <td>3.0</td>\n",
       "      <td>0.0</td>\n",
       "      <td>6.0</td>\n",
       "      <td>0</td>\n",
       "    </tr>\n",
       "    <tr>\n",
       "      <th>1</th>\n",
       "      <td>67.0</td>\n",
       "      <td>1.0</td>\n",
       "      <td>4.0</td>\n",
       "      <td>160.0</td>\n",
       "      <td>286.0</td>\n",
       "      <td>0.0</td>\n",
       "      <td>2.0</td>\n",
       "      <td>108.0</td>\n",
       "      <td>1.0</td>\n",
       "      <td>1.5</td>\n",
       "      <td>2.0</td>\n",
       "      <td>3.0</td>\n",
       "      <td>3.0</td>\n",
       "      <td>2</td>\n",
       "    </tr>\n",
       "    <tr>\n",
       "      <th>2</th>\n",
       "      <td>67.0</td>\n",
       "      <td>1.0</td>\n",
       "      <td>4.0</td>\n",
       "      <td>120.0</td>\n",
       "      <td>229.0</td>\n",
       "      <td>0.0</td>\n",
       "      <td>2.0</td>\n",
       "      <td>129.0</td>\n",
       "      <td>1.0</td>\n",
       "      <td>2.6</td>\n",
       "      <td>2.0</td>\n",
       "      <td>2.0</td>\n",
       "      <td>7.0</td>\n",
       "      <td>1</td>\n",
       "    </tr>\n",
       "    <tr>\n",
       "      <th>3</th>\n",
       "      <td>37.0</td>\n",
       "      <td>1.0</td>\n",
       "      <td>3.0</td>\n",
       "      <td>130.0</td>\n",
       "      <td>250.0</td>\n",
       "      <td>0.0</td>\n",
       "      <td>0.0</td>\n",
       "      <td>187.0</td>\n",
       "      <td>0.0</td>\n",
       "      <td>3.5</td>\n",
       "      <td>3.0</td>\n",
       "      <td>0.0</td>\n",
       "      <td>3.0</td>\n",
       "      <td>0</td>\n",
       "    </tr>\n",
       "    <tr>\n",
       "      <th>4</th>\n",
       "      <td>41.0</td>\n",
       "      <td>0.0</td>\n",
       "      <td>2.0</td>\n",
       "      <td>130.0</td>\n",
       "      <td>204.0</td>\n",
       "      <td>0.0</td>\n",
       "      <td>2.0</td>\n",
       "      <td>172.0</td>\n",
       "      <td>0.0</td>\n",
       "      <td>1.4</td>\n",
       "      <td>1.0</td>\n",
       "      <td>0.0</td>\n",
       "      <td>3.0</td>\n",
       "      <td>0</td>\n",
       "    </tr>\n",
       "  </tbody>\n",
       "</table>\n",
       "</div>"
      ],
      "text/plain": [
       "     0    1    2      3      4    5    6      7    8    9    10   11   12  13\n",
       "0  63.0  1.0  1.0  145.0  233.0  1.0  2.0  150.0  0.0  2.3  3.0  0.0  6.0   0\n",
       "1  67.0  1.0  4.0  160.0  286.0  0.0  2.0  108.0  1.0  1.5  2.0  3.0  3.0   2\n",
       "2  67.0  1.0  4.0  120.0  229.0  0.0  2.0  129.0  1.0  2.6  2.0  2.0  7.0   1\n",
       "3  37.0  1.0  3.0  130.0  250.0  0.0  0.0  187.0  0.0  3.5  3.0  0.0  3.0   0\n",
       "4  41.0  0.0  2.0  130.0  204.0  0.0  2.0  172.0  0.0  1.4  1.0  0.0  3.0   0"
      ]
     },
     "execution_count": 3,
     "metadata": {},
     "output_type": "execute_result"
    }
   ],
   "source": [
    "df.head()"
   ]
  },
  {
   "cell_type": "code",
   "execution_count": 4,
   "id": "fa237667",
   "metadata": {},
   "outputs": [
    {
     "name": "stdout",
     "output_type": "stream",
     "text": [
      "Publication Request: \n",
      "   >>>>>>>>>>>>>>>>>>>>>>>>>>>>>>>>>>>>>>>>>>>>>>>>>>>>>>>>>>>>>>>>>>>>>>\n",
      "   This file describes the contents of the heart-disease directory.\n",
      "\n",
      "   This directory contains 4 databases concerning heart disease diagnosis.\n",
      "   All attributes are numeric-valued.  The data was collected from the\n",
      "   four following locations:\n",
      "\n",
      "     1. Cleveland Clinic Foundation (cleveland.data)\n",
      "     2. Hungarian Institute of Cardiology, Budapest (hungarian.data)\n",
      "     3. V.A. Medical Center, Long Beach, CA (long-beach-va.data)\n",
      "     4. University Hospital, Zurich, Switzerland (switzerland.data)\n",
      "\n",
      "   Each database has the same instance format.  While the databases have 76\n",
      "   raw attributes, only 14 of them are actually used.  Thus I've taken the\n",
      "   liberty of making 2 copies of each database: one with all the attributes\n",
      "   and 1 with the 14 attributes actually used in past experiments.\n",
      "\n",
      "   The authors of the databases have requested:\n",
      "\n",
      "      ...that any publications resulting from the use of the data include the \n",
      "      names of the principal investigator responsible for the data collection\n",
      "      at each institution.  They would be:\n",
      "\n",
      "       1. Hungarian Institute of Cardiology. Budapest: Andras Janosi, M.D.\n",
      "       2. University Hospital, Zurich, Switzerland: William Steinbrunn, M.D.\n",
      "       3. University Hospital, Basel, Switzerland: Matthias Pfisterer, M.D.\n",
      "       4. V.A. Medical Center, Long Beach and Cleveland Clinic Foundation:\n",
      "\t  Robert Detrano, M.D., Ph.D.\n",
      "\n",
      "   Thanks in advance for abiding by this request.\n",
      "\n",
      "   David Aha\n",
      "   July 22, 1988\n",
      "   >>>>>>>>>>>>>>>>>>>>>>>>>>>>>>>>>>>>>>>>>>>>>>>>>>>>>>>>>>>>>>>>>>>>>>\n",
      "\n",
      "1. Title: Heart Disease Databases\n",
      "\n",
      "2. Source Information:\n",
      "   (a) Creators: \n",
      "       -- 1. Hungarian Institute of Cardiology. Budapest: Andras Janosi, M.D.\n",
      "       -- 2. University Hospital, Zurich, Switzerland: William Steinbrunn, M.D.\n",
      "       -- 3. University Hospital, Basel, Switzerland: Matthias Pfisterer, M.D.\n",
      "       -- 4. V.A. Medical Center, Long Beach and Cleveland Clinic Foundation:\n",
      "             Robert Detrano, M.D., Ph.D.\n",
      "   (b) Donor: David W. Aha (aha@ics.uci.edu) (714) 856-8779   \n",
      "   (c) Date: July, 1988\n",
      "\n",
      "3. Past Usage:\n",
      "    1. Detrano,~R., Janosi,~A., Steinbrunn,~W., Pfisterer,~M., Schmid,~J.,\n",
      "       Sandhu,~S., Guppy,~K., Lee,~S., \\& Froelicher,~V. (1989).  {\\it \n",
      "       International application of a new probability algorithm for the \n",
      "       diagnosis of coronary artery disease.}  {\\it American Journal of \n",
      "       Cardiology}, {\\it 64},304--310.\n",
      "       -- International Probability Analysis \n",
      "       -- Address: Robert Detrano, M.D.\n",
      "                   Cardiology 111-C\n",
      "                   V.A. Medical Center\n",
      "                   5901 E. 7th Street\n",
      "                   Long Beach, CA 90028\n",
      "       -- Results in percent accuracy: (for 0.5 probability threshold)\n",
      "             Data Name:  CDF    CADENZA\n",
      "          -- Hungarian   77     74\n",
      "             Long beach  79     77\n",
      "             Swiss       81     81\n",
      "          -- Approximately a 77% correct classification accuracy with a\n",
      "             logistic-regression-derived discriminant function\n",
      "    2. David W. Aha & Dennis Kibler\n",
      "       -- \n",
      "          \n",
      "          \n",
      "          -- Instance-based prediction of heart-disease presence with the \n",
      "             Cleveland database\n",
      "             -- NTgrowth: 77.0% accuracy\n",
      "             --       C4: 74.8% accuracy\n",
      "    3. John Gennari\n",
      "       -- Gennari, J.~H., Langley, P, \\& Fisher, D. (1989). Models of\n",
      "          incremental concept formation. {\\it Artificial Intelligence, 40},\n",
      "          11--61.\n",
      "       -- Results: \n",
      "          -- The CLASSIT conceptual clustering system achieved a 78.9% accuracy\n",
      "             on the Cleveland database.\n",
      "\n",
      "4. Relevant Information:\n",
      "     This database contains 76 attributes, but all published experiments\n",
      "     refer to using a subset of 14 of them.  In particular, the Cleveland\n",
      "     database is the only one that has been used by ML researchers to \n",
      "     this date.  The \"goal\" field refers to the presence of heart disease\n",
      "     in the patient.  It is integer valued from 0 (no presence) to 4.\n",
      "     Experiments with the Cleveland database have concentrated on simply\n",
      "     attempting to distinguish presence (values 1,2,3,4) from absence (value\n",
      "     0).  \n",
      "   \n",
      "     The names and social security numbers of the patients were recently \n",
      "     removed from the database, replaced with dummy values.\n",
      "\n",
      "     One file has been \"processed\", that one containing the Cleveland \n",
      "     database.  All four unprocessed files also exist in this directory.\n",
      "    \n",
      "5. Number of Instances: \n",
      "        Database:    # of instances:\n",
      "          Cleveland: 303\n",
      "          Hungarian: 294\n",
      "        Switzerland: 123\n",
      "      Long Beach VA: 200\n",
      "\n",
      "6. Number of Attributes: 76 (including the predicted attribute)\n",
      "\n",
      "7. Attribute Information:\n",
      "   -- Only 14 used\n",
      "      -- 1. #3  (age)       \n",
      "      -- 2. #4  (sex)       \n",
      "      -- 3. #9  (cp)        \n",
      "      -- 4. #10 (trestbps)  \n",
      "      -- 5. #12 (chol)      \n",
      "      -- 6. #16 (fbs)       \n",
      "      -- 7. #19 (restecg)   \n",
      "      -- 8. #32 (thalach)   \n",
      "      -- 9. #38 (exang)     \n",
      "      -- 10. #40 (oldpeak)   \n",
      "      -- 11. #41 (slope)     \n",
      "      -- 12. #44 (ca)        \n",
      "      -- 13. #51 (thal)      \n",
      "      -- 14. #58 (num)       (the predicted attribute)\n",
      "\n",
      "   -- Complete attribute documentation:\n",
      "      1 id: patient identification number\n",
      "      2 ccf: social security number (I replaced this with a dummy value of 0)\n",
      "      3 age: age in years\n",
      "      4 sex: sex (1 = male; 0 = female)\n",
      "      5 painloc: chest pain location (1 = substernal; 0 = otherwise)\n",
      "      6 painexer (1 = provoked by exertion; 0 = otherwise)\n",
      "      7 relrest (1 = relieved after rest; 0 = otherwise)\n",
      "      8 pncaden (sum of 5, 6, and 7)\n",
      "      9 cp: chest pain type\n",
      "        -- Value 1: typical angina\n",
      "        -- Value 2: atypical angina\n",
      "        -- Value 3: non-anginal pain\n",
      "        -- Value 4: asymptomatic\n",
      "     10 trestbps: resting blood pressure (in mm Hg on admission to the \n",
      "        hospital)\n",
      "     11 htn\n",
      "     12 chol: serum cholestoral in mg/dl\n",
      "     13 smoke: I believe this is 1 = yes; 0 = no (is or is not a smoker)\n",
      "     14 cigs (cigarettes per day)\n",
      "     15 years (number of years as a smoker)\n",
      "     16 fbs: (fasting blood sugar > 120 mg/dl)  (1 = true; 0 = false)\n",
      "     17 dm (1 = history of diabetes; 0 = no such history)\n",
      "     18 famhist: family history of coronary artery disease (1 = yes; 0 = no)\n",
      "     19 restecg: resting electrocardiographic results\n",
      "        -- Value 0: normal\n",
      "        -- Value 1: having ST-T wave abnormality (T wave inversions and/or ST \n",
      "                    elevation or depression of > 0.05 mV)\n",
      "        -- Value 2: showing probable or definite left ventricular hypertrophy\n",
      "                    by Estes' criteria\n",
      "     20 ekgmo (month of exercise ECG reading)\n",
      "     21 ekgday(day of exercise ECG reading)\n",
      "     22 ekgyr (year of exercise ECG reading)\n",
      "     23 dig (digitalis used furing exercise ECG: 1 = yes; 0 = no)\n",
      "     24 prop (Beta blocker used during exercise ECG: 1 = yes; 0 = no)\n",
      "     25 nitr (nitrates used during exercise ECG: 1 = yes; 0 = no)\n",
      "     26 pro (calcium channel blocker used during exercise ECG: 1 = yes; 0 = no)\n",
      "     27 diuretic (diuretic used used during exercise ECG: 1 = yes; 0 = no)\n",
      "     28 proto: exercise protocol\n",
      "          1 = Bruce     \n",
      "          2 = Kottus\n",
      "          3 = McHenry\n",
      "          4 = fast Balke\n",
      "          5 = Balke\n",
      "          6 = Noughton \n",
      "          7 = bike 150 kpa min/min  (Not sure if \"kpa min/min\" is what was \n",
      "              written!)\n",
      "          8 = bike 125 kpa min/min  \n",
      "          9 = bike 100 kpa min/min\n",
      "         10 = bike 75 kpa min/min\n",
      "         11 = bike 50 kpa min/min\n",
      "         12 = arm ergometer\n",
      "     29 thaldur: duration of exercise test in minutes\n",
      "     30 thaltime: time when ST measure depression was noted\n",
      "     31 met: mets achieved\n",
      "     32 thalach: maximum heart rate achieved\n",
      "     33 thalrest: resting heart rate\n",
      "     34 tpeakbps: peak exercise blood pressure (first of 2 parts)\n",
      "     35 tpeakbpd: peak exercise blood pressure (second of 2 parts)\n",
      "     36 dummy\n",
      "     37 trestbpd: resting blood pressure\n",
      "     38 exang: exercise induced angina (1 = yes; 0 = no)\n",
      "     39 xhypo: (1 = yes; 0 = no)\n",
      "     40 oldpeak = ST depression induced by exercise relative to rest\n",
      "     41 slope: the slope of the peak exercise ST segment\n",
      "        -- Value 1: upsloping\n",
      "        -- Value 2: flat\n",
      "        -- Value 3: downsloping\n",
      "     42 rldv5: height at rest\n",
      "     43 rldv5e: height at peak exercise\n",
      "     44 ca: number of major vessels (0-3) colored by flourosopy\n",
      "     45 restckm: irrelevant\n",
      "     46 exerckm: irrelevant\n",
      "     47 restef: rest raidonuclid (sp?) ejection fraction\n",
      "     48 restwm: rest wall (sp?) motion abnormality\n",
      "        0 = none\n",
      "        1 = mild or moderate\n",
      "        2 = moderate or severe\n",
      "        3 = akinesis or dyskmem (sp?)\n",
      "     49 exeref: exercise radinalid (sp?) ejection fraction\n",
      "     50 exerwm: exercise wall (sp?) motion \n",
      "     51 thal: 3 = normal; 6 = fixed defect; 7 = reversable defect\n",
      "     52 thalsev: not used\n",
      "     53 thalpul: not used\n",
      "     54 earlobe: not used\n",
      "     55 cmo: month of cardiac cath (sp?)  (perhaps \"call\")\n",
      "     56 cday: day of cardiac cath (sp?)\n",
      "     57 cyr: year of cardiac cath (sp?)\n",
      "     58 num: diagnosis of heart disease (angiographic disease status)\n",
      "        -- Value 0: < 50% diameter narrowing\n",
      "        -- Value 1: > 50% diameter narrowing\n",
      "        (in any major vessel: attributes 59 through 68 are vessels)\n",
      "     59 lmt\n",
      "     60 ladprox\n",
      "     61 laddist\n",
      "     62 diag\n",
      "     63 cxmain\n",
      "     64 ramus\n",
      "     65 om1\n",
      "     66 om2\n",
      "     67 rcaprox\n",
      "     68 rcadist\n",
      "     69 lvx1: not used\n",
      "     70 lvx2: not used\n",
      "     71 lvx3: not used\n",
      "     72 lvx4: not used\n",
      "     73 lvf: not used\n",
      "     74 cathef: not used\n",
      "     75 junk: not used\n",
      "     76 name: last name of patient \n",
      "\t(I replaced this with the dummy string \"name\")\n",
      "\n",
      "9. Missing Attribute Values: Several.  Distinguished with value -9.0.\n",
      "\n",
      "10. Class Distribution:\n",
      "        Database:      0   1   2   3   4 Total\n",
      "          Cleveland: 164  55  36  35  13   303\n",
      "          Hungarian: 188  37  26  28  15   294\n",
      "        Switzerland:   8  48  32  30   5   123\n",
      "      Long Beach VA:  51  56  41  42  10   200\n",
      "\n"
     ]
    }
   ],
   "source": [
    "with open('heart-disease.names') as file:\n",
    "    print(file.read())"
   ]
  },
  {
   "cell_type": "code",
   "execution_count": 5,
   "id": "8c29ea68",
   "metadata": {},
   "outputs": [],
   "source": [
    "columns_names= ['age', 'sex', 'cp', 'restbp', 'chol', 'fbs', 'restecg', 'thalach', 'exang', 'oldpeak', 'sloped', 'ca', 'thal', 'hd'] "
   ]
  },
  {
   "cell_type": "code",
   "execution_count": 6,
   "id": "8cdc4f2a",
   "metadata": {},
   "outputs": [
    {
     "data": {
      "text/html": [
       "<div>\n",
       "<style scoped>\n",
       "    .dataframe tbody tr th:only-of-type {\n",
       "        vertical-align: middle;\n",
       "    }\n",
       "\n",
       "    .dataframe tbody tr th {\n",
       "        vertical-align: top;\n",
       "    }\n",
       "\n",
       "    .dataframe thead th {\n",
       "        text-align: right;\n",
       "    }\n",
       "</style>\n",
       "<table border=\"1\" class=\"dataframe\">\n",
       "  <thead>\n",
       "    <tr style=\"text-align: right;\">\n",
       "      <th></th>\n",
       "      <th>age</th>\n",
       "      <th>sex</th>\n",
       "      <th>cp</th>\n",
       "      <th>restbp</th>\n",
       "      <th>chol</th>\n",
       "      <th>fbs</th>\n",
       "      <th>restecg</th>\n",
       "      <th>thalach</th>\n",
       "      <th>exang</th>\n",
       "      <th>oldpeak</th>\n",
       "      <th>sloped</th>\n",
       "      <th>ca</th>\n",
       "      <th>thal</th>\n",
       "      <th>hd</th>\n",
       "    </tr>\n",
       "  </thead>\n",
       "  <tbody>\n",
       "    <tr>\n",
       "      <th>0</th>\n",
       "      <td>63.0</td>\n",
       "      <td>1.0</td>\n",
       "      <td>1.0</td>\n",
       "      <td>145.0</td>\n",
       "      <td>233.0</td>\n",
       "      <td>1.0</td>\n",
       "      <td>2.0</td>\n",
       "      <td>150.0</td>\n",
       "      <td>0.0</td>\n",
       "      <td>2.3</td>\n",
       "      <td>3.0</td>\n",
       "      <td>0.0</td>\n",
       "      <td>6.0</td>\n",
       "      <td>0</td>\n",
       "    </tr>\n",
       "    <tr>\n",
       "      <th>1</th>\n",
       "      <td>67.0</td>\n",
       "      <td>1.0</td>\n",
       "      <td>4.0</td>\n",
       "      <td>160.0</td>\n",
       "      <td>286.0</td>\n",
       "      <td>0.0</td>\n",
       "      <td>2.0</td>\n",
       "      <td>108.0</td>\n",
       "      <td>1.0</td>\n",
       "      <td>1.5</td>\n",
       "      <td>2.0</td>\n",
       "      <td>3.0</td>\n",
       "      <td>3.0</td>\n",
       "      <td>2</td>\n",
       "    </tr>\n",
       "    <tr>\n",
       "      <th>2</th>\n",
       "      <td>67.0</td>\n",
       "      <td>1.0</td>\n",
       "      <td>4.0</td>\n",
       "      <td>120.0</td>\n",
       "      <td>229.0</td>\n",
       "      <td>0.0</td>\n",
       "      <td>2.0</td>\n",
       "      <td>129.0</td>\n",
       "      <td>1.0</td>\n",
       "      <td>2.6</td>\n",
       "      <td>2.0</td>\n",
       "      <td>2.0</td>\n",
       "      <td>7.0</td>\n",
       "      <td>1</td>\n",
       "    </tr>\n",
       "    <tr>\n",
       "      <th>3</th>\n",
       "      <td>37.0</td>\n",
       "      <td>1.0</td>\n",
       "      <td>3.0</td>\n",
       "      <td>130.0</td>\n",
       "      <td>250.0</td>\n",
       "      <td>0.0</td>\n",
       "      <td>0.0</td>\n",
       "      <td>187.0</td>\n",
       "      <td>0.0</td>\n",
       "      <td>3.5</td>\n",
       "      <td>3.0</td>\n",
       "      <td>0.0</td>\n",
       "      <td>3.0</td>\n",
       "      <td>0</td>\n",
       "    </tr>\n",
       "    <tr>\n",
       "      <th>4</th>\n",
       "      <td>41.0</td>\n",
       "      <td>0.0</td>\n",
       "      <td>2.0</td>\n",
       "      <td>130.0</td>\n",
       "      <td>204.0</td>\n",
       "      <td>0.0</td>\n",
       "      <td>2.0</td>\n",
       "      <td>172.0</td>\n",
       "      <td>0.0</td>\n",
       "      <td>1.4</td>\n",
       "      <td>1.0</td>\n",
       "      <td>0.0</td>\n",
       "      <td>3.0</td>\n",
       "      <td>0</td>\n",
       "    </tr>\n",
       "  </tbody>\n",
       "</table>\n",
       "</div>"
      ],
      "text/plain": [
       "    age  sex   cp  restbp   chol  fbs  restecg  thalach  exang  oldpeak  \\\n",
       "0  63.0  1.0  1.0   145.0  233.0  1.0      2.0    150.0    0.0      2.3   \n",
       "1  67.0  1.0  4.0   160.0  286.0  0.0      2.0    108.0    1.0      1.5   \n",
       "2  67.0  1.0  4.0   120.0  229.0  0.0      2.0    129.0    1.0      2.6   \n",
       "3  37.0  1.0  3.0   130.0  250.0  0.0      0.0    187.0    0.0      3.5   \n",
       "4  41.0  0.0  2.0   130.0  204.0  0.0      2.0    172.0    0.0      1.4   \n",
       "\n",
       "   sloped   ca thal  hd  \n",
       "0     3.0  0.0  6.0   0  \n",
       "1     2.0  3.0  3.0   2  \n",
       "2     2.0  2.0  7.0   1  \n",
       "3     3.0  0.0  3.0   0  \n",
       "4     1.0  0.0  3.0   0  "
      ]
     },
     "execution_count": 6,
     "metadata": {},
     "output_type": "execute_result"
    }
   ],
   "source": [
    "# rename columns\n",
    "df.columns= columns_names\n",
    "df.head()"
   ]
  },
  {
   "cell_type": "code",
   "execution_count": 7,
   "id": "cdcfa85f",
   "metadata": {},
   "outputs": [
    {
     "data": {
      "text/plain": [
       "age        float64\n",
       "sex        float64\n",
       "cp         float64\n",
       "restbp     float64\n",
       "chol       float64\n",
       "fbs        float64\n",
       "restecg    float64\n",
       "thalach    float64\n",
       "exang      float64\n",
       "oldpeak    float64\n",
       "sloped     float64\n",
       "ca          object\n",
       "thal        object\n",
       "hd           int64\n",
       "dtype: object"
      ]
     },
     "execution_count": 7,
     "metadata": {},
     "output_type": "execute_result"
    }
   ],
   "source": [
    "df.dtypes"
   ]
  },
  {
   "cell_type": "code",
   "execution_count": 8,
   "id": "93887b0d",
   "metadata": {},
   "outputs": [
    {
     "data": {
      "text/plain": [
       "array(['0.0', '3.0', '2.0', '1.0', '?'], dtype=object)"
      ]
     },
     "execution_count": 8,
     "metadata": {},
     "output_type": "execute_result"
    }
   ],
   "source": [
    "df['ca'].unique()"
   ]
  },
  {
   "cell_type": "code",
   "execution_count": 9,
   "id": "838cfada",
   "metadata": {},
   "outputs": [
    {
     "data": {
      "text/plain": [
       "array(['6.0', '3.0', '7.0', '?'], dtype=object)"
      ]
     },
     "execution_count": 9,
     "metadata": {},
     "output_type": "execute_result"
    }
   ],
   "source": [
    "df['thal'].unique()"
   ]
  },
  {
   "cell_type": "code",
   "execution_count": 10,
   "id": "4f41e069",
   "metadata": {},
   "outputs": [
    {
     "data": {
      "text/plain": [
       "6"
      ]
     },
     "execution_count": 10,
     "metadata": {},
     "output_type": "execute_result"
    }
   ],
   "source": [
    "# numbers of missing values\n",
    "len(df.loc[(df['ca']=='?') | (df['thal']=='?')])"
   ]
  },
  {
   "cell_type": "code",
   "execution_count": 11,
   "id": "ba75d5e7",
   "metadata": {},
   "outputs": [],
   "source": [
    "# drop missing values\n",
    "df_no_missing_values= df.loc[(df['ca'] != '?') & (df['thal'] != '?')]"
   ]
  },
  {
   "cell_type": "code",
   "execution_count": 12,
   "id": "89ca5ab8",
   "metadata": {},
   "outputs": [
    {
     "data": {
      "text/html": [
       "<div>\n",
       "<style scoped>\n",
       "    .dataframe tbody tr th:only-of-type {\n",
       "        vertical-align: middle;\n",
       "    }\n",
       "\n",
       "    .dataframe tbody tr th {\n",
       "        vertical-align: top;\n",
       "    }\n",
       "\n",
       "    .dataframe thead th {\n",
       "        text-align: right;\n",
       "    }\n",
       "</style>\n",
       "<table border=\"1\" class=\"dataframe\">\n",
       "  <thead>\n",
       "    <tr style=\"text-align: right;\">\n",
       "      <th></th>\n",
       "      <th>age</th>\n",
       "      <th>sex</th>\n",
       "      <th>cp</th>\n",
       "      <th>restbp</th>\n",
       "      <th>chol</th>\n",
       "      <th>fbs</th>\n",
       "      <th>restecg</th>\n",
       "      <th>thalach</th>\n",
       "      <th>exang</th>\n",
       "      <th>oldpeak</th>\n",
       "      <th>sloped</th>\n",
       "      <th>ca</th>\n",
       "      <th>thal</th>\n",
       "      <th>hd</th>\n",
       "    </tr>\n",
       "  </thead>\n",
       "  <tbody>\n",
       "    <tr>\n",
       "      <th>0</th>\n",
       "      <td>63.0</td>\n",
       "      <td>1.0</td>\n",
       "      <td>1.0</td>\n",
       "      <td>145.0</td>\n",
       "      <td>233.0</td>\n",
       "      <td>1.0</td>\n",
       "      <td>2.0</td>\n",
       "      <td>150.0</td>\n",
       "      <td>0.0</td>\n",
       "      <td>2.3</td>\n",
       "      <td>3.0</td>\n",
       "      <td>0.0</td>\n",
       "      <td>6.0</td>\n",
       "      <td>0</td>\n",
       "    </tr>\n",
       "    <tr>\n",
       "      <th>1</th>\n",
       "      <td>67.0</td>\n",
       "      <td>1.0</td>\n",
       "      <td>4.0</td>\n",
       "      <td>160.0</td>\n",
       "      <td>286.0</td>\n",
       "      <td>0.0</td>\n",
       "      <td>2.0</td>\n",
       "      <td>108.0</td>\n",
       "      <td>1.0</td>\n",
       "      <td>1.5</td>\n",
       "      <td>2.0</td>\n",
       "      <td>3.0</td>\n",
       "      <td>3.0</td>\n",
       "      <td>2</td>\n",
       "    </tr>\n",
       "    <tr>\n",
       "      <th>2</th>\n",
       "      <td>67.0</td>\n",
       "      <td>1.0</td>\n",
       "      <td>4.0</td>\n",
       "      <td>120.0</td>\n",
       "      <td>229.0</td>\n",
       "      <td>0.0</td>\n",
       "      <td>2.0</td>\n",
       "      <td>129.0</td>\n",
       "      <td>1.0</td>\n",
       "      <td>2.6</td>\n",
       "      <td>2.0</td>\n",
       "      <td>2.0</td>\n",
       "      <td>7.0</td>\n",
       "      <td>1</td>\n",
       "    </tr>\n",
       "    <tr>\n",
       "      <th>3</th>\n",
       "      <td>37.0</td>\n",
       "      <td>1.0</td>\n",
       "      <td>3.0</td>\n",
       "      <td>130.0</td>\n",
       "      <td>250.0</td>\n",
       "      <td>0.0</td>\n",
       "      <td>0.0</td>\n",
       "      <td>187.0</td>\n",
       "      <td>0.0</td>\n",
       "      <td>3.5</td>\n",
       "      <td>3.0</td>\n",
       "      <td>0.0</td>\n",
       "      <td>3.0</td>\n",
       "      <td>0</td>\n",
       "    </tr>\n",
       "    <tr>\n",
       "      <th>4</th>\n",
       "      <td>41.0</td>\n",
       "      <td>0.0</td>\n",
       "      <td>2.0</td>\n",
       "      <td>130.0</td>\n",
       "      <td>204.0</td>\n",
       "      <td>0.0</td>\n",
       "      <td>2.0</td>\n",
       "      <td>172.0</td>\n",
       "      <td>0.0</td>\n",
       "      <td>1.4</td>\n",
       "      <td>1.0</td>\n",
       "      <td>0.0</td>\n",
       "      <td>3.0</td>\n",
       "      <td>0</td>\n",
       "    </tr>\n",
       "  </tbody>\n",
       "</table>\n",
       "</div>"
      ],
      "text/plain": [
       "    age  sex   cp  restbp   chol  fbs  restecg  thalach  exang  oldpeak  \\\n",
       "0  63.0  1.0  1.0   145.0  233.0  1.0      2.0    150.0    0.0      2.3   \n",
       "1  67.0  1.0  4.0   160.0  286.0  0.0      2.0    108.0    1.0      1.5   \n",
       "2  67.0  1.0  4.0   120.0  229.0  0.0      2.0    129.0    1.0      2.6   \n",
       "3  37.0  1.0  3.0   130.0  250.0  0.0      0.0    187.0    0.0      3.5   \n",
       "4  41.0  0.0  2.0   130.0  204.0  0.0      2.0    172.0    0.0      1.4   \n",
       "\n",
       "   sloped   ca thal  hd  \n",
       "0     3.0  0.0  6.0   0  \n",
       "1     2.0  3.0  3.0   2  \n",
       "2     2.0  2.0  7.0   1  \n",
       "3     3.0  0.0  3.0   0  \n",
       "4     1.0  0.0  3.0   0  "
      ]
     },
     "execution_count": 12,
     "metadata": {},
     "output_type": "execute_result"
    }
   ],
   "source": [
    "df_no_missing_values.head()"
   ]
  },
  {
   "cell_type": "code",
   "execution_count": 13,
   "id": "cda0bca3",
   "metadata": {},
   "outputs": [
    {
     "data": {
      "text/plain": [
       "0"
      ]
     },
     "execution_count": 13,
     "metadata": {},
     "output_type": "execute_result"
    }
   ],
   "source": [
    "len(df_no_missing_values.loc[(df_no_missing_values['ca']=='?') | (df_no_missing_values['thal']=='?')])"
   ]
  },
  {
   "cell_type": "code",
   "execution_count": 14,
   "id": "5a775603",
   "metadata": {},
   "outputs": [
    {
     "name": "stdout",
     "output_type": "stream",
     "text": [
      "['0.0' '3.0' '2.0' '1.0']\n",
      "['6.0' '3.0' '7.0']\n"
     ]
    }
   ],
   "source": [
    "# check new df for missing values \n",
    "print(df_no_missing_values['ca'].unique())\n",
    "print(df_no_missing_values['thal'].unique())"
   ]
  },
  {
   "cell_type": "markdown",
   "id": "ff91704a",
   "metadata": {},
   "source": [
    "#  format data"
   ]
  },
  {
   "cell_type": "code",
   "execution_count": 15,
   "id": "35b3e67e",
   "metadata": {},
   "outputs": [],
   "source": [
    "X= df_no_missing_values.iloc[:,:-1]"
   ]
  },
  {
   "cell_type": "code",
   "execution_count": 16,
   "id": "d8adf495",
   "metadata": {},
   "outputs": [
    {
     "data": {
      "text/html": [
       "<div>\n",
       "<style scoped>\n",
       "    .dataframe tbody tr th:only-of-type {\n",
       "        vertical-align: middle;\n",
       "    }\n",
       "\n",
       "    .dataframe tbody tr th {\n",
       "        vertical-align: top;\n",
       "    }\n",
       "\n",
       "    .dataframe thead th {\n",
       "        text-align: right;\n",
       "    }\n",
       "</style>\n",
       "<table border=\"1\" class=\"dataframe\">\n",
       "  <thead>\n",
       "    <tr style=\"text-align: right;\">\n",
       "      <th></th>\n",
       "      <th>age</th>\n",
       "      <th>sex</th>\n",
       "      <th>cp</th>\n",
       "      <th>restbp</th>\n",
       "      <th>chol</th>\n",
       "      <th>fbs</th>\n",
       "      <th>restecg</th>\n",
       "      <th>thalach</th>\n",
       "      <th>exang</th>\n",
       "      <th>oldpeak</th>\n",
       "      <th>sloped</th>\n",
       "      <th>ca</th>\n",
       "      <th>thal</th>\n",
       "    </tr>\n",
       "  </thead>\n",
       "  <tbody>\n",
       "    <tr>\n",
       "      <th>0</th>\n",
       "      <td>63.0</td>\n",
       "      <td>1.0</td>\n",
       "      <td>1.0</td>\n",
       "      <td>145.0</td>\n",
       "      <td>233.0</td>\n",
       "      <td>1.0</td>\n",
       "      <td>2.0</td>\n",
       "      <td>150.0</td>\n",
       "      <td>0.0</td>\n",
       "      <td>2.3</td>\n",
       "      <td>3.0</td>\n",
       "      <td>0.0</td>\n",
       "      <td>6.0</td>\n",
       "    </tr>\n",
       "    <tr>\n",
       "      <th>1</th>\n",
       "      <td>67.0</td>\n",
       "      <td>1.0</td>\n",
       "      <td>4.0</td>\n",
       "      <td>160.0</td>\n",
       "      <td>286.0</td>\n",
       "      <td>0.0</td>\n",
       "      <td>2.0</td>\n",
       "      <td>108.0</td>\n",
       "      <td>1.0</td>\n",
       "      <td>1.5</td>\n",
       "      <td>2.0</td>\n",
       "      <td>3.0</td>\n",
       "      <td>3.0</td>\n",
       "    </tr>\n",
       "    <tr>\n",
       "      <th>2</th>\n",
       "      <td>67.0</td>\n",
       "      <td>1.0</td>\n",
       "      <td>4.0</td>\n",
       "      <td>120.0</td>\n",
       "      <td>229.0</td>\n",
       "      <td>0.0</td>\n",
       "      <td>2.0</td>\n",
       "      <td>129.0</td>\n",
       "      <td>1.0</td>\n",
       "      <td>2.6</td>\n",
       "      <td>2.0</td>\n",
       "      <td>2.0</td>\n",
       "      <td>7.0</td>\n",
       "    </tr>\n",
       "    <tr>\n",
       "      <th>3</th>\n",
       "      <td>37.0</td>\n",
       "      <td>1.0</td>\n",
       "      <td>3.0</td>\n",
       "      <td>130.0</td>\n",
       "      <td>250.0</td>\n",
       "      <td>0.0</td>\n",
       "      <td>0.0</td>\n",
       "      <td>187.0</td>\n",
       "      <td>0.0</td>\n",
       "      <td>3.5</td>\n",
       "      <td>3.0</td>\n",
       "      <td>0.0</td>\n",
       "      <td>3.0</td>\n",
       "    </tr>\n",
       "    <tr>\n",
       "      <th>4</th>\n",
       "      <td>41.0</td>\n",
       "      <td>0.0</td>\n",
       "      <td>2.0</td>\n",
       "      <td>130.0</td>\n",
       "      <td>204.0</td>\n",
       "      <td>0.0</td>\n",
       "      <td>2.0</td>\n",
       "      <td>172.0</td>\n",
       "      <td>0.0</td>\n",
       "      <td>1.4</td>\n",
       "      <td>1.0</td>\n",
       "      <td>0.0</td>\n",
       "      <td>3.0</td>\n",
       "    </tr>\n",
       "  </tbody>\n",
       "</table>\n",
       "</div>"
      ],
      "text/plain": [
       "    age  sex   cp  restbp   chol  fbs  restecg  thalach  exang  oldpeak  \\\n",
       "0  63.0  1.0  1.0   145.0  233.0  1.0      2.0    150.0    0.0      2.3   \n",
       "1  67.0  1.0  4.0   160.0  286.0  0.0      2.0    108.0    1.0      1.5   \n",
       "2  67.0  1.0  4.0   120.0  229.0  0.0      2.0    129.0    1.0      2.6   \n",
       "3  37.0  1.0  3.0   130.0  250.0  0.0      0.0    187.0    0.0      3.5   \n",
       "4  41.0  0.0  2.0   130.0  204.0  0.0      2.0    172.0    0.0      1.4   \n",
       "\n",
       "   sloped   ca thal  \n",
       "0     3.0  0.0  6.0  \n",
       "1     2.0  3.0  3.0  \n",
       "2     2.0  2.0  7.0  \n",
       "3     3.0  0.0  3.0  \n",
       "4     1.0  0.0  3.0  "
      ]
     },
     "execution_count": 16,
     "metadata": {},
     "output_type": "execute_result"
    }
   ],
   "source": [
    "X.head()"
   ]
  },
  {
   "cell_type": "code",
   "execution_count": 17,
   "id": "8f8129ab",
   "metadata": {},
   "outputs": [
    {
     "data": {
      "text/plain": [
       "(297, 13)"
      ]
     },
     "execution_count": 17,
     "metadata": {},
     "output_type": "execute_result"
    }
   ],
   "source": [
    "X.shape"
   ]
  },
  {
   "cell_type": "code",
   "execution_count": 18,
   "id": "57e87fe2",
   "metadata": {},
   "outputs": [],
   "source": [
    "Y= df_no_missing_values.iloc[:,-1]"
   ]
  },
  {
   "cell_type": "code",
   "execution_count": 19,
   "id": "1e9eaa6c",
   "metadata": {},
   "outputs": [
    {
     "data": {
      "text/plain": [
       "0    0\n",
       "1    2\n",
       "2    1\n",
       "3    0\n",
       "4    0\n",
       "Name: hd, dtype: int64"
      ]
     },
     "execution_count": 19,
     "metadata": {},
     "output_type": "execute_result"
    }
   ],
   "source": [
    "Y.head()"
   ]
  },
  {
   "cell_type": "markdown",
   "id": "65168a2b",
   "metadata": {},
   "source": [
    "#  One hot encoding "
   ]
  },
  {
   "cell_type": "code",
   "execution_count": 20,
   "id": "d623bfb5",
   "metadata": {},
   "outputs": [
    {
     "data": {
      "text/plain": [
       "age        float64\n",
       "sex        float64\n",
       "cp         float64\n",
       "restbp     float64\n",
       "chol       float64\n",
       "fbs        float64\n",
       "restecg    float64\n",
       "thalach    float64\n",
       "exang      float64\n",
       "oldpeak    float64\n",
       "sloped     float64\n",
       "ca          object\n",
       "thal        object\n",
       "dtype: object"
      ]
     },
     "execution_count": 20,
     "metadata": {},
     "output_type": "execute_result"
    }
   ],
   "source": [
    "X.dtypes"
   ]
  },
  {
   "cell_type": "code",
   "execution_count": 21,
   "id": "badf56b0",
   "metadata": {},
   "outputs": [
    {
     "data": {
      "text/plain": [
       "array([1., 4., 3., 2.])"
      ]
     },
     "execution_count": 21,
     "metadata": {},
     "output_type": "execute_result"
    }
   ],
   "source": [
    "X['cp'].unique()"
   ]
  },
  {
   "cell_type": "code",
   "execution_count": 22,
   "id": "7ab75d87",
   "metadata": {},
   "outputs": [],
   "source": [
    "X_encoded= pd.get_dummies(X,  columns= ['cp','restecg', 'sloped', 'thal'])"
   ]
  },
  {
   "cell_type": "code",
   "execution_count": 23,
   "id": "6a2f405e",
   "metadata": {},
   "outputs": [
    {
     "data": {
      "text/html": [
       "<div>\n",
       "<style scoped>\n",
       "    .dataframe tbody tr th:only-of-type {\n",
       "        vertical-align: middle;\n",
       "    }\n",
       "\n",
       "    .dataframe tbody tr th {\n",
       "        vertical-align: top;\n",
       "    }\n",
       "\n",
       "    .dataframe thead th {\n",
       "        text-align: right;\n",
       "    }\n",
       "</style>\n",
       "<table border=\"1\" class=\"dataframe\">\n",
       "  <thead>\n",
       "    <tr style=\"text-align: right;\">\n",
       "      <th></th>\n",
       "      <th>age</th>\n",
       "      <th>sex</th>\n",
       "      <th>restbp</th>\n",
       "      <th>chol</th>\n",
       "      <th>fbs</th>\n",
       "      <th>thalach</th>\n",
       "      <th>exang</th>\n",
       "      <th>oldpeak</th>\n",
       "      <th>ca</th>\n",
       "      <th>cp_1.0</th>\n",
       "      <th>...</th>\n",
       "      <th>cp_4.0</th>\n",
       "      <th>restecg_0.0</th>\n",
       "      <th>restecg_1.0</th>\n",
       "      <th>restecg_2.0</th>\n",
       "      <th>sloped_1.0</th>\n",
       "      <th>sloped_2.0</th>\n",
       "      <th>sloped_3.0</th>\n",
       "      <th>thal_3.0</th>\n",
       "      <th>thal_6.0</th>\n",
       "      <th>thal_7.0</th>\n",
       "    </tr>\n",
       "  </thead>\n",
       "  <tbody>\n",
       "    <tr>\n",
       "      <th>0</th>\n",
       "      <td>63.0</td>\n",
       "      <td>1.0</td>\n",
       "      <td>145.0</td>\n",
       "      <td>233.0</td>\n",
       "      <td>1.0</td>\n",
       "      <td>150.0</td>\n",
       "      <td>0.0</td>\n",
       "      <td>2.3</td>\n",
       "      <td>0.0</td>\n",
       "      <td>1</td>\n",
       "      <td>...</td>\n",
       "      <td>0</td>\n",
       "      <td>0</td>\n",
       "      <td>0</td>\n",
       "      <td>1</td>\n",
       "      <td>0</td>\n",
       "      <td>0</td>\n",
       "      <td>1</td>\n",
       "      <td>0</td>\n",
       "      <td>1</td>\n",
       "      <td>0</td>\n",
       "    </tr>\n",
       "    <tr>\n",
       "      <th>1</th>\n",
       "      <td>67.0</td>\n",
       "      <td>1.0</td>\n",
       "      <td>160.0</td>\n",
       "      <td>286.0</td>\n",
       "      <td>0.0</td>\n",
       "      <td>108.0</td>\n",
       "      <td>1.0</td>\n",
       "      <td>1.5</td>\n",
       "      <td>3.0</td>\n",
       "      <td>0</td>\n",
       "      <td>...</td>\n",
       "      <td>1</td>\n",
       "      <td>0</td>\n",
       "      <td>0</td>\n",
       "      <td>1</td>\n",
       "      <td>0</td>\n",
       "      <td>1</td>\n",
       "      <td>0</td>\n",
       "      <td>1</td>\n",
       "      <td>0</td>\n",
       "      <td>0</td>\n",
       "    </tr>\n",
       "    <tr>\n",
       "      <th>2</th>\n",
       "      <td>67.0</td>\n",
       "      <td>1.0</td>\n",
       "      <td>120.0</td>\n",
       "      <td>229.0</td>\n",
       "      <td>0.0</td>\n",
       "      <td>129.0</td>\n",
       "      <td>1.0</td>\n",
       "      <td>2.6</td>\n",
       "      <td>2.0</td>\n",
       "      <td>0</td>\n",
       "      <td>...</td>\n",
       "      <td>1</td>\n",
       "      <td>0</td>\n",
       "      <td>0</td>\n",
       "      <td>1</td>\n",
       "      <td>0</td>\n",
       "      <td>1</td>\n",
       "      <td>0</td>\n",
       "      <td>0</td>\n",
       "      <td>0</td>\n",
       "      <td>1</td>\n",
       "    </tr>\n",
       "    <tr>\n",
       "      <th>3</th>\n",
       "      <td>37.0</td>\n",
       "      <td>1.0</td>\n",
       "      <td>130.0</td>\n",
       "      <td>250.0</td>\n",
       "      <td>0.0</td>\n",
       "      <td>187.0</td>\n",
       "      <td>0.0</td>\n",
       "      <td>3.5</td>\n",
       "      <td>0.0</td>\n",
       "      <td>0</td>\n",
       "      <td>...</td>\n",
       "      <td>0</td>\n",
       "      <td>1</td>\n",
       "      <td>0</td>\n",
       "      <td>0</td>\n",
       "      <td>0</td>\n",
       "      <td>0</td>\n",
       "      <td>1</td>\n",
       "      <td>1</td>\n",
       "      <td>0</td>\n",
       "      <td>0</td>\n",
       "    </tr>\n",
       "    <tr>\n",
       "      <th>4</th>\n",
       "      <td>41.0</td>\n",
       "      <td>0.0</td>\n",
       "      <td>130.0</td>\n",
       "      <td>204.0</td>\n",
       "      <td>0.0</td>\n",
       "      <td>172.0</td>\n",
       "      <td>0.0</td>\n",
       "      <td>1.4</td>\n",
       "      <td>0.0</td>\n",
       "      <td>0</td>\n",
       "      <td>...</td>\n",
       "      <td>0</td>\n",
       "      <td>0</td>\n",
       "      <td>0</td>\n",
       "      <td>1</td>\n",
       "      <td>1</td>\n",
       "      <td>0</td>\n",
       "      <td>0</td>\n",
       "      <td>1</td>\n",
       "      <td>0</td>\n",
       "      <td>0</td>\n",
       "    </tr>\n",
       "  </tbody>\n",
       "</table>\n",
       "<p>5 rows × 22 columns</p>\n",
       "</div>"
      ],
      "text/plain": [
       "    age  sex  restbp   chol  fbs  thalach  exang  oldpeak   ca  cp_1.0  ...  \\\n",
       "0  63.0  1.0   145.0  233.0  1.0    150.0    0.0      2.3  0.0       1  ...   \n",
       "1  67.0  1.0   160.0  286.0  0.0    108.0    1.0      1.5  3.0       0  ...   \n",
       "2  67.0  1.0   120.0  229.0  0.0    129.0    1.0      2.6  2.0       0  ...   \n",
       "3  37.0  1.0   130.0  250.0  0.0    187.0    0.0      3.5  0.0       0  ...   \n",
       "4  41.0  0.0   130.0  204.0  0.0    172.0    0.0      1.4  0.0       0  ...   \n",
       "\n",
       "   cp_4.0  restecg_0.0  restecg_1.0  restecg_2.0  sloped_1.0  sloped_2.0  \\\n",
       "0       0            0            0            1           0           0   \n",
       "1       1            0            0            1           0           1   \n",
       "2       1            0            0            1           0           1   \n",
       "3       0            1            0            0           0           0   \n",
       "4       0            0            0            1           1           0   \n",
       "\n",
       "   sloped_3.0  thal_3.0  thal_6.0  thal_7.0  \n",
       "0           1         0         1         0  \n",
       "1           0         1         0         0  \n",
       "2           0         0         0         1  \n",
       "3           1         1         0         0  \n",
       "4           0         1         0         0  \n",
       "\n",
       "[5 rows x 22 columns]"
      ]
     },
     "execution_count": 23,
     "metadata": {},
     "output_type": "execute_result"
    }
   ],
   "source": [
    "X_encoded.head()"
   ]
  },
  {
   "cell_type": "code",
   "execution_count": 24,
   "id": "db1a526a",
   "metadata": {},
   "outputs": [
    {
     "data": {
      "text/plain": [
       "age            float64\n",
       "sex            float64\n",
       "restbp         float64\n",
       "chol           float64\n",
       "fbs            float64\n",
       "thalach        float64\n",
       "exang          float64\n",
       "oldpeak        float64\n",
       "ca              object\n",
       "cp_1.0           uint8\n",
       "cp_2.0           uint8\n",
       "cp_3.0           uint8\n",
       "cp_4.0           uint8\n",
       "restecg_0.0      uint8\n",
       "restecg_1.0      uint8\n",
       "restecg_2.0      uint8\n",
       "sloped_1.0       uint8\n",
       "sloped_2.0       uint8\n",
       "sloped_3.0       uint8\n",
       "thal_3.0         uint8\n",
       "thal_6.0         uint8\n",
       "thal_7.0         uint8\n",
       "dtype: object"
      ]
     },
     "execution_count": 24,
     "metadata": {},
     "output_type": "execute_result"
    }
   ],
   "source": [
    "X_encoded.dtypes"
   ]
  },
  {
   "cell_type": "code",
   "execution_count": 25,
   "id": "7b6a31da",
   "metadata": {},
   "outputs": [
    {
     "data": {
      "text/plain": [
       "(297, 22)"
      ]
     },
     "execution_count": 25,
     "metadata": {},
     "output_type": "execute_result"
    }
   ],
   "source": [
    "X_encoded.shape"
   ]
  },
  {
   "cell_type": "code",
   "execution_count": 26,
   "id": "efd17c76",
   "metadata": {},
   "outputs": [
    {
     "data": {
      "text/plain": [
       "array([0, 2, 1, 3, 4], dtype=int64)"
      ]
     },
     "execution_count": 26,
     "metadata": {},
     "output_type": "execute_result"
    }
   ],
   "source": [
    "# examining Y\n",
    "Y.unique()"
   ]
  },
  {
   "cell_type": "code",
   "execution_count": 27,
   "id": "4763fcd7",
   "metadata": {},
   "outputs": [
    {
     "name": "stderr",
     "output_type": "stream",
     "text": [
      "C:\\Users\\ABDELR~1\\AppData\\Local\\Temp/ipykernel_13604/3149217193.py:1: SettingWithCopyWarning: \n",
      "A value is trying to be set on a copy of a slice from a DataFrame\n",
      "\n",
      "See the caveats in the documentation: https://pandas.pydata.org/pandas-docs/stable/user_guide/indexing.html#returning-a-view-versus-a-copy\n",
      "  Y[Y>0]=1\n"
     ]
    }
   ],
   "source": [
    "Y[Y>0]=1"
   ]
  },
  {
   "cell_type": "code",
   "execution_count": 28,
   "id": "140802c6",
   "metadata": {},
   "outputs": [
    {
     "data": {
      "text/plain": [
       "array([0, 1], dtype=int64)"
      ]
     },
     "execution_count": 28,
     "metadata": {},
     "output_type": "execute_result"
    }
   ],
   "source": [
    "Y.unique()"
   ]
  },
  {
   "cell_type": "code",
   "execution_count": 29,
   "id": "808cd579",
   "metadata": {},
   "outputs": [
    {
     "data": {
      "text/plain": [
       "(297,)"
      ]
     },
     "execution_count": 29,
     "metadata": {},
     "output_type": "execute_result"
    }
   ],
   "source": [
    "Y.shape"
   ]
  },
  {
   "cell_type": "markdown",
   "id": "fa509135",
   "metadata": {},
   "source": [
    "# Build a preliminary classification Tree"
   ]
  },
  {
   "cell_type": "code",
   "execution_count": 30,
   "id": "3ded8829",
   "metadata": {},
   "outputs": [],
   "source": [
    "# splitting data into train and test\n",
    "X_train, X_test ,Y_train, Y_test= train_test_split(X_encoded, Y, random_state= 42)\n",
    "\n",
    "# create decision tree and fit ti data\n",
    "classifier= DecisionTreeClassifier(random_state= 42)\n",
    "classifier= classifier.fit(X_train, Y_train)"
   ]
  },
  {
   "cell_type": "code",
   "execution_count": 31,
   "id": "0deef09f",
   "metadata": {},
   "outputs": [
    {
     "data": {
      "image/png": "[encoded data removed]",
      "text/plain": [
       "<Figure size 1080x540 with 1 Axes>"
      ]
     },
     "metadata": {
      "needs_background": "light"
     },
     "output_type": "display_data"
    }
   ],
   "source": [
    "plt.figure(figsize=(15,7.5))\n",
    "plot_tree(classifier, filled= True, rounded= True, class_names= ['no HD', 'yes HD'], feature_names= X_encoded.columns);"
   ]
  },
  {
   "cell_type": "markdown",
   "id": "f39bb2b1",
   "metadata": {},
   "source": [
    "# Evaluation of preliminary tree\n"
   ]
  },
  {
   "cell_type": "code",
   "execution_count": 32,
   "id": "6a6bb52d",
   "metadata": {},
   "outputs": [
    {
     "data": {
      "text/plain": [
       "<sklearn.metrics._plot.confusion_matrix.ConfusionMatrixDisplay at 0x1be0ece3ac0>"
      ]
     },
     "execution_count": 32,
     "metadata": {},
     "output_type": "execute_result"
    },
    {
     "data": {
      "image/png": "[encoded data removed]",
      "text/plain": [
       "<Figure size 432x288 with 2 Axes>"
      ]
     },
     "metadata": {
      "needs_background": "light"
     },
     "output_type": "display_data"
    }
   ],
   "source": [
    "plot_confusion_matrix(classifier, X_test, Y_test, display_labels= ['no HD', 'has HD'])"
   ]
  },
  {
   "cell_type": "code",
   "execution_count": 33,
   "id": "02c1fc1a",
   "metadata": {},
   "outputs": [],
   "source": [
    "# Predict the test set probabilities of the positive class\n",
    "y_pred_proba = classifier.predict_proba(X_test)[:,1]\n"
   ]
  },
  {
   "cell_type": "code",
   "execution_count": 34,
   "id": "6f798fcb",
   "metadata": {},
   "outputs": [],
   "source": [
    "# Predict the test set probabilities of the positive class\n",
    "y_pred_proba = classifier.predict_proba(X_test)[:,1]\n"
   ]
  },
  {
   "cell_type": "code",
   "execution_count": 37,
   "id": "529b3e6a",
   "metadata": {},
   "outputs": [],
   "source": [
    "# Compute test_roc_auc\n",
    "test_roc_auc = roc_auc_score(Y_test, y_pred_proba)\n"
   ]
  },
  {
   "cell_type": "code",
   "execution_count": 38,
   "id": "a38c2730",
   "metadata": {},
   "outputs": [
    {
     "name": "stdout",
     "output_type": "stream",
     "text": [
      "Test set ROC AUC score: 0.763\n"
     ]
    }
   ],
   "source": [
    "\n",
    "# Print test_roc_auc\n",
    "print('Test set ROC AUC score: {:.3f}'.format(test_roc_auc))"
   ]
  },
  {
   "cell_type": "markdown",
   "id": "1083aeb2",
   "metadata": {},
   "source": [
    "# CV with decetion tree"
   ]
  },
  {
   "cell_type": "code",
   "execution_count": 39,
   "id": "4f3cf2f2",
   "metadata": {},
   "outputs": [],
   "source": [
    " # Define params_dt\n",
    "params_dt = {'max_depth':[2,3,4,5,6,7,8,9,10],\n",
    "            'min_samples_leaf': [0.12, 0.14, 0.16, 0.18]}"
   ]
  },
  {
   "cell_type": "code",
   "execution_count": 40,
   "id": "55d750da",
   "metadata": {},
   "outputs": [],
   "source": [
    "from sklearn.model_selection import GridSearchCV"
   ]
  },
  {
   "cell_type": "code",
   "execution_count": 41,
   "id": "de492550",
   "metadata": {},
   "outputs": [],
   "source": [
    "# Instantiate grid_dt\n",
    "grid_dt = GridSearchCV(estimator=classifier,\n",
    "                       param_grid=params_dt,\n",
    "                       scoring='roc_auc',\n",
    "                       cv=5,\n",
    "                       n_jobs=-1)"
   ]
  },
  {
   "cell_type": "code",
   "execution_count": 42,
   "id": "39a0041a",
   "metadata": {},
   "outputs": [],
   "source": [
    "# Import roc_auc_score from sklearn.metrics\n",
    "from sklearn.metrics import roc_auc_score\n"
   ]
  },
  {
   "cell_type": "code",
   "execution_count": 43,
   "id": "3dfa0fab",
   "metadata": {},
   "outputs": [
    {
     "data": {
      "text/plain": [
       "GridSearchCV(cv=5, estimator=DecisionTreeClassifier(random_state=42), n_jobs=-1,\n",
       "             param_grid={'max_depth': [2, 3, 4, 5, 6, 7, 8, 9, 10],\n",
       "                         'min_samples_leaf': [0.12, 0.14, 0.16, 0.18]},\n",
       "             scoring='roc_auc')"
      ]
     },
     "execution_count": 43,
     "metadata": {},
     "output_type": "execute_result"
    }
   ],
   "source": [
    "# fit \n",
    "grid_dt.fit(X_train, Y_train)\n"
   ]
  },
  {
   "cell_type": "markdown",
   "id": "ce38e1bd",
   "metadata": {},
   "source": [
    "# Evaluating grid CV model"
   ]
  },
  {
   "cell_type": "code",
   "execution_count": 78,
   "id": "59b0fce5",
   "metadata": {},
   "outputs": [],
   "source": [
    "# Extract the best estimator\n",
    "best_model = grid_dt.best_estimator_\n"
   ]
  },
  {
   "cell_type": "code",
   "execution_count": 83,
   "id": "960b3d2d",
   "metadata": {},
   "outputs": [],
   "source": [
    "# Predict the test set probabilities of the positive class\n",
    "y_pred_proba = best_model.predict_proba(X_test)[:,1]\n",
    "\n",
    "# Predict test set labels\n",
    "y_pred = best_model.predict(X_test)\n"
   ]
  },
  {
   "cell_type": "code",
   "execution_count": 84,
   "id": "2371ce04",
   "metadata": {},
   "outputs": [
    {
     "name": "stdout",
     "output_type": "stream",
     "text": [
      "Test set ROC AUC score: 0.816\n",
      "Test set accuracy of bc: 0.79\n"
     ]
    }
   ],
   "source": [
    "# Compute test_roc_auc\n",
    "test_roc_auc = roc_auc_score(Y_test, y_pred_proba)\n",
    "\n",
    "# Print test_roc_auc\n",
    "print('Test set ROC AUC score: {:.3f}'.format(test_roc_auc))\n",
    "\n",
    "\n",
    "# Evaluate acc_test\n",
    "acc_test = accuracy_score(y_pred, Y_test)\n",
    "print('Test set accuracy of bc: {:.2f}'.format(acc_test)) "
   ]
  },
  {
   "cell_type": "code",
   "execution_count": 81,
   "id": "0c6293dd",
   "metadata": {},
   "outputs": [
    {
     "data": {
      "text/plain": [
       "<sklearn.metrics._plot.confusion_matrix.ConfusionMatrixDisplay at 0x1be0f0270a0>"
      ]
     },
     "execution_count": 81,
     "metadata": {},
     "output_type": "execute_result"
    },
    {
     "data": {
      "image/png": "[encoded data removed]",
      "text/plain": [
       "<Figure size 432x288 with 2 Axes>"
      ]
     },
     "metadata": {
      "needs_background": "light"
     },
     "output_type": "display_data"
    }
   ],
   "source": [
    "plot_confusion_matrix(best_model, X_test, Y_test, display_labels= ['no HD', 'has HD'])"
   ]
  },
  {
   "cell_type": "code",
   "execution_count": 82,
   "id": "eaa0bc72",
   "metadata": {},
   "outputs": [
    {
     "data": {
      "image/png": "[encoded data removed]",
      "text/plain": [
       "<Figure size 1080x540 with 1 Axes>"
      ]
     },
     "metadata": {
      "needs_background": "light"
     },
     "output_type": "display_data"
    }
   ],
   "source": [
    "plt.figure(figsize=(15,7.5))\n",
    "plot_tree(best_model, filled= True, rounded= True, class_names= ['no HD', 'yes HD'], feature_names= X_encoded.columns);"
   ]
  },
  {
   "cell_type": "markdown",
   "id": "1a841eef",
   "metadata": {},
   "source": [
    "# ada boosting"
   ]
  },
  {
   "cell_type": "code",
   "execution_count": 151,
   "id": "2c34fc91",
   "metadata": {},
   "outputs": [],
   "source": [
    "# Import AdaBoostClassifier\n",
    "from sklearn.ensemble import AdaBoostClassifier\n",
    "\n",
    "# Instantiate dt\n",
    "dt = DecisionTreeClassifier(max_depth=2, random_state=1)\n",
    "\n",
    "# Instantiate ada\n",
    "ada = AdaBoostClassifier(base_estimator=dt, n_estimators=80, random_state=1)"
   ]
  },
  {
   "cell_type": "code",
   "execution_count": 152,
   "id": "ab25f43e",
   "metadata": {},
   "outputs": [],
   "source": [
    "# Fit ada to the training set\n",
    "ada.fit(X_train, Y_train)\n",
    "\n",
    "# Compute the probabilities of obtaining the positive class\n",
    "y_pred_proba =ada.predict_proba(X_test)[:,1]\n",
    "\n",
    "# Predict test set labels\n",
    "y_pred = ada.predict(X_test)\n"
   ]
  },
  {
   "cell_type": "code",
   "execution_count": 153,
   "id": "87513d7e",
   "metadata": {},
   "outputs": [
    {
     "name": "stdout",
     "output_type": "stream",
     "text": [
      "ROC AUC score: 0.89\n",
      "Test set accuracy of bc: 0.85\n"
     ]
    }
   ],
   "source": [
    "# Evaluate test-set roc_auc_score\n",
    "ada_roc_auc = roc_auc_score(Y_test, y_pred_proba)\n",
    "\n",
    "\n",
    "# Print roc_auc_score\n",
    "print('ROC AUC score: {:.2f}'.format(ada_roc_auc))\n",
    "\n",
    "\n",
    "# Evaluate acc_test\n",
    "acc_test = accuracy_score(y_pred, Y_test)\n",
    "print('Test set accuracy of bc: {:.2f}'.format(acc_test)) "
   ]
  },
  {
   "cell_type": "code",
   "execution_count": 154,
   "id": "d9e91748",
   "metadata": {},
   "outputs": [
    {
     "data": {
      "text/plain": [
       "<sklearn.metrics._plot.confusion_matrix.ConfusionMatrixDisplay at 0x1be10e52e80>"
      ]
     },
     "execution_count": 154,
     "metadata": {},
     "output_type": "execute_result"
    },
    {
     "data": {
      "image/png": "[encoded data removed]",
      "text/plain": [
       "<Figure size 432x288 with 2 Axes>"
      ]
     },
     "metadata": {
      "needs_background": "light"
     },
     "output_type": "display_data"
    }
   ],
   "source": [
    "plot_confusion_matrix(ada, X_test, Y_test, display_labels= ['no HD', 'has HD'])"
   ]
  },
  {
   "cell_type": "markdown",
   "id": "11dcf69c",
   "metadata": {},
   "source": [
    "# bagging"
   ]
  },
  {
   "cell_type": "code",
   "execution_count": 89,
   "id": "a972502b",
   "metadata": {},
   "outputs": [],
   "source": [
    "# Import BaggingClassifier\n",
    "from sklearn.ensemble import BaggingClassifier\n"
   ]
  },
  {
   "cell_type": "code",
   "execution_count": 170,
   "id": "e64d0169",
   "metadata": {},
   "outputs": [],
   "source": [
    "\n",
    "# Instantiate dt\n",
    "dt = DecisionTreeClassifier(random_state=1)\n",
    "\n",
    "# Instantiate bc\n",
    "bc = BaggingClassifier(base_estimator=dt, n_estimators=50, random_state=1)"
   ]
  },
  {
   "cell_type": "code",
   "execution_count": 171,
   "id": "8af03466",
   "metadata": {},
   "outputs": [
    {
     "data": {
      "text/plain": [
       "BaggingClassifier(base_estimator=DecisionTreeClassifier(random_state=1),\n",
       "                  n_estimators=50, random_state=1)"
      ]
     },
     "execution_count": 171,
     "metadata": {},
     "output_type": "execute_result"
    }
   ],
   "source": [
    "# Fit bc to the training set\n",
    "bc.fit(X_train, Y_train)\n"
   ]
  },
  {
   "cell_type": "code",
   "execution_count": 172,
   "id": "70df6178",
   "metadata": {},
   "outputs": [],
   "source": [
    "# Compute the probabilities of obtaining the positive class\n",
    "y_pred_proba =bc.predict_proba(X_test)[:,1]\n",
    "\n",
    "# Predict test set labels\n",
    "y_pred = bc.predict(X_test)\n",
    "\n"
   ]
  },
  {
   "cell_type": "code",
   "execution_count": 173,
   "id": "25d362bb",
   "metadata": {},
   "outputs": [
    {
     "name": "stdout",
     "output_type": "stream",
     "text": [
      "ROC AUC score: 0.91\n",
      "Test set accuracy of bc: 0.81\n"
     ]
    }
   ],
   "source": [
    "# Evaluate test-set roc_auc_score\n",
    "bc_roc_auc = roc_auc_score(Y_test, y_pred_proba)\n",
    "\n",
    "# Print roc_auc_score\n",
    "print('ROC AUC score: {:.2f}'.format(bc_roc_auc))\n",
    "\n",
    "# Evaluate acc_test\n",
    "acc_test = accuracy_score(y_pred, Y_test)\n",
    "print('Test set accuracy of bc: {:.2f}'.format(acc_test)) "
   ]
  },
  {
   "cell_type": "code",
   "execution_count": 174,
   "id": "0fc77543",
   "metadata": {},
   "outputs": [
    {
     "data": {
      "text/plain": [
       "<sklearn.metrics._plot.confusion_matrix.ConfusionMatrixDisplay at 0x1be10dab8e0>"
      ]
     },
     "execution_count": 174,
     "metadata": {},
     "output_type": "execute_result"
    },
    {
     "data": {
      "image/png": "[encoded data removed]",
      "text/plain": [
       "<Figure size 432x288 with 2 Axes>"
      ]
     },
     "metadata": {
      "needs_background": "light"
     },
     "output_type": "display_data"
    }
   ],
   "source": [
    "plot_confusion_matrix(bc, X_test, Y_test, display_labels= ['no HD', 'has HD'])"
   ]
  },
  {
   "cell_type": "code",
   "execution_count": null,
   "id": "a69f9aa2",
   "metadata": {},
   "outputs": [],
   "source": []
  }
 ],
 "metadata": {
  "kernelspec": {
   "display_name": "Python 3 (ipykernel)",
   "language": "python",
   "name": "python3"
  },
  "language_info": {
   "codemirror_mode": {
    "name": "ipython",
    "version": 3
   },
   "file_extension": ".py",
   "mimetype": "text/x-python",
   "name": "python",
   "nbconvert_exporter": "python",
   "pygments_lexer": "ipython3",
   "version": "3.8.11"
  }
 },
 "nbformat": 4,
 "nbformat_minor": 5
}
