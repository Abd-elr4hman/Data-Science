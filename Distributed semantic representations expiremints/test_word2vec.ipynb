{
 "cells": [
  {
   "cell_type": "markdown",
   "id": "ff205b3d",
   "metadata": {},
   "source": [
    "# In this notebook I expirement with distributed semantic representations."
   ]
  },
  {
   "cell_type": "markdown",
   "id": "8349acb8",
   "metadata": {},
   "source": [
    "- Dense distributed representations represent words as embeddings in a continuous vector space where semantically similar words are mapped to nearby points.\n",
    "- in this notebook i test word2vec, Glove50d and Glive100d embeddings on 4 different analogy tests to measure to what extent are embedding models able to capture semantic relationships(and surplrisingly more!) between words.\n",
    "- The goal of the analogy tests is to predict the 4th entry in a row given the analogy expressed by the first 3 words."
   ]
  },
  {
   "cell_type": "markdown",
   "id": "922cce96",
   "metadata": {},
   "source": [
    "## Imports"
   ]
  },
  {
   "cell_type": "code",
   "execution_count": 60,
   "id": "2c859dd5",
   "metadata": {},
   "outputs": [],
   "source": [
    "from gensim.models import KeyedVectors\n",
    "import re\n",
    "from tqdm import tqdm"
   ]
  },
  {
   "cell_type": "markdown",
   "id": "1256e4ce",
   "metadata": {},
   "source": [
    "### Test on plural-verbs analogy "
   ]
  },
  {
   "cell_type": "code",
   "execution_count": 64,
   "id": "a8d9a45b",
   "metadata": {},
   "outputs": [],
   "source": [
    "base_dir='/Users/Abdelrahman/scrape/fayd/test-category/' \n",
    "filename_test_1= 'plural-verbs.txt'"
   ]
  },
  {
   "cell_type": "code",
   "execution_count": 105,
   "id": "5e3e7c6c",
   "metadata": {},
   "outputs": [],
   "source": [
    "# preprocess the test data file\n",
    "def preprocess(base_dir, filename):\n",
    "    with open(base_dir + filename) as f:\n",
    "        lines = f.readlines()\n",
    "        \n",
    "    # ramoving new line characters\n",
    "    for index, line in enumerate(lines):\n",
    "        lines[index]= re.sub(\"\\n\", \"\", line)\n",
    "    \n",
    "    for index, line in enumerate(lines):\n",
    "        lines[index]= re.sub(\"\\t\", \"\", line)\n",
    "    \n",
    "    # Split a line of words into an array of words\n",
    "    words=[]\n",
    "    for line in lines:\n",
    "        words.append(line.split())\n",
    "        lines[index]= line.lower()\n",
    "    \n",
    "    return words\n"
   ]
  },
  {
   "cell_type": "code",
   "execution_count": 106,
   "id": "b377949f",
   "metadata": {},
   "outputs": [],
   "source": [
    "words_test_1= preprocess(base_dir, filename_test_1)"
   ]
  },
  {
   "cell_type": "code",
   "execution_count": 107,
   "id": "2ce7b929",
   "metadata": {},
   "outputs": [
    {
     "data": {
      "text/plain": [
       "[['decrease', 'decreases', 'describe', 'describes'],\n",
       " ['decrease', 'decreases', 'eat', 'eats'],\n",
       " ['decrease', 'decreases', 'enhance', 'enhances'],\n",
       " ['decrease', 'decreases', 'estimate', 'estimates'],\n",
       " ['decrease', 'decreases', 'find', 'finds']]"
      ]
     },
     "execution_count": 107,
     "metadata": {},
     "output_type": "execute_result"
    }
   ],
   "source": [
    "# show preprocessed data\n",
    "words_test_1[0:5]"
   ]
  },
  {
   "cell_type": "code",
   "execution_count": 72,
   "id": "c16bc8ac",
   "metadata": {},
   "outputs": [
    {
     "data": {
      "text/plain": [
       "866"
      ]
     },
     "execution_count": 72,
     "metadata": {},
     "output_type": "execute_result"
    }
   ],
   "source": [
    "# show number of examles in words list\n",
    "len_words_test_1= len(words)\n",
    "len_words_test_1"
   ]
  },
  {
   "cell_type": "markdown",
   "id": "372167ca",
   "metadata": {},
   "source": [
    "### Test on plural-nouns analogy "
   ]
  },
  {
   "cell_type": "code",
   "execution_count": 22,
   "id": "62b7134a",
   "metadata": {},
   "outputs": [],
   "source": [
    "filename_test_2= 'gram8-plural.txt'"
   ]
  },
  {
   "cell_type": "code",
   "execution_count": 37,
   "id": "60dd228d",
   "metadata": {},
   "outputs": [],
   "source": [
    "words_test_2= preprocess(base_dir, filename_test_2)"
   ]
  },
  {
   "cell_type": "code",
   "execution_count": 38,
   "id": "d34b5e6b",
   "metadata": {},
   "outputs": [
    {
     "data": {
      "text/plain": [
       "[['banana', 'bananas', 'bird', 'birds'],\n",
       " ['banana', 'bananas', 'bottle', 'bottles'],\n",
       " ['banana', 'bananas', 'building', 'buildings'],\n",
       " ['banana', 'bananas', 'car', 'cars'],\n",
       " ['banana', 'bananas', 'cat', 'cats']]"
      ]
     },
     "execution_count": 38,
     "metadata": {},
     "output_type": "execute_result"
    }
   ],
   "source": [
    "# show preprocessed data\n",
    "words_test_2[0:5]"
   ]
  },
  {
   "cell_type": "code",
   "execution_count": 54,
   "id": "90300978",
   "metadata": {},
   "outputs": [
    {
     "data": {
      "text/plain": [
       "1332"
      ]
     },
     "execution_count": 54,
     "metadata": {},
     "output_type": "execute_result"
    }
   ],
   "source": [
    "# show number of examles in words_test_2 list\n",
    "len_words_test_2= len(words_test_2)\n",
    "len_words_test_2"
   ]
  },
  {
   "cell_type": "markdown",
   "id": "6058648f",
   "metadata": {},
   "source": [
    "### Test on capital_common_countries analogy "
   ]
  },
  {
   "cell_type": "code",
   "execution_count": 39,
   "id": "d6e029dd",
   "metadata": {},
   "outputs": [],
   "source": [
    "filename_test_3= 'capital_common_countries.txt'"
   ]
  },
  {
   "cell_type": "code",
   "execution_count": 40,
   "id": "ecd46148",
   "metadata": {},
   "outputs": [],
   "source": [
    "words_test_3= preprocess(base_dir, filename_test_3)"
   ]
  },
  {
   "cell_type": "code",
   "execution_count": 41,
   "id": "d68e32b4",
   "metadata": {},
   "outputs": [
    {
     "data": {
      "text/plain": [
       "[['Athens', 'Greece', 'Baghdad', 'Iraq'],\n",
       " ['Athens', 'Greece', 'Bangkok', 'Thailand'],\n",
       " ['Athens', 'Greece', 'Beijing', 'China'],\n",
       " ['Athens', 'Greece', 'Berlin', 'Germany'],\n",
       " ['Athens', 'Greece', 'Bern', 'Switzerland']]"
      ]
     },
     "execution_count": 41,
     "metadata": {},
     "output_type": "execute_result"
    }
   ],
   "source": [
    "# show preprocessed data\n",
    "words_test_3[0:5]"
   ]
  },
  {
   "cell_type": "code",
   "execution_count": 55,
   "id": "383d8d7c",
   "metadata": {},
   "outputs": [
    {
     "data": {
      "text/plain": [
       "506"
      ]
     },
     "execution_count": 55,
     "metadata": {},
     "output_type": "execute_result"
    }
   ],
   "source": [
    "# show number of examles in words_test_3 list\n",
    "len_words_test_3= len(words_test_3)\n",
    "len_words_test_3"
   ]
  },
  {
   "cell_type": "markdown",
   "id": "69eaf2b6",
   "metadata": {},
   "source": [
    "### Test on currency analogy "
   ]
  },
  {
   "cell_type": "code",
   "execution_count": 29,
   "id": "ad5837df",
   "metadata": {},
   "outputs": [],
   "source": [
    "filename_test_4= 'currency.txt'"
   ]
  },
  {
   "cell_type": "code",
   "execution_count": 44,
   "id": "4c5dcf59",
   "metadata": {},
   "outputs": [],
   "source": [
    "words_test_4= preprocess(base_dir, filename_test_4)"
   ]
  },
  {
   "cell_type": "code",
   "execution_count": 45,
   "id": "45a7f55b",
   "metadata": {},
   "outputs": [
    {
     "data": {
      "text/plain": [
       "[['Algeria', 'dinar', 'Angola', 'kwanza'],\n",
       " ['Algeria', 'dinar', 'Argentina', 'peso'],\n",
       " ['Algeria', 'dinar', 'Armenia', 'dram'],\n",
       " ['Algeria', 'dinar', 'Brazil', 'real'],\n",
       " ['Algeria', 'dinar', 'Bulgaria', 'lev']]"
      ]
     },
     "execution_count": 45,
     "metadata": {},
     "output_type": "execute_result"
    }
   ],
   "source": [
    "# show preprocessed data\n",
    "words_test_4[0:5]"
   ]
  },
  {
   "cell_type": "code",
   "execution_count": 56,
   "id": "f842c01f",
   "metadata": {},
   "outputs": [
    {
     "data": {
      "text/plain": [
       "866"
      ]
     },
     "execution_count": 56,
     "metadata": {},
     "output_type": "execute_result"
    }
   ],
   "source": [
    "# show number of examles in words_test_4 list\n",
    "len_words_test_4= len(words_test_4)\n",
    "len_words_test_4"
   ]
  },
  {
   "cell_type": "code",
   "execution_count": null,
   "id": "e38613ac",
   "metadata": {},
   "outputs": [],
   "source": []
  },
  {
   "cell_type": "markdown",
   "id": "5f83a5e5",
   "metadata": {},
   "source": [
    "# Word2vec Testing"
   ]
  },
  {
   "cell_type": "code",
   "execution_count": 47,
   "id": "83592f33",
   "metadata": {},
   "outputs": [],
   "source": [
    "# Loading the model\n",
    "word2vec_model = KeyedVectors.load_word2vec_format('/Users/Abdelrahman/scrape/fayd/embeddings/GoogleNews-vectors-negative300.bin', binary=True)"
   ]
  },
  {
   "cell_type": "code",
   "execution_count": 50,
   "id": "090f8a24",
   "metadata": {},
   "outputs": [
    {
     "data": {
      "text/plain": [
       "'eats'"
      ]
     },
     "execution_count": 50,
     "metadata": {},
     "output_type": "execute_result"
    }
   ],
   "source": [
    "# test example \n",
    "word, conf= word2vec_model.most_similar(positive=['decreases','eat'],negative=['decrease'], topn=1)[0]\n",
    "word"
   ]
  },
  {
   "cell_type": "code",
   "execution_count": 92,
   "id": "4e258cd8",
   "metadata": {},
   "outputs": [],
   "source": [
    "def calculate_accuracy(words_list, len_words_list, model_instance):\n",
    "    ''' accuracy is calculated as correctly answered / number of examples. '''\n",
    "    correct_answ=0\n",
    "    for line in tqdm(words_list):\n",
    "        word, conf= model_instance.most_similar(positive=[line[2],line[1]],negative=[line[0]], topn=1)[0]\n",
    "\n",
    "        if word == line[3]:\n",
    "            correct_answ= correct_answ + 1 \n",
    "        \n",
    "    acc = correct_answ / len_words_list\n",
    "    return acc"
   ]
  },
  {
   "cell_type": "markdown",
   "id": "c19b7aa9",
   "metadata": {},
   "source": [
    "### Word2vec accuracy on plural verbs analogy"
   ]
  },
  {
   "cell_type": "code",
   "execution_count": 83,
   "id": "8273a0aa",
   "metadata": {},
   "outputs": [
    {
     "name": "stderr",
     "output_type": "stream",
     "text": [
      "100%|██████████| 870/870 [03:17<00:00,  4.40it/s]\n"
     ]
    },
    {
     "data": {
      "text/plain": [
       "0.6824480369515011"
      ]
     },
     "execution_count": 83,
     "metadata": {},
     "output_type": "execute_result"
    }
   ],
   "source": [
    "acc= calculate_accuracy(words_list= words_test_1, len_words_list=len_words_test_1, model_instance= word2vec_model)\n",
    "acc"
   ]
  },
  {
   "cell_type": "markdown",
   "id": "8f552643",
   "metadata": {},
   "source": [
    "### Word2vec accuracy on plural-nouns analogy "
   ]
  },
  {
   "cell_type": "code",
   "execution_count": 85,
   "id": "21f57119",
   "metadata": {},
   "outputs": [
    {
     "name": "stderr",
     "output_type": "stream",
     "text": [
      "100%|██████████| 1332/1332 [05:03<00:00,  4.39it/s]\n"
     ]
    },
    {
     "data": {
      "text/plain": [
       "0.8986486486486487"
      ]
     },
     "execution_count": 85,
     "metadata": {},
     "output_type": "execute_result"
    }
   ],
   "source": [
    "acc= calculate_accuracy(words_list= words_test_2, len_words_list=len_words_test_2, model_instance= word2vec_model)\n",
    "acc"
   ]
  },
  {
   "cell_type": "markdown",
   "id": "5c497c83",
   "metadata": {},
   "source": [
    "### Word2vec accuracy on capital_common_countries analogy "
   ]
  },
  {
   "cell_type": "code",
   "execution_count": 88,
   "id": "544c95af",
   "metadata": {},
   "outputs": [
    {
     "name": "stderr",
     "output_type": "stream",
     "text": [
      "100%|██████████| 506/506 [01:55<00:00,  4.37it/s]\n"
     ]
    },
    {
     "data": {
      "text/plain": [
       "0.8320158102766798"
      ]
     },
     "execution_count": 88,
     "metadata": {},
     "output_type": "execute_result"
    }
   ],
   "source": [
    "acc= calculate_accuracy(words_list= words_test_3, len_words_list=len_words_test_3, model_instance= word2vec_model)\n",
    "acc"
   ]
  },
  {
   "cell_type": "markdown",
   "id": "07bf19ca",
   "metadata": {},
   "source": [
    "### Word2vec accuracy on currency analogy  "
   ]
  },
  {
   "cell_type": "code",
   "execution_count": 89,
   "id": "882f669b",
   "metadata": {},
   "outputs": [
    {
     "name": "stderr",
     "output_type": "stream",
     "text": [
      "100%|██████████| 866/866 [03:19<00:00,  4.34it/s]\n"
     ]
    },
    {
     "data": {
      "text/plain": [
       "0.3510392609699769"
      ]
     },
     "execution_count": 89,
     "metadata": {},
     "output_type": "execute_result"
    }
   ],
   "source": [
    "acc= calculate_accuracy(words_list= words_test_4, len_words_list=len_words_test_4, model_instance= word2vec_model)\n",
    "acc"
   ]
  },
  {
   "cell_type": "markdown",
   "id": "5e046ff3",
   "metadata": {},
   "source": [
    "## word2vec results:"
   ]
  },
  {
   "cell_type": "markdown",
   "id": "a1f68839",
   "metadata": {},
   "source": [
    "| Model | plural verbs| plural nouns | capital common countries | currency |\n",
    "| --- | --- | --- | --- | --- |\n",
    "| word2vec | 0.68 | 0.89 | 0.83 | 0.35 |"
   ]
  },
  {
   "cell_type": "markdown",
   "id": "033cd449",
   "metadata": {},
   "source": []
  }
 ],
 "metadata": {
  "kernelspec": {
   "display_name": "Python 3",
   "language": "python",
   "name": "python3"
  },
  "language_info": {
   "codemirror_mode": {
    "name": "ipython",
    "version": 3
   },
   "file_extension": ".py",
   "mimetype": "text/x-python",
   "name": "python",
   "nbconvert_exporter": "python",
   "pygments_lexer": "ipython3",
   "version": "3.6.13"
  }
 },
 "nbformat": 4,
 "nbformat_minor": 5
}
