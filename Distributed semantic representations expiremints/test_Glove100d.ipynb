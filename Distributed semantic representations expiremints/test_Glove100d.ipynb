{
 "cells": [
  {
   "cell_type": "markdown",
   "id": "0f58fc9a",
   "metadata": {},
   "source": [
    "# In this notebook I expirement with distributed semantic representations."
   ]
  },
  {
   "cell_type": "markdown",
   "id": "b3e1051d",
   "metadata": {},
   "source": [
    "- Dense distributed representations represent words as embeddings in a continuous vector space where semantically similar words are mapped to nearby points.\n",
    "- in this notebook i test word2vec, Glove50d and Glive100d embeddings on 4 different analogy tests to measure to what extent are embedding models able to capture semantic relationships(and surplrisingly more!) between words.\n",
    "- The goal of the analogy tests is to predict the 4th entry in a row given the analogy expressed by the first 3 words."
   ]
  },
  {
   "cell_type": "markdown",
   "id": "bebdd5dc",
   "metadata": {},
   "source": [
    "## Imports"
   ]
  },
  {
   "cell_type": "code",
   "execution_count": 1,
   "id": "a79a9c02",
   "metadata": {},
   "outputs": [],
   "source": [
    "from gensim.models import KeyedVectors\n",
    "import re\n",
    "from tqdm import tqdm"
   ]
  },
  {
   "cell_type": "markdown",
   "id": "0e59d83d",
   "metadata": {},
   "source": [
    "### Test on plural-verbs analogy "
   ]
  },
  {
   "cell_type": "code",
   "execution_count": 2,
   "id": "a0fbc59e",
   "metadata": {},
   "outputs": [],
   "source": [
    "base_dir='/Users/Abdelrahman/scrape/fayd/test-category/' \n",
    "filename_test_1= 'plural-verbs.txt'"
   ]
  },
  {
   "cell_type": "code",
   "execution_count": 3,
   "id": "10372d7e",
   "metadata": {},
   "outputs": [],
   "source": [
    "# preprocess the test data file\n",
    "def preprocess(base_dir, filename):\n",
    "    with open(base_dir + filename) as f:\n",
    "        lines = f.readlines()\n",
    "        \n",
    "    # ramoving new line characters\n",
    "    for index, line in enumerate(lines):\n",
    "        lines[index]= re.sub(\"\\n\", \"\", line)\n",
    "    \n",
    "    for index, line in enumerate(lines):\n",
    "        lines[index]= re.sub(\"\\t\", \"\", line)\n",
    "    \n",
    "    # lower case all words\n",
    "    for index, line in enumerate(lines):\n",
    "        lines[index]= line.lower()\n",
    "        \n",
    "    # Split a line of words into an array of words\n",
    "    words=[]\n",
    "    for line in lines:\n",
    "        words.append(line.split())\n",
    "        \n",
    "    return words\n"
   ]
  },
  {
   "cell_type": "code",
   "execution_count": 4,
   "id": "de05a721",
   "metadata": {},
   "outputs": [],
   "source": [
    "words_test_1= preprocess(base_dir, filename_test_1)"
   ]
  },
  {
   "cell_type": "code",
   "execution_count": 5,
   "id": "b0160c92",
   "metadata": {},
   "outputs": [
    {
     "data": {
      "text/plain": [
       "[['decrease', 'decreases', 'describe', 'describes'],\n",
       " ['decrease', 'decreases', 'eat', 'eats'],\n",
       " ['decrease', 'decreases', 'enhance', 'enhances'],\n",
       " ['decrease', 'decreases', 'estimate', 'estimates'],\n",
       " ['decrease', 'decreases', 'find', 'finds']]"
      ]
     },
     "execution_count": 5,
     "metadata": {},
     "output_type": "execute_result"
    }
   ],
   "source": [
    "# show preprocessed data\n",
    "words_test_1[0:5]"
   ]
  },
  {
   "cell_type": "code",
   "execution_count": 6,
   "id": "42477088",
   "metadata": {},
   "outputs": [
    {
     "data": {
      "text/plain": [
       "870"
      ]
     },
     "execution_count": 6,
     "metadata": {},
     "output_type": "execute_result"
    }
   ],
   "source": [
    "# show number of examles in words list\n",
    "len_words_test_1= len(words_test_1)\n",
    "len_words_test_1"
   ]
  },
  {
   "cell_type": "markdown",
   "id": "7c39a915",
   "metadata": {},
   "source": [
    "### Test on plural-nouns analogy "
   ]
  },
  {
   "cell_type": "code",
   "execution_count": 7,
   "id": "ead99a6a",
   "metadata": {},
   "outputs": [],
   "source": [
    "filename_test_2= 'gram8-plural.txt'"
   ]
  },
  {
   "cell_type": "code",
   "execution_count": 8,
   "id": "82abab5c",
   "metadata": {},
   "outputs": [],
   "source": [
    "words_test_2= preprocess(base_dir, filename_test_2)"
   ]
  },
  {
   "cell_type": "code",
   "execution_count": 9,
   "id": "02338392",
   "metadata": {},
   "outputs": [
    {
     "data": {
      "text/plain": [
       "[['banana', 'bananas', 'bird', 'birds'],\n",
       " ['banana', 'bananas', 'bottle', 'bottles'],\n",
       " ['banana', 'bananas', 'building', 'buildings'],\n",
       " ['banana', 'bananas', 'car', 'cars'],\n",
       " ['banana', 'bananas', 'cat', 'cats']]"
      ]
     },
     "execution_count": 9,
     "metadata": {},
     "output_type": "execute_result"
    }
   ],
   "source": [
    "# show preprocessed data\n",
    "words_test_2[0:5]"
   ]
  },
  {
   "cell_type": "code",
   "execution_count": 10,
   "id": "66d765f3",
   "metadata": {},
   "outputs": [
    {
     "data": {
      "text/plain": [
       "1332"
      ]
     },
     "execution_count": 10,
     "metadata": {},
     "output_type": "execute_result"
    }
   ],
   "source": [
    "# show number of examles in words_test_2 list\n",
    "len_words_test_2= len(words_test_2)\n",
    "len_words_test_2"
   ]
  },
  {
   "cell_type": "markdown",
   "id": "acb9b14a",
   "metadata": {},
   "source": [
    "### Test on capital_common_countries analogy "
   ]
  },
  {
   "cell_type": "code",
   "execution_count": 11,
   "id": "5ccb3a07",
   "metadata": {},
   "outputs": [],
   "source": [
    "filename_test_3= 'capital_common_countries.txt'"
   ]
  },
  {
   "cell_type": "code",
   "execution_count": 12,
   "id": "76409dfa",
   "metadata": {},
   "outputs": [],
   "source": [
    "words_test_3= preprocess(base_dir, filename_test_3)"
   ]
  },
  {
   "cell_type": "code",
   "execution_count": 13,
   "id": "29988fa4",
   "metadata": {},
   "outputs": [
    {
     "data": {
      "text/plain": [
       "[['athens', 'greece', 'baghdad', 'iraq'],\n",
       " ['athens', 'greece', 'bangkok', 'thailand'],\n",
       " ['athens', 'greece', 'beijing', 'china'],\n",
       " ['athens', 'greece', 'berlin', 'germany'],\n",
       " ['athens', 'greece', 'bern', 'switzerland']]"
      ]
     },
     "execution_count": 13,
     "metadata": {},
     "output_type": "execute_result"
    }
   ],
   "source": [
    "# show preprocessed data\n",
    "words_test_3[0:5]"
   ]
  },
  {
   "cell_type": "code",
   "execution_count": 14,
   "id": "196d48ef",
   "metadata": {},
   "outputs": [
    {
     "data": {
      "text/plain": [
       "506"
      ]
     },
     "execution_count": 14,
     "metadata": {},
     "output_type": "execute_result"
    }
   ],
   "source": [
    "# show number of examles in words_test_3 list\n",
    "len_words_test_3= len(words_test_3)\n",
    "len_words_test_3"
   ]
  },
  {
   "cell_type": "markdown",
   "id": "10393e42",
   "metadata": {},
   "source": [
    "### Test on currency analogy "
   ]
  },
  {
   "cell_type": "code",
   "execution_count": 15,
   "id": "be10505b",
   "metadata": {},
   "outputs": [],
   "source": [
    "filename_test_4= 'currency.txt'"
   ]
  },
  {
   "cell_type": "code",
   "execution_count": 16,
   "id": "b9d3356c",
   "metadata": {},
   "outputs": [],
   "source": [
    "words_test_4= preprocess(base_dir, filename_test_4)"
   ]
  },
  {
   "cell_type": "code",
   "execution_count": 17,
   "id": "6240e79e",
   "metadata": {},
   "outputs": [
    {
     "data": {
      "text/plain": [
       "[['algeria', 'dinar', 'angola', 'kwanza'],\n",
       " ['algeria', 'dinar', 'argentina', 'peso'],\n",
       " ['algeria', 'dinar', 'armenia', 'dram'],\n",
       " ['algeria', 'dinar', 'brazil', 'real'],\n",
       " ['algeria', 'dinar', 'bulgaria', 'lev']]"
      ]
     },
     "execution_count": 17,
     "metadata": {},
     "output_type": "execute_result"
    }
   ],
   "source": [
    "# show preprocessed data\n",
    "words_test_4[0:5]"
   ]
  },
  {
   "cell_type": "code",
   "execution_count": 18,
   "id": "2646f81d",
   "metadata": {},
   "outputs": [
    {
     "data": {
      "text/plain": [
       "866"
      ]
     },
     "execution_count": 18,
     "metadata": {},
     "output_type": "execute_result"
    }
   ],
   "source": [
    "# show number of examles in words_test_4 list\n",
    "len_words_test_4= len(words_test_4)\n",
    "len_words_test_4"
   ]
  },
  {
   "cell_type": "markdown",
   "id": "a23ad849",
   "metadata": {},
   "source": [
    "# Glove100d Testing"
   ]
  },
  {
   "cell_type": "code",
   "execution_count": 20,
   "id": "b6adb7bf",
   "metadata": {},
   "outputs": [],
   "source": [
    "# Loading the model\n",
    "glove100d_model = KeyedVectors.load_word2vec_format('/Users/Abdelrahman/scrape/fayd/glove100d', binary=False)"
   ]
  },
  {
   "cell_type": "code",
   "execution_count": 21,
   "id": "b7e0d1ec",
   "metadata": {},
   "outputs": [
    {
     "data": {
      "text/plain": [
       "'ate'"
      ]
     },
     "execution_count": 21,
     "metadata": {},
     "output_type": "execute_result"
    }
   ],
   "source": [
    "# test example \n",
    "word, conf= glove100d_model.most_similar(positive=['decreases','eat'],negative=['decrease'], topn=1)[0]\n",
    "word"
   ]
  },
  {
   "cell_type": "code",
   "execution_count": 22,
   "id": "b5b6166c",
   "metadata": {},
   "outputs": [],
   "source": [
    "def calculate_accuracy(words_list, len_words_list, model_instance):\n",
    "    ''' accuracy is calculated as correctly answered / number of examples. '''\n",
    "    correct_answ=0\n",
    "    for line in tqdm(words_list):\n",
    "        word, conf= model_instance.most_similar(positive=[line[2],line[1]],negative=[line[0]], topn=1)[0]\n",
    "\n",
    "        if word == line[3]:\n",
    "            correct_answ= correct_answ + 1 \n",
    "        \n",
    "    acc = correct_answ / len_words_list\n",
    "    return acc"
   ]
  },
  {
   "cell_type": "markdown",
   "id": "b8da9601",
   "metadata": {},
   "source": [
    "### Glove100d accuracy on plural verbs analogy"
   ]
  },
  {
   "cell_type": "code",
   "execution_count": 23,
   "id": "b5abd8f5",
   "metadata": {},
   "outputs": [
    {
     "name": "stderr",
     "output_type": "stream",
     "text": [
      "100%|██████████| 870/870 [00:11<00:00, 75.44it/s]\n"
     ]
    },
    {
     "data": {
      "text/plain": [
       "0.5839080459770115"
      ]
     },
     "execution_count": 23,
     "metadata": {},
     "output_type": "execute_result"
    }
   ],
   "source": [
    "acc= calculate_accuracy(words_list= words_test_1, len_words_list=len_words_test_1, model_instance=glove100d_model)\n",
    "acc"
   ]
  },
  {
   "cell_type": "markdown",
   "id": "6460f8f1",
   "metadata": {},
   "source": [
    "### Glove100d accuracy on plural-nouns analogy "
   ]
  },
  {
   "cell_type": "code",
   "execution_count": 24,
   "id": "2f43da08",
   "metadata": {},
   "outputs": [
    {
     "name": "stderr",
     "output_type": "stream",
     "text": [
      "100%|██████████| 1332/1332 [00:18<00:00, 72.10it/s]\n"
     ]
    },
    {
     "data": {
      "text/plain": [
       "0.71996996996997"
      ]
     },
     "execution_count": 24,
     "metadata": {},
     "output_type": "execute_result"
    }
   ],
   "source": [
    "acc= calculate_accuracy(words_list= words_test_2, len_words_list=len_words_test_2, model_instance=glove100d_model)\n",
    "acc"
   ]
  },
  {
   "cell_type": "markdown",
   "id": "55ca5d29",
   "metadata": {},
   "source": [
    "### Glove100d accuracy on capital_common_countries analogy "
   ]
  },
  {
   "cell_type": "code",
   "execution_count": 26,
   "id": "7e1b18ff",
   "metadata": {},
   "outputs": [
    {
     "name": "stderr",
     "output_type": "stream",
     "text": [
      "100%|██████████| 506/506 [00:06<00:00, 77.04it/s]\n"
     ]
    },
    {
     "data": {
      "text/plain": [
       "0.9387351778656127"
      ]
     },
     "execution_count": 26,
     "metadata": {},
     "output_type": "execute_result"
    }
   ],
   "source": [
    "acc= calculate_accuracy(words_list= words_test_3, len_words_list=len_words_test_3, model_instance=glove100d_model)\n",
    "acc"
   ]
  },
  {
   "cell_type": "markdown",
   "id": "245176b9",
   "metadata": {},
   "source": [
    "### Glove100d accuracy on currency analogy  "
   ]
  },
  {
   "cell_type": "code",
   "execution_count": 27,
   "id": "b1895e30",
   "metadata": {},
   "outputs": [
    {
     "name": "stderr",
     "output_type": "stream",
     "text": [
      "100%|██████████| 866/866 [00:11<00:00, 74.34it/s]\n"
     ]
    },
    {
     "data": {
      "text/plain": [
       "0.1420323325635104"
      ]
     },
     "execution_count": 27,
     "metadata": {},
     "output_type": "execute_result"
    }
   ],
   "source": [
    "acc= calculate_accuracy(words_list= words_test_4, len_words_list=len_words_test_4, model_instance=glove100d_model)\n",
    "acc"
   ]
  },
  {
   "cell_type": "markdown",
   "id": "e2aec14e",
   "metadata": {},
   "source": [
    "## Glove100d results:"
   ]
  },
  {
   "cell_type": "markdown",
   "id": "749b2e62",
   "metadata": {},
   "source": [
    "| Model | plural verbs| plural nouns | capital common countries | currency |\n",
    "| --- | --- | --- | --- | --- |\n",
    "| Glove100d | 0.58 | 0.71 | 0.93 | 0.14 |"
   ]
  },
  {
   "cell_type": "code",
   "execution_count": null,
   "id": "69c0adb6",
   "metadata": {},
   "outputs": [],
   "source": []
  }
 ],
 "metadata": {
  "kernelspec": {
   "display_name": "Python 3",
   "language": "python",
   "name": "python3"
  },
  "language_info": {
   "codemirror_mode": {
    "name": "ipython",
    "version": 3
   },
   "file_extension": ".py",
   "mimetype": "text/x-python",
   "name": "python",
   "nbconvert_exporter": "python",
   "pygments_lexer": "ipython3",
   "version": "3.6.13"
  }
 },
 "nbformat": 4,
 "nbformat_minor": 5
}
